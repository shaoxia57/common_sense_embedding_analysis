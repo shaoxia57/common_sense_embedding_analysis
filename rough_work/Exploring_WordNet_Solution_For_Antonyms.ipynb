{
 "cells": [
  {
   "cell_type": "code",
   "execution_count": 68,
   "metadata": {},
   "outputs": [],
   "source": [
    "from nltk.corpus import wordnet as wn\n",
    "import json"
   ]
  },
  {
   "cell_type": "code",
   "execution_count": 69,
   "metadata": {},
   "outputs": [],
   "source": [
    "import sys\n",
    "sys.path.append('../')"
   ]
  },
  {
   "cell_type": "code",
   "execution_count": 78,
   "metadata": {},
   "outputs": [],
   "source": [
    "# loading all 60 Truism Sets\n",
    "with open(\"../data/truism_data/balanced_param_data.json\", \"r\") as f:\n",
    "    all_truisms = json.load(f)"
   ]
  },
  {
   "cell_type": "markdown",
   "metadata": {},
   "source": [
    "### Breaking down sets by the type of antonym switch that needs to take place\n",
    "\n",
    "Categories are:\n",
    "* one word to one word switch\n",
    "* one word to multiple words switch\n",
    "* multi-word to multi-word switch, but only one word needs to be flipped\n",
    "* multi-word to one word switch\n",
    "* multi-word to multi-word switch\n",
    "\n",
    "*^-- original-property-statement to antonym-property-statement*"
   ]
  },
  {
   "cell_type": "code",
   "execution_count": 71,
   "metadata": {},
   "outputs": [
    {
     "name": "stdout",
     "output_type": "stream",
     "text": [
      "one_word_to_one_word truism count: 27\n",
      "one_word_to_multi_word count: 3\n",
      "one_word_flip count: 16\n",
      "multi_word_to_one_word count: 1\n",
      "multi_word_to_multi_word: 13\n"
     ]
    }
   ],
   "source": [
    "# property and antonym are both one word\n",
    "one_word_to_one_word = 0\n",
    "one_word_to_one_word_dict = {}\n",
    "\n",
    "# property is one word, but antonym is multi-word\n",
    "one_word_to_multi_word = 0\n",
    "one_word_to_multi_word_dict = {}\n",
    "\n",
    "# property and antonym are multi-word but only differ by one word\n",
    "one_word_flip = 0\n",
    "one_word_flip_dict = {}\n",
    "\n",
    "# property is multi-word, but antonym is one word\n",
    "multi_word_to_one_word = 0\n",
    "multi_word_to_one_word_dict = {}\n",
    "\n",
    "# property and antonym are both multi-word\n",
    "multi_word_to_multi_word = 0\n",
    "multi_word_to_multi_word_dict = {}\n",
    "\n",
    "for truism in all_truisms:\n",
    "    antonym_switch = all_truisms[truism][\"antonym_switch\"]\n",
    "    parts_1 = antonym_switch[0].split(\" \")\n",
    "    parts_2 = antonym_switch[1].split(\" \")\n",
    "    \n",
    "    if len(parts_1) == 1:\n",
    "        if len(parts_2) == 1:\n",
    "            one_word_to_one_word += 1\n",
    "            one_word_to_one_word_dict[truism] = antonym_switch\n",
    "        else:\n",
    "            one_word_to_multi_word += 1\n",
    "            one_word_to_multi_word_dict[truism] = antonym_switch\n",
    "    \n",
    "    elif len(set(parts_1).intersection(set(parts_2))) == len(parts_1)-1:\n",
    "        one_word_flip += 1\n",
    "        one_word_flip_dict[truism] = antonym_switch\n",
    "    \n",
    "    else:\n",
    "        if len(parts_2) == 1:\n",
    "            multi_word_to_one_word += 1\n",
    "            multi_word_to_one_word_dict[truism] = antonym_switch\n",
    "        else:\n",
    "            multi_word_to_multi_word += 1\n",
    "            multi_word_to_multi_word_dict[truism] = antonym_switch\n",
    "\n",
    "print(\"one_word_to_one_word truism count: {}\".format(one_word_to_one_word))\n",
    "print(\"one_word_to_multi_word count: {}\".format(one_word_to_multi_word))\n",
    "print(\"one_word_flip count: {}\".format(one_word_flip))\n",
    "print(\"multi_word_to_one_word count: {}\".format(multi_word_to_one_word))\n",
    "print(\"multi_word_to_multi_word: {}\".format(multi_word_to_multi_word))"
   ]
  },
  {
   "cell_type": "markdown",
   "metadata": {},
   "source": [
    "### WordNet can only natively handle one word at a time, so here I'm looking at the 27 one_word_to_one_word pairs"
   ]
  },
  {
   "cell_type": "code",
   "execution_count": 72,
   "metadata": {},
   "outputs": [
    {
     "name": "stdout",
     "output_type": "stream",
     "text": [
      "human inputed antonym found for 3 truisms\n",
      "wordnet provided possible antonyms for 17 truisms\n",
      "wordnet found no potential antonyms for 7 truisms\n"
     ]
    }
   ],
   "source": [
    "# human inputed antonym returned by word_net\n",
    "found_in_wn = 0\n",
    "found_in_wn_dict = {}\n",
    "\n",
    "# set of antonym's do exist in wordnet\n",
    "found_ant = 0\n",
    "found_ant_dict = {}\n",
    "\n",
    "# nothing found in wordnet\n",
    "not_found = 0\n",
    "not_found_dict = {}\n",
    "\n",
    "for key in one_word_to_one_word_dict:\n",
    "    antonym_switch = one_word_to_one_word_dict[key]\n",
    "    found = False\n",
    "    for synset in wn.synsets(antonym_switch[0]):\n",
    "        for l in synset.lemmas():\n",
    "            for antonym in l.antonyms():\n",
    "                if antonym.name() == antonym_switch[1]:\n",
    "                    found_in_wn += 1\n",
    "                    found_in_wn_dict[key] = antonym_switch\n",
    "                    found = True\n",
    "                elif len(antonym.name()):\n",
    "                    found_ant += 1\n",
    "                    found_ant_dict[key] = antonym_switch\n",
    "                    found = True\n",
    "                \n",
    "                if found:\n",
    "                    break\n",
    "            if found:\n",
    "                break\n",
    "        if found:\n",
    "            break\n",
    "    if not found:\n",
    "        not_found += 1\n",
    "        not_found_dict[key] = antonym_switch\n",
    "\n",
    "print(\"human inputed antonym found for {} truisms\".format(found_in_wn))\n",
    "print(\"wordnet provided possible antonyms for {} truisms\".format(found_ant))\n",
    "print(\"wordnet found no potential antonyms for {} truisms\".format(not_found))"
   ]
  },
  {
   "cell_type": "code",
   "execution_count": 91,
   "metadata": {},
   "outputs": [
    {
     "data": {
      "text/plain": [
       "{'0': ['transparent', 'opaque'],\n",
       " '4': ['fragile', 'sturdy'],\n",
       " '8': ['ductile', 'rigid'],\n",
       " '9': ['foldable', 'rigid'],\n",
       " '24': ['melt', 'freeze'],\n",
       " '33': ['detect', 'ignore'],\n",
       " '52': ['sinning', 'praying']}"
      ]
     },
     "execution_count": 91,
     "metadata": {},
     "output_type": "execute_result"
    }
   ],
   "source": [
    "# Pairs that nothing was found\n",
    "not_found_dict"
   ]
  },
  {
   "cell_type": "markdown",
   "metadata": {},
   "source": [
    "### For the 17 pairs that Wordnet returns at least one possible antonym, here are the canditate antonyms\n",
    "\n",
    "* Results aren't terrible"
   ]
  },
  {
   "cell_type": "code",
   "execution_count": 79,
   "metadata": {},
   "outputs": [
    {
     "name": "stdout",
     "output_type": "stream",
     "text": [
      "Original Word: sharp, Wordnet provided: ['dull', 'flat', 'natural'], Ours: blunt\n",
      "-----------------\n",
      "Original Word: heavy, Wordnet provided: ['light'], Ours: lightweight\n",
      "-----------------\n",
      "Original Word: soft, Wordnet provided: ['hard', 'loud', 'unvoiced', 'hardened', 'forte'], Ours: coarse\n",
      "-----------------\n",
      "Original Word: consume, Wordnet provided: ['abstain'], Ours: avoid\n",
      "-----------------\n",
      "Original Word: penetrable, Wordnet provided: ['impenetrable'], Ours: tough\n",
      "-----------------\n",
      "Original Word: sinking, Wordnet provided: ['float'], Ours: floating\n",
      "-----------------\n",
      "Original Word: skilled, Wordnet provided: ['unskilled'], Ours: incompetent\n",
      "-----------------\n",
      "Original Word: relaxed, Wordnet provided: ['tense', 'stiffen', 'strain'], Ours: nervous\n",
      "-----------------\n",
      "Original Word: happy, Wordnet provided: ['unhappy'], Ours: sad\n",
      "-----------------\n",
      "Original Word: effective, Wordnet provided: ['ineffective'], Ours: unproductive\n",
      "-----------------\n",
      "Original Word: kind, Wordnet provided: ['unkind'], Ours: mean\n",
      "-----------------\n",
      "Original Word: respect, Wordnet provided: ['disesteem', 'disrespect'], Ours: dishonor\n",
      "-----------------\n",
      "Original Word: relaxed, Wordnet provided: ['tense', 'stiffen', 'strain'], Ours: awkward\n",
      "-----------------\n",
      "Original Word: failing, Wordnet provided: ['passing', 'succeed', 'manage', 'pass'], Ours: succeeding\n",
      "-----------------\n",
      "Original Word: insensitive, Wordnet provided: ['sensitive'], Ours: thoughtful\n",
      "-----------------\n",
      "Original Word: thoughtful, Wordnet provided: ['thoughtless', 'heedless'], Ours: selfish\n",
      "-----------------\n",
      "Original Word: informed, Wordnet provided: ['uninformed'], Ours: ignorant\n",
      "-----------------\n"
     ]
    }
   ],
   "source": [
    "for key in found_ant_dict:\n",
    "    antonym_switch = one_word_to_one_word_dict[key]\n",
    "    possible_antonyms = {}\n",
    "    for synset in wn.synsets(antonym_switch[0]):\n",
    "        for l in synset.lemmas():\n",
    "            for antonym in l.antonyms():\n",
    "                possible_antonyms[antonym.name()] = 1\n",
    "    \n",
    "    print(\"Original Word: {}, Wordnet provided: {}, Ours: {}\".format(antonym_switch[0],\n",
    "                                                                     list(possible_antonyms.keys()), \n",
    "                                                                     antonym_switch[1]))\n",
    "    print(\"-----------------\")"
   ]
  },
  {
   "cell_type": "markdown",
   "metadata": {},
   "source": [
    "### There is one other case that Wordnet can help with, where there is one_word_flip, but the actual concept/property must be expressed in multiple words\n",
    "\n",
    "* one_word_flip_dict\n",
    "\n",
    "I would like to say though, this concept of one_word_flip isn't one we would have knowledge of before hand, so knowing that a concept can be flipped by using one word would have to be detected and then you would have to find the apporpriate word. Maybe something with POS / parse trees can help us here though.\n"
   ]
  },
  {
   "cell_type": "code",
   "execution_count": 89,
   "metadata": {},
   "outputs": [
    {
     "name": "stdout",
     "output_type": "stream",
     "text": [
      "human inputed antonym found for 2 truisms\n",
      "wordnet provided possible antonyms for 8 truisms\n",
      "wordnet found no potential antonyms for 6 truisms\n"
     ]
    }
   ],
   "source": [
    "# human inputed antonym returned by word_net\n",
    "flip_found_in_wn = 0\n",
    "flip_found_in_wn_dict = {}\n",
    "\n",
    "# set of antonym's do exist in wordnet\n",
    "flip_found_ant = 0\n",
    "flip_found_ant_dict = {}\n",
    "\n",
    "# nothing found in wordnet\n",
    "flip_not_found = 0\n",
    "flip_not_found_dict = {}\n",
    "\n",
    "for key in one_word_flip_dict:\n",
    "    antonym_switch = one_word_flip_dict[key]\n",
    "    parts1 = antonym_switch[0].split(\" \")\n",
    "    parts2 = antonym_switch[1].split(\" \")\n",
    "    \n",
    "    word_that_needs_be_switched = [x for x in parts1 if x not in parts2][0]\n",
    "    word_that_is_human_inputted = [x for x in parts2 if x not in parts1][0]\n",
    "    found = False\n",
    "    for synset in wn.synsets(word_that_needs_be_switched):\n",
    "        for l in synset.lemmas():\n",
    "            for antonym in l.antonyms():\n",
    "                if antonym.name() == word_that_is_human_inputted:\n",
    "                    flip_found_in_wn += 1\n",
    "                    flip_found_in_wn_dict[key] = antonym_switch\n",
    "                    found = True\n",
    "                elif len(antonym.name()):\n",
    "                    flip_found_ant += 1\n",
    "                    flip_found_ant_dict[key] = antonym_switch\n",
    "                    found = True\n",
    "                \n",
    "                if found:\n",
    "                    break\n",
    "            if found:\n",
    "                break\n",
    "        if found:\n",
    "            break\n",
    "    if not found:\n",
    "        flip_not_found += 1\n",
    "        flip_not_found_dict[key] = antonym_switch\n",
    "\n",
    "print(\"human inputed antonym found for {} truisms\".format(flip_found_in_wn))\n",
    "print(\"wordnet provided possible antonyms for {} truisms\".format(flip_found_ant))\n",
    "print(\"wordnet found no potential antonyms for {} truisms\".format(flip_not_found))"
   ]
  },
  {
   "cell_type": "code",
   "execution_count": 90,
   "metadata": {},
   "outputs": [
    {
     "data": {
      "text/plain": [
       "{'7': ['water resistance', 'water absorption'],\n",
       " '15': ['safe to store', 'safe to dispose of'],\n",
       " '19': ['reflect light', 'absorb light'],\n",
       " '28': ['lengthy shadow', 'minature shadow'],\n",
       " '32': ['discern in water', 'conceal in water'],\n",
       " '56': ['proficient tennis player', 'inadequate tennis player']}"
      ]
     },
     "execution_count": 90,
     "metadata": {},
     "output_type": "execute_result"
    }
   ],
   "source": [
    "# Pairs that nothing was found\n",
    "flip_not_found_dict"
   ]
  },
  {
   "cell_type": "markdown",
   "metadata": {},
   "source": [
    "### For the 8 pairs that Wordnet returns at least one possible antonym for in the one word flip case here are the canditate antonyms\n",
    "* Again results aren't terrible"
   ]
  },
  {
   "cell_type": "code",
   "execution_count": 76,
   "metadata": {},
   "outputs": [
    {
     "name": "stdout",
     "output_type": "stream",
     "text": [
      "Original Word: expand, Wordnet provided: ['contract'], Ours: maintain\n",
      "-----------------\n",
      "Original Word: support, Wordnet provided: ['negate'], Ours: crumble\n",
      "-----------------\n",
      "Original Word: dangerous, Wordnet provided: ['safe'], Ours: innocuous\n",
      "-----------------\n",
      "Original Word: displace, Wordnet provided: ['hire'], Ours: leave\n",
      "-----------------\n",
      "Original Word: difficult, Wordnet provided: ['easy', 'manageable'], Ours: convenient\n",
      "-----------------\n",
      "Original Word: withstanding, Wordnet provided: ['surrender'], Ours: breaking\n",
      "-----------------\n",
      "Original Word: painful, Wordnet provided: ['painless'], Ours: pleasant\n",
      "-----------------\n",
      "Original Word: secure, Wordnet provided: ['unfasten', 'insecure'], Ours: unstable\n",
      "-----------------\n"
     ]
    }
   ],
   "source": [
    "for key in flip_found_ant_dict:\n",
    "    antonym_switch = flip_found_ant_dict[key]\n",
    "    parts1 = antonym_switch[0].split(\" \")\n",
    "    parts2 = antonym_switch[1].split(\" \")\n",
    "    \n",
    "    word_that_needs_be_switched = [x for x in parts1 if x not in parts2][0]\n",
    "    word_that_is_human_inputted = [x for x in parts2 if x not in parts1][0]\n",
    "    \n",
    "    possible_antonyms = {}\n",
    "    for synset in wn.synsets(word_that_needs_be_switched):\n",
    "        for l in synset.lemmas():\n",
    "            for antonym in l.antonyms():\n",
    "                possible_antonyms[antonym.name()] = 1\n",
    "    \n",
    "    print(\"Original Word: {}, Wordnet provided: {}, Ours: {}\".format(word_that_needs_be_switched,\n",
    "                                                                     list(possible_antonyms.keys()), \n",
    "                                                                     word_that_is_human_inputted))\n",
    "    print(\"-----------------\")"
   ]
  },
  {
   "cell_type": "code",
   "execution_count": null,
   "metadata": {},
   "outputs": [],
   "source": []
  },
  {
   "cell_type": "markdown",
   "metadata": {},
   "source": [
    "### Core function that you can use below to try out some words"
   ]
  },
  {
   "cell_type": "code",
   "execution_count": 85,
   "metadata": {},
   "outputs": [],
   "source": [
    "def get_antonyms(word):\n",
    "    antonyms = {}\n",
    "    for synset in wn.synsets(word_that_needs_be_switched):\n",
    "        for l in synset.lemmas():\n",
    "            for antonym in l.antonyms():\n",
    "                antonyms[antonym.name()] = 1\n",
    "    return list(antonyms.keys())"
   ]
  },
  {
   "cell_type": "code",
   "execution_count": 88,
   "metadata": {},
   "outputs": [
    {
     "data": {
      "text/plain": [
       "[]"
      ]
     },
     "execution_count": 88,
     "metadata": {},
     "output_type": "execute_result"
    }
   ],
   "source": [
    "get_antonyms(\"reflect\")"
   ]
  },
  {
   "cell_type": "markdown",
   "metadata": {},
   "source": [
    "In general I think its clear the WordNet alone will not solve our problems, as it can't natively handle multi-word cases, it doesn't always return any canditate antonyms for a word, and when it returns canditates they aren't always ones that capture the sense we are looking for."
   ]
  },
  {
   "cell_type": "code",
   "execution_count": null,
   "metadata": {},
   "outputs": [],
   "source": []
  }
 ],
 "metadata": {
  "kernelspec": {
   "display_name": "Python 3",
   "language": "python",
   "name": "python3"
  },
  "language_info": {
   "codemirror_mode": {
    "name": "ipython",
    "version": 3
   },
   "file_extension": ".py",
   "mimetype": "text/x-python",
   "name": "python",
   "nbconvert_exporter": "python",
   "pygments_lexer": "ipython3",
   "version": "3.6.5"
  }
 },
 "nbformat": 4,
 "nbformat_minor": 4
}
