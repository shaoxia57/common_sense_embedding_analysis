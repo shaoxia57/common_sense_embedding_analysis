{
 "cells": [
  {
   "cell_type": "code",
   "execution_count": 1,
   "metadata": {},
   "outputs": [],
   "source": [
    "%load_ext autoreload\n",
    "%autoreload 2"
   ]
  },
  {
   "cell_type": "code",
   "execution_count": 3,
   "metadata": {},
   "outputs": [],
   "source": [
    "import pandas as pd\n",
    "import json\n",
    "import numpy as np\n",
    "import matplotlib.pyplot as plt\n",
    "import matplotlib\n",
    "from exploration_utils import *"
   ]
  },
  {
   "cell_type": "code",
   "execution_count": 4,
   "metadata": {},
   "outputs": [],
   "source": [
    "material_data = pd.read_csv(\"result_data/material_perf_10.csv\")\n",
    "\n",
    "social_data = pd.read_csv(\"result_data/social_perf_10.csv\")\n",
    "\n",
    "physical_data = pd.read_csv(\"result_data/physical_perf_10.csv\")\n",
    "\n",
    "with open(\"truism_data/physical_data.json\", \"r\") as f:\n",
    "    physical_params = json.load(f)\n",
    "\n",
    "with open(\"truism_data/material_data.json\", \"r\") as f:\n",
    "    material_params = json.load(f)\n",
    "\n",
    "with open(\"truism_data/social_data.json\", \"r\") as f:\n",
    "    social_params = json.load(f)"
   ]
  },
  {
   "cell_type": "code",
   "execution_count": 8,
   "metadata": {},
   "outputs": [],
   "source": [
    "linguistic_operations = [\"original-original\", \"negation-original\", \"antonym-original\", \"paraphrase-original\", \n",
    "                         \"paraphrase_inversion-original\",\n",
    "                         \"negation_antondym-original\", \"negation_paraphrase-original\", \n",
    "                         \"negation_paraphrase_inversion-original\"]"
   ]
  },
  {
   "cell_type": "code",
   "execution_count": 78,
   "metadata": {},
   "outputs": [],
   "source": [
    "perturbation_more_less_count = {}\n",
    "for operator in linguistic_operations:\n",
    "    perturbation_more_less_count[operator] = {\"more\" : 0, \"less\" : 0, \"other\" : 0}\n",
    "for entry in physical_params:\n",
    "    premise_switch = physical_params[entry][\"premise_switch\"]\n",
    "    \n",
    "    if premise_switch[\"0\"][0] == \"more\":\n",
    "        perturbation_more_less_count[\"original-original\"][\"more\"] += 1\n",
    "        perturbation_more_less_count[\"negation_antonym-original\"][\"more\"] += 1\n",
    "    elif premise_switch[\"0\"][0] == \"less\":\n",
    "        perturbation_more_less_count[\"original-original\"][\"less\"] += 1\n",
    "        perturbation_more_less_count[\"negation_antonym-original\"][\"less\"] += 1\n",
    "    else:\n",
    "        perturbation_more_less_count[\"original-original\"][\"other\"] += 1\n",
    "        perturbation_more_less_count[\"negation_antonym-original\"][\"other\"] += 1\n",
    "    \n",
    "    if premise_switch[\"0\"][1] == \"more\":\n",
    "        perturbation_more_less_count[\"negation-original\"][\"more\"] += 1\n",
    "        perturbation_more_less_count[\"antonym-original\"][\"more\"] += 1\n",
    "    elif premise_switch[\"0\"][1] == \"less\":\n",
    "        perturbation_more_less_count[\"negation-original\"][\"less\"] += 1\n",
    "        perturbation_more_less_count[\"antonym-original\"][\"less\"] += 1\n",
    "    else:\n",
    "        perturbation_more_less_count[\"negation-original\"][\"other\"] += 1\n",
    "        perturbation_more_less_count[\"antonym-original\"][\"other\"] += 1\n",
    "    \n",
    "    if premise_switch[\"1\"][0] == \"more\":\n",
    "        perturbation_more_less_count[\"paraphrase-original\"][\"more\"] += 1\n",
    "    elif premise_switch[\"1\"][0] == \"less\":\n",
    "        perturbation_more_less_count[\"paraphrase-original\"][\"less\"] += 1\n",
    "    else:\n",
    "        perturbation_more_less_count[\"paraphrase-original\"][\"other\"] += 1\n",
    "    \n",
    "    if premise_switch[\"1\"][1] == \"more\":\n",
    "        perturbation_more_less_count[\"negation_paraphrase-original\"][\"more\"] += 1\n",
    "    elif premise_switch[\"1\"][1] == \"less\":\n",
    "        perturbation_more_less_count[\"negation_paraphrase-original\"][\"less\"] += 1\n",
    "    else:\n",
    "        perturbation_more_less_count[\"negation_paraphrase-original\"][\"other\"] += 1\n",
    "    \n",
    "    if premise_switch[\"2\"][0] == \"more\":\n",
    "        perturbation_more_less_count[\"paraphrase_inversion-original\"][\"more\"] += 1\n",
    "    elif premise_switch[\"2\"][0] == \"less\":\n",
    "        perturbation_more_less_count[\"paraphrase_inversion-original\"][\"less\"] += 1\n",
    "    else:\n",
    "        perturbation_more_less_count[\"paraphrase_inversion-original\"][\"other\"] += 1\n",
    "    \n",
    "    if premise_switch[\"2\"][1] == \"more\":\n",
    "        perturbation_more_less_count[\"negation_paraphrase_inversion-original\"][\"more\"] += 1\n",
    "    elif premise_switch[\"2\"][1] == \"less\":\n",
    "        perturbation_more_less_count[\"negation_paraphrase_inversion-original\"][\"less\"] += 1\n",
    "    else:\n",
    "        perturbation_more_less_count[\"negation_paraphrase_inversion-original\"][\"other\"] += 1\n",
    "    \n",
    "for entry in material_params:\n",
    "    premise_switch = material_params[entry][\"premise_switch\"]\n",
    "    if premise_switch[\"0\"][0] == \"more\":\n",
    "        perturbation_more_less_count[\"original-original\"][\"more\"] += 1\n",
    "        perturbation_more_less_count[\"negation_antonym-original\"][\"more\"] += 1\n",
    "    elif premise_switch[\"0\"][0] == \"less\":\n",
    "        perturbation_more_less_count[\"original-original\"][\"less\"] += 1\n",
    "        perturbation_more_less_count[\"negation_antonym-original\"][\"less\"] += 1\n",
    "    else:\n",
    "        perturbation_more_less_count[\"original-original\"][\"other\"] += 1\n",
    "        perturbation_more_less_count[\"negation_antonym-original\"][\"other\"] += 1\n",
    "    \n",
    "    if premise_switch[\"0\"][1] == \"more\":\n",
    "        perturbation_more_less_count[\"negation-original\"][\"more\"] += 1\n",
    "        perturbation_more_less_count[\"antonym-original\"][\"more\"] += 1\n",
    "    elif premise_switch[\"0\"][1] == \"less\":\n",
    "        perturbation_more_less_count[\"negation-original\"][\"less\"] += 1\n",
    "        perturbation_more_less_count[\"antonym-original\"][\"less\"] += 1\n",
    "    else:\n",
    "        perturbation_more_less_count[\"negation-original\"][\"other\"] += 1\n",
    "        perturbation_more_less_count[\"antonym-original\"][\"other\"] += 1\n",
    "    \n",
    "    if premise_switch[\"1\"][0] == \"more\":\n",
    "        perturbation_more_less_count[\"paraphrase-original\"][\"more\"] += 1\n",
    "    elif premise_switch[\"1\"][0] == \"less\":\n",
    "        perturbation_more_less_count[\"paraphrase-original\"][\"less\"] += 1\n",
    "    else:\n",
    "        perturbation_more_less_count[\"paraphrase-original\"][\"other\"] += 1\n",
    "    \n",
    "    if premise_switch[\"1\"][1] == \"more\":\n",
    "        perturbation_more_less_count[\"negation_paraphrase-original\"][\"more\"] += 1\n",
    "    elif premise_switch[\"1\"][1] == \"less\":\n",
    "        perturbation_more_less_count[\"negation_paraphrase-original\"][\"less\"] += 1\n",
    "    else:\n",
    "        perturbation_more_less_count[\"negation_paraphrase-original\"][\"other\"] += 1\n",
    "    \n",
    "    if premise_switch[\"2\"][0] == \"more\":\n",
    "        perturbation_more_less_count[\"paraphrase_inversion-original\"][\"more\"] += 1\n",
    "    elif premise_switch[\"2\"][0] == \"less\":\n",
    "        perturbation_more_less_count[\"paraphrase_inversion-original\"][\"less\"] += 1\n",
    "    else:\n",
    "        perturbation_more_less_count[\"paraphrase_inversion-original\"][\"other\"] += 1\n",
    "    \n",
    "    if premise_switch[\"2\"][1] == \"more\":\n",
    "        perturbation_more_less_count[\"negation_paraphrase_inversion-original\"][\"more\"] += 1\n",
    "    elif premise_switch[\"2\"][1] == \"less\":\n",
    "        perturbation_more_less_count[\"negation_paraphrase_inversion-original\"][\"less\"] += 1\n",
    "    else:\n",
    "        perturbation_more_less_count[\"negation_paraphrase_inversion-original\"][\"other\"] += 1\n",
    "\n",
    "for entry in social_params:\n",
    "    premise_switch = social_params[entry][\"premise_switch\"]\n",
    "    if premise_switch[\"0\"][0] == \"more\":\n",
    "        perturbation_more_less_count[\"original-original\"][\"more\"] += 1\n",
    "        perturbation_more_less_count[\"negation_antonym-original\"][\"more\"] += 1\n",
    "    elif premise_switch[\"0\"][0] == \"less\":\n",
    "        perturbation_more_less_count[\"original-original\"][\"less\"] += 1\n",
    "        perturbation_more_less_count[\"negation_antonym-original\"][\"less\"] += 1\n",
    "    else:\n",
    "        perturbation_more_less_count[\"original-original\"][\"other\"] += 1\n",
    "        perturbation_more_less_count[\"negation_antonym-original\"][\"other\"] += 1\n",
    "    \n",
    "    if premise_switch[\"0\"][1] == \"more\":\n",
    "        perturbation_more_less_count[\"negation-original\"][\"more\"] += 1\n",
    "        perturbation_more_less_count[\"antonym-original\"][\"more\"] += 1\n",
    "    elif premise_switch[\"0\"][1] == \"less\":\n",
    "        perturbation_more_less_count[\"negation-original\"][\"less\"] += 1\n",
    "        perturbation_more_less_count[\"antonym-original\"][\"less\"] += 1\n",
    "    else:\n",
    "        perturbation_more_less_count[\"negation-original\"][\"other\"] += 1\n",
    "        perturbation_more_less_count[\"antonym-original\"][\"other\"] += 1\n",
    "    \n",
    "    if premise_switch[\"1\"][0] == \"more\":\n",
    "        perturbation_more_less_count[\"paraphrase-original\"][\"more\"] += 1\n",
    "    elif premise_switch[\"1\"][0] == \"less\":\n",
    "        perturbation_more_less_count[\"paraphrase-original\"][\"less\"] += 1\n",
    "    else:\n",
    "        perturbation_more_less_count[\"paraphrase-original\"][\"other\"] += 1\n",
    "    \n",
    "    if premise_switch[\"1\"][1] == \"more\":\n",
    "        perturbation_more_less_count[\"negation_paraphrase-original\"][\"more\"] += 1\n",
    "    elif premise_switch[\"1\"][1] == \"less\":\n",
    "        perturbation_more_less_count[\"negation_paraphrase-original\"][\"less\"] += 1\n",
    "    else:\n",
    "        perturbation_more_less_count[\"negation_paraphrase-original\"][\"other\"] += 1\n",
    "    \n",
    "    if premise_switch[\"2\"][0] == \"more\":\n",
    "        perturbation_more_less_count[\"paraphrase_inversion-original\"][\"more\"] += 1\n",
    "    elif premise_switch[\"2\"][0] == \"less\":\n",
    "        perturbation_more_less_count[\"paraphrase_inversion-original\"][\"less\"] += 1\n",
    "    else:\n",
    "        perturbation_more_less_count[\"paraphrase_inversion-original\"][\"other\"] += 1\n",
    "    \n",
    "    if premise_switch[\"2\"][1] == \"more\":\n",
    "        perturbation_more_less_count[\"negation_paraphrase_inversion-original\"][\"more\"] += 1\n",
    "    elif premise_switch[\"2\"][1] == \"less\":\n",
    "        perturbation_more_less_count[\"negation_paraphrase_inversion-original\"][\"less\"] += 1\n",
    "    else:\n",
    "        perturbation_more_less_count[\"negation_paraphrase_inversion-original\"][\"other\"] += 1"
   ]
  },
  {
   "cell_type": "code",
   "execution_count": 79,
   "metadata": {},
   "outputs": [
    {
     "data": {
      "text/plain": [
       "{'original-original': {'more': 50, 'less': 7, 'other': 3},\n",
       " 'negation-original': {'more': 7, 'less': 50, 'other': 3},\n",
       " 'antonym-original': {'more': 7, 'less': 50, 'other': 3},\n",
       " 'paraphrase-original': {'more': 46, 'less': 6, 'other': 8},\n",
       " 'paraphrase_inversion-original': {'more': 5, 'less': 52, 'other': 3},\n",
       " 'negation_antonym-original': {'more': 50, 'less': 7, 'other': 3},\n",
       " 'negation_paraphrase-original': {'more': 6, 'less': 46, 'other': 8},\n",
       " 'negation_paraphrase_inversion-original': {'more': 53, 'less': 5, 'other': 2}}"
      ]
     },
     "execution_count": 79,
     "metadata": {},
     "output_type": "execute_result"
    }
   ],
   "source": [
    "perturbation_more_less_count"
   ]
  },
  {
   "cell_type": "code",
   "execution_count": 80,
   "metadata": {},
   "outputs": [],
   "source": [
    "more_rate = {}\n",
    "for key in perturbation_more_less_count:\n",
    "    more_rate[key] = perturbation_more_less_count[key][\"more\"] / 60.0"
   ]
  },
  {
   "cell_type": "code",
   "execution_count": 81,
   "metadata": {},
   "outputs": [
    {
     "data": {
      "text/plain": [
       "{'original-original': 0.8333333333333334,\n",
       " 'negation-original': 0.11666666666666667,\n",
       " 'antonym-original': 0.11666666666666667,\n",
       " 'paraphrase-original': 0.7666666666666667,\n",
       " 'paraphrase_inversion-original': 0.08333333333333333,\n",
       " 'negation_antonym-original': 0.8333333333333334,\n",
       " 'negation_paraphrase-original': 0.1,\n",
       " 'negation_paraphrase_inversion-original': 0.8833333333333333}"
      ]
     },
     "execution_count": 81,
     "metadata": {},
     "output_type": "execute_result"
    }
   ],
   "source": [
    "more_rate"
   ]
  },
  {
   "cell_type": "code",
   "execution_count": 127,
   "metadata": {},
   "outputs": [],
   "source": [
    "def display_two_bar_plots(x_labels, x_label, y_unit, data_one_label, data_two_label,\n",
    "                              data_one, data_two, title, save=False):\n",
    "    \n",
    "    # https://matplotlib.org/gallery/api/two_scales.html\n",
    "    \n",
    "    # https://matplotlib.org/gallery/lines_bars_and_markers/barchart.html#sphx-glr-gallery-lines-bars-and-markers-barchart-py\n",
    "    fig, ax1 = plt.subplots()\n",
    "    x = np.arange(len(x_labels))\n",
    "    width = 0.35\n",
    "    \n",
    "    color = 'tab:red'\n",
    "    ax1.set_ylabel(y_unit)\n",
    "    ax1.set_ylim(bottom=0, top=1)\n",
    "    rects1 = ax1.bar(x - width/2, data_one, width, label=data_one_label, color=color)\n",
    "    ax1.tick_params(axis='y')\n",
    "    ax1.set_xticks(x)\n",
    "    ax1.set_xticklabels(x_labels, rotation=45)\n",
    "    ax1.set_xlabel(x_label)\n",
    "    \n",
    "    color = 'tab:blue'\n",
    "    rects2 = ax1.bar(x + width/2, data_two, width, label=data_two_label, color=color)\n",
    "    \n",
    "    ax1.legend(loc=6, fontsize=10)\n",
    "    \n",
    "    autolabel(rects1, ax1, \"tab:red\", False)\n",
    "    autolabel(rects2, ax1, \"tab:blue\", True)\n",
    "    \n",
    "    ax1.set_title(title)\n",
    "    \n",
    "    fig.tight_layout()  # otherwise the right y-label is slightly clipped\n",
    "    if save:\n",
    "        plt.savefig(\"visual_data/{}.pdf\".format(title), format='pdf', dpi=1200)\n",
    "#         fig.savefig('myimage.svg', )\n",
    "    \n",
    "    plt.show()"
   ]
  },
  {
   "cell_type": "code",
   "execution_count": 128,
   "metadata": {},
   "outputs": [],
   "source": [
    "templates = get_templates([physical_params, material_params, social_params])\n",
    "template_perturb_dict = get_perturbations(material_data, templates)\n",
    "for key in template_perturb_dict:\n",
    "    template_perturb_dict[key][\"count\"] = 0\n",
    "perturbation_order = get_perturbation_order(material_data, 24)\n",
    "template_perturb_dict = fill_pertubation_data(material_data, material_params, template_perturb_dict)\n",
    "template_perturb_dict = fill_pertubation_data(physical_data, physical_params, template_perturb_dict)\n",
    "template_perturb_dict = fill_pertubation_data(social_data, social_params, template_perturb_dict)\n",
    "\n",
    "perturbation_accuracy = aggregate_pertubations(template_perturb_dict, \"accuracy\")\n",
    "perturbation_ratio = aggregate_pertubations(template_perturb_dict, \"ratio_score\")\n",
    "\n",
    "linguistic_operations = [\"original-original\", \"negation-original\", \"antonym-original\", \"paraphrase-original\", \n",
    "                         \"paraphrase_inversion-original\",\n",
    "                         \"negation_antonym-original\", \"negation_paraphrase-original\", \n",
    "                         \"negation_paraphrase_inversion-original\"]\n",
    "\n",
    "grouped_perturbation_accuracy = {}\n",
    "for operator in linguistic_operations:\n",
    "    count = 0\n",
    "    total = 0\n",
    "    for key in perturbation_accuracy:\n",
    "        if key == operator:\n",
    "            count += perturbation_accuracy[key][\"count\"]\n",
    "            total += perturbation_accuracy[key][\"total\"]\n",
    "    grouped_perturbation_accuracy[operator] = count / total"
   ]
  },
  {
   "cell_type": "code",
   "execution_count": 130,
   "metadata": {},
   "outputs": [
    {
     "data": {
      "image/png": "[encoded data removed]",
      "text/plain": [
       "<Figure size 432x288 with 1 Axes>"
      ]
     },
     "metadata": {
      "needs_background": "light"
     },
     "output_type": "display_data"
    }
   ],
   "source": [
    "x_labels = [\"orig\", \"neg\", \"ant\", \"para\", \"para_inv\", \"neg_ant\", \"neg_para\", \"neg_para_inv\"]\n",
    "x_label = \"Linguistic Operators (60 trials each)\"\n",
    "y_unit = \"%\"\n",
    "data_one_label = \"Avg Accuracy %\"\n",
    "data_two_label = \"More Frequency %\"\n",
    "data_one = [round(grouped_perturbation_accuracy[key], 3) for key in linguistic_operations]\n",
    "data_two = [round(more_rate[key], 3) for key in linguistic_operations]\n",
    "title = \"More Frequency vs Binary Accuracy \"\n",
    "display_two_bar_plots(x_labels, x_label, y_unit, data_one_label, data_two_label,\n",
    "                              data_one, data_two, title, save=True)"
   ]
  },
  {
   "cell_type": "code",
   "execution_count": null,
   "metadata": {},
   "outputs": [],
   "source": []
  },
  {
   "cell_type": "code",
   "execution_count": null,
   "metadata": {},
   "outputs": [],
   "source": []
  }
 ],
 "metadata": {
  "kernelspec": {
   "display_name": "Python 3",
   "language": "python",
   "name": "python3"
  },
  "language_info": {
   "codemirror_mode": {
    "name": "ipython",
    "version": 3
   },
   "file_extension": ".py",
   "mimetype": "text/x-python",
   "name": "python",
   "nbconvert_exporter": "python",
   "pygments_lexer": "ipython3",
   "version": "3.6.5"
  }
 },
 "nbformat": 4,
 "nbformat_minor": 4
}
