{
 "cells": [
  {
   "cell_type": "code",
   "execution_count": 1,
   "metadata": {},
   "outputs": [],
   "source": [
    "%load_ext autoreload\n",
    "%autoreload 2"
   ]
  },
  {
   "cell_type": "code",
   "execution_count": 26,
   "metadata": {},
   "outputs": [],
   "source": [
    "from generate_simpler_data import *"
   ]
  },
  {
   "cell_type": "code",
   "execution_count": 27,
   "metadata": {},
   "outputs": [],
   "source": [
    "import json\n",
    "with open(\"../data/truism_data/physical_data_2.json\", \"r\") as f:\n",
    "    physical_data = json.load(f)"
   ]
  },
  {
   "cell_type": "code",
   "execution_count": 28,
   "metadata": {},
   "outputs": [],
   "source": [
    "output = {}\n",
    "for entry in physical_data:\n",
    "    data = physical_data[entry]\n",
    "    output[entry] = generate_easy_physical_example(data[\"initial_comparison\"],\n",
    "                                                   data[\"negation_switch\"],\n",
    "                                                   data[\"commonsense_fact\"],\n",
    "                                                   data[\"original_comparison\"],\n",
    "                                                   data[\"premise_switch\"])"
   ]
  },
  {
   "cell_type": "code",
   "execution_count": 29,
   "metadata": {},
   "outputs": [],
   "source": [
    "# output"
   ]
  },
  {
   "cell_type": "code",
   "execution_count": 30,
   "metadata": {},
   "outputs": [],
   "source": [
    "with open('../data/truism_data/easy_truism_data/easy_physical_data_sentences.json', 'w') as outfile:\n",
    "    json.dump(output, outfile, indent=1)"
   ]
  },
  {
   "cell_type": "code",
   "execution_count": null,
   "metadata": {},
   "outputs": [],
   "source": []
  },
  {
   "cell_type": "code",
   "execution_count": 31,
   "metadata": {},
   "outputs": [],
   "source": [
    "import json\n",
    "with open(\"../data/truism_data/material_data_2.json\", \"r\") as f:\n",
    "    material_data = json.load(f)"
   ]
  },
  {
   "cell_type": "code",
   "execution_count": 32,
   "metadata": {},
   "outputs": [],
   "source": [
    "output_2 = {}\n",
    "for entry in material_data:\n",
    "    data = material_data[entry]\n",
    "    output_2[entry] = generate_easy_material_example(data[\"material_1\"],\n",
    "                                                     data[\"material_2\"],\n",
    "                                                     data[\"negation_switch\"],\n",
    "                                                     data[\"original_comparison\"],\n",
    "                                                     data[\"premise_switch\"])"
   ]
  },
  {
   "cell_type": "code",
   "execution_count": 33,
   "metadata": {},
   "outputs": [],
   "source": [
    "with open('../data/truism_data/easy_truism_data/easy_material_data_sentences.json', 'w') as outfile:\n",
    "    json.dump(output_2, outfile, indent=1)"
   ]
  },
  {
   "cell_type": "code",
   "execution_count": null,
   "metadata": {},
   "outputs": [],
   "source": []
  },
  {
   "cell_type": "code",
   "execution_count": 34,
   "metadata": {},
   "outputs": [],
   "source": [
    "import json\n",
    "with open(\"../data/truism_data/social_data_2.json\", \"r\") as f:\n",
    "    social_data = json.load(f)"
   ]
  },
  {
   "cell_type": "code",
   "execution_count": 35,
   "metadata": {},
   "outputs": [],
   "source": [
    "output_3 = {}\n",
    "for entry in social_data:\n",
    "    data = social_data[entry]\n",
    "    output_3[entry] = generate_easy_physical_example(data[\"situation\"],\n",
    "                                                     data[\"negation_switch\"],\n",
    "                                                     data[\"commonsense_fact\"],\n",
    "                                                     data[\"original_comparison\"],\n",
    "                                                     data[\"premise_switch\"])"
   ]
  },
  {
   "cell_type": "code",
   "execution_count": 36,
   "metadata": {},
   "outputs": [],
   "source": [
    "with open('../data/truism_data/easy_truism_data/easy_social_data_sentences.json', 'w') as outfile:\n",
    "    json.dump(output_3, outfile, indent=1)"
   ]
  },
  {
   "cell_type": "code",
   "execution_count": null,
   "metadata": {},
   "outputs": [],
   "source": []
  },
  {
   "cell_type": "code",
   "execution_count": null,
   "metadata": {},
   "outputs": [],
   "source": []
  }
 ],
 "metadata": {
  "kernelspec": {
   "display_name": "Python 3",
   "language": "python",
   "name": "python3"
  },
  "language_info": {
   "codemirror_mode": {
    "name": "ipython",
    "version": 3
   },
   "file_extension": ".py",
   "mimetype": "text/x-python",
   "name": "python",
   "nbconvert_exporter": "python",
   "pygments_lexer": "ipython3",
   "version": "3.6.5"
  }
 },
 "nbformat": 4,
 "nbformat_minor": 4
}
