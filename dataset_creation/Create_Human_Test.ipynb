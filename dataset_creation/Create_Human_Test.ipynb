{
 "cells": [
  {
   "cell_type": "code",
   "execution_count": 267,
   "metadata": {},
   "outputs": [],
   "source": [
    "import pre_processing_utils as proc\n",
    "import json\n",
    "import random\n",
    "import pandas as pd\n",
    "random.seed(4)"
   ]
  },
  {
   "cell_type": "code",
   "execution_count": 268,
   "metadata": {},
   "outputs": [],
   "source": [
    "with open(\"../data/truism_data/physical_data_sentences_2.json\", \"r\") as f:\n",
    "    physical_sents = json.load(f)\n",
    "        \n",
    "with open(\"../data/truism_data/physical_data_2.json\", \"r\") as f:\n",
    "    physical_config = json.load(f)"
   ]
  },
  {
   "cell_type": "code",
   "execution_count": 269,
   "metadata": {},
   "outputs": [],
   "source": [
    "# physical_sents"
   ]
  },
  {
   "cell_type": "code",
   "execution_count": 270,
   "metadata": {},
   "outputs": [],
   "source": [
    "physical_triples = proc.prepare_masked_instances_for_humans(physical_sents, physical_config)"
   ]
  },
  {
   "cell_type": "code",
   "execution_count": 271,
   "metadata": {},
   "outputs": [],
   "source": [
    "physical_keys = random.choices(list(physical_triples.keys()), k=24)"
   ]
  },
  {
   "cell_type": "code",
   "execution_count": 272,
   "metadata": {},
   "outputs": [],
   "source": [
    "with open(\"../data/truism_data/material_data_sentences_2.json\", \"r\") as f:\n",
    "    material_sents = json.load(f)\n",
    "        \n",
    "with open(\"../data/truism_data/material_data_2.json\", \"r\") as f:\n",
    "    material_config = json.load(f)"
   ]
  },
  {
   "cell_type": "code",
   "execution_count": 273,
   "metadata": {},
   "outputs": [],
   "source": [
    "material_triples = proc.prepare_masked_instances_for_humans(material_sents, material_config)"
   ]
  },
  {
   "cell_type": "code",
   "execution_count": 274,
   "metadata": {},
   "outputs": [],
   "source": [
    "material_keys = random.choices(list(material_triples.keys()), k=24)"
   ]
  },
  {
   "cell_type": "code",
   "execution_count": 275,
   "metadata": {},
   "outputs": [],
   "source": [
    "with open(\"../data/truism_data/social_data_sentences_2.json\", \"r\") as f:\n",
    "    social_sents = json.load(f)\n",
    "        \n",
    "with open(\"../data/truism_data/social_data_2.json\", \"r\") as f:\n",
    "    social_config = json.load(f)"
   ]
  },
  {
   "cell_type": "code",
   "execution_count": 276,
   "metadata": {},
   "outputs": [],
   "source": [
    "social_triples = proc.prepare_masked_instances_for_humans(social_sents, social_config)"
   ]
  },
  {
   "cell_type": "code",
   "execution_count": 277,
   "metadata": {},
   "outputs": [],
   "source": [
    "social_keys = random.choices(list(social_triples.keys()), k=24)"
   ]
  },
  {
   "cell_type": "code",
   "execution_count": 278,
   "metadata": {},
   "outputs": [],
   "source": [
    "merged_keys = []\n",
    "i = 0\n",
    "j = 0\n",
    "k = 0\n",
    "while i < 24 or j < 24 or k < 24:\n",
    "    choice = random.random()\n",
    "\n",
    "    if i < 24 and j < 24 and k < 24:\n",
    "        if choice < 0.33:\n",
    "            merged_keys.append((\"p\", physical_keys[i]))\n",
    "            i += 1\n",
    "        elif choice < 0.667:\n",
    "            merged_keys.append((\"m\", material_keys[j]))\n",
    "            j += 1\n",
    "        else:\n",
    "            merged_keys.append((\"s\", social_keys[k]))\n",
    "            k += 1\n",
    "    \n",
    "    elif i < 24 and j < 24:\n",
    "        if choice < 0.5:\n",
    "            merged_keys.append((\"p\", physical_keys[i]))\n",
    "            i += 1\n",
    "        else:\n",
    "            merged_keys.append((\"m\", material_keys[j]))\n",
    "            j += 1\n",
    "    \n",
    "    elif i < 24 and k < 24:\n",
    "        if choice < 0.5:\n",
    "            merged_keys.append((\"p\", physical_keys[i]))\n",
    "            i += 1\n",
    "        else:\n",
    "            merged_keys.append((\"s\", social_keys[k]))\n",
    "            k += 1\n",
    "    \n",
    "    elif j < 24 and k < 24:\n",
    "        if choice < 0.5:\n",
    "            merged_keys.append((\"m\", material_keys[j]))\n",
    "            j += 1\n",
    "        else:\n",
    "            merged_keys.append((\"s\", social_keys[k]))\n",
    "            k += 1\n",
    "    else:\n",
    "        if i < 24:\n",
    "            merged_keys.append((\"p\", physical_keys[i]))\n",
    "            i += 1\n",
    "        elif j < 24:\n",
    "            merged_keys.append((\"m\", material_keys[j]))\n",
    "            j += 1\n",
    "        else:\n",
    "            merged_keys.append((\"s\", social_keys[k]))\n",
    "            k += 1\n",
    "        "
   ]
  },
  {
   "cell_type": "code",
   "execution_count": 279,
   "metadata": {},
   "outputs": [],
   "source": [
    "# merged_keys"
   ]
  },
  {
   "cell_type": "code",
   "execution_count": 280,
   "metadata": {},
   "outputs": [],
   "source": [
    "output_dict = {\n",
    "    \"choice\" : [\"CHOICE\"]*72,\n",
    "    \"question\" : [],\n",
    "    \"answer_1\" : [],\n",
    "    \"answer_2\" : [],\n",
    "    \"key\" : [],\n",
    "    \"right_answer\" : []\n",
    "}\n",
    "\n",
    "for key in merged_keys:\n",
    "    if key[0] == \"p\":\n",
    "        triple = physical_triples[key[1]]\n",
    "    if key[0] == \"m\":\n",
    "        triple = material_triples[key[1]]\n",
    "    if key[0] == \"s\":\n",
    "        triple = social_triples[key[1]]\n",
    "        \n",
    "    output_dict[\"question\"].append(triple[0])\n",
    "    output_dict[\"right_answer\"].append(triple[1])\n",
    "    choice = random.random()\n",
    "    if choice < 0.5:\n",
    "        output_dict[\"answer_1\"].append(triple[1])\n",
    "        output_dict[\"answer_2\"].append(triple[2])\n",
    "    else:\n",
    "        output_dict[\"answer_1\"].append(triple[2])\n",
    "        output_dict[\"answer_2\"].append(triple[1])\n",
    "    output_dict[\"key\"].append(key)\n",
    "    "
   ]
  },
  {
   "cell_type": "code",
   "execution_count": 281,
   "metadata": {},
   "outputs": [],
   "source": [
    "output_df = pd.DataFrame.from_dict(output_dict)"
   ]
  },
  {
   "cell_type": "code",
   "execution_count": 282,
   "metadata": {},
   "outputs": [],
   "source": [
    "output_df.to_csv(\"../data/human_test/test.csv\", index=False, header=False)"
   ]
  },
  {
   "cell_type": "code",
   "execution_count": 283,
   "metadata": {},
   "outputs": [],
   "source": [
    "plus_count = 0\n",
    "minus_count = 0\n",
    "for entry in output_df[\"right_answer\"]:\n",
    "    if entry in [\"more\", \"better\", \"easier\"]:\n",
    "        plus_count +=1\n",
    "    else:\n",
    "        minus_count += 1"
   ]
  },
  {
   "cell_type": "code",
   "execution_count": 284,
   "metadata": {},
   "outputs": [
    {
     "data": {
      "text/plain": [
       "(39, 33)"
      ]
     },
     "execution_count": 284,
     "metadata": {},
     "output_type": "execute_result"
    }
   ],
   "source": [
    "plus_count, minus_count"
   ]
  },
  {
   "cell_type": "code",
   "execution_count": null,
   "metadata": {},
   "outputs": [],
   "source": []
  },
  {
   "cell_type": "code",
   "execution_count": null,
   "metadata": {},
   "outputs": [],
   "source": []
  }
 ],
 "metadata": {
  "kernelspec": {
   "display_name": "Python 3",
   "language": "python",
   "name": "python3"
  },
  "language_info": {
   "codemirror_mode": {
    "name": "ipython",
    "version": 3
   },
   "file_extension": ".py",
   "mimetype": "text/x-python",
   "name": "python",
   "nbconvert_exporter": "python",
   "pygments_lexer": "ipython3",
   "version": "3.6.5"
  }
 },
 "nbformat": 4,
 "nbformat_minor": 4
}
