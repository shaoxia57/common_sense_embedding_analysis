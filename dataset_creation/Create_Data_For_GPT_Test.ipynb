{
 "cells": [
  {
   "cell_type": "code",
   "execution_count": 1,
   "metadata": {},
   "outputs": [],
   "source": [
    "import json"
   ]
  },
  {
   "cell_type": "code",
   "execution_count": 17,
   "metadata": {},
   "outputs": [],
   "source": [
    "def create_needed_sentences_for_generation_eval(sentences, config):\n",
    "    eval_sentences = {}\n",
    "    for truism in sentences:\n",
    "        for perturbation in sentences[truism]:\n",
    "\n",
    "            if 'paraphrase' not in perturbation:\n",
    "                candidate_answers = config[truism]['premise_switch']['0']\n",
    "            elif '_inversion' not in perturbation:\n",
    "                candidate_answers = config[truism]['premise_switch']['1']\n",
    "            else:\n",
    "                candidate_answers = config[truism]['premise_switch']['2']\n",
    "\n",
    "            for premise in sentences[truism][perturbation]:\n",
    "                correct_sentence = sentences[truism][perturbation][premise]\n",
    "\n",
    "                parts = correct_sentence.split(\",\")\n",
    "                switch_portion = parts[len(parts)-1]\n",
    "\n",
    "                if candidate_answers[0] in switch_portion:\n",
    "                    right_answer = candidate_answers[0]\n",
    "                    wrong_answer = candidate_answers[1]\n",
    "                else:\n",
    "                    right_answer = candidate_answers[1]\n",
    "                    wrong_answer = candidate_answers[0]\n",
    "\n",
    "                switch_portion = switch_portion.replace(\" \" + right_answer + \" \", \" \" + wrong_answer + \" \")\n",
    "\n",
    "                incorrect_sentence = \"\"\n",
    "                for i in range(len(parts)-1):\n",
    "                    incorrect_sentence += parts[i]\n",
    "                    incorrect_sentence += \",\"\n",
    "\n",
    "                incorrect_sentence += switch_portion\n",
    "\n",
    "                key = \"-\".join([truism, perturbation, premise])\n",
    "                eval_sentences[key] = {}\n",
    "                eval_sentences[key][\"correct\"] = correct_sentence\n",
    "\n",
    "\n",
    "                eval_sentences[key][\"incorrect\"] = incorrect_sentence\n",
    "    \n",
    "    return eval_sentences"
   ]
  },
  {
   "cell_type": "code",
   "execution_count": 11,
   "metadata": {},
   "outputs": [],
   "source": [
    "def create_needed_sentences_for_temporal_generation_eval(sentences, config):\n",
    "    eval_sentences = {}\n",
    "    for truism in sentences:\n",
    "        for perturbation in sentences[truism]:\n",
    "\n",
    "            if 'paraphrase' not in perturbation:\n",
    "                candidate_answers = config[truism]['premise_switch']['0']\n",
    "            elif '_inversion' not in perturbation:\n",
    "                candidate_answers = config[truism]['premise_switch']['1']\n",
    "            else:\n",
    "                candidate_answers = config[truism]['premise_switch']['2']\n",
    "\n",
    "            correct_sentence = sentences[truism][perturbation]\n",
    "\n",
    "            parts = correct_sentence.split(\",\")\n",
    "            switch_portion = parts[len(parts)-1]\n",
    "\n",
    "            if candidate_answers[0] in switch_portion:\n",
    "                right_answer = candidate_answers[0]\n",
    "                wrong_answer = candidate_answers[1]\n",
    "            else:\n",
    "                right_answer = candidate_answers[1]\n",
    "                wrong_answer = candidate_answers[0]\n",
    "\n",
    "            switch_portion = switch_portion.replace(\" \" + right_answer + \" \", \" \" + wrong_answer + \" \")\n",
    "\n",
    "            incorrect_sentence = \"\"\n",
    "            for i in range(len(parts)-1):\n",
    "                incorrect_sentence += parts[i]\n",
    "                incorrect_sentence += \",\"\n",
    "\n",
    "            incorrect_sentence += switch_portion\n",
    "\n",
    "            key = \"-\".join([truism, perturbation])\n",
    "            eval_sentences[key] = {}\n",
    "            eval_sentences[key][\"correct\"] = correct_sentence\n",
    "\n",
    "\n",
    "            eval_sentences[key][\"incorrect\"] = incorrect_sentence\n",
    "    \n",
    "    return eval_sentences"
   ]
  },
  {
   "cell_type": "code",
   "execution_count": 21,
   "metadata": {
    "collapsed": true
   },
   "outputs": [],
   "source": [
    "with open(\"../data/truism_data/physical_data_2.json\", \"r\") as f:\n",
    "    physical_data = json.load(f)\n",
    "\n",
    "with open(\"../data/truism_data/physical_data_sentences_2.json\", \"r\") as f:\n",
    "    physical_sentences = json.load(f)"
   ]
  },
  {
   "cell_type": "code",
   "execution_count": 22,
   "metadata": {
    "collapsed": true
   },
   "outputs": [],
   "source": [
    "physcial_sentences_for_generation_eval = create_needed_sentences_for_generation_eval(physical_sentences, physical_data)\n"
   ]
  },
  {
   "cell_type": "code",
   "execution_count": 23,
   "metadata": {
    "collapsed": true
   },
   "outputs": [],
   "source": [
    "# physcial_sentences_for_generation_eval"
   ]
  },
  {
   "cell_type": "code",
   "execution_count": 24,
   "metadata": {
    "collapsed": true
   },
   "outputs": [],
   "source": [
    "with open(\"../data/generation_test_data/physical_data_sentences.json\", \"w\") as f:\n",
    "    json.dump(physcial_sentences_for_generation_eval, f, indent=1)"
   ]
  },
  {
   "cell_type": "code",
   "execution_count": null,
   "metadata": {
    "collapsed": true
   },
   "outputs": [],
   "source": []
  },
  {
   "cell_type": "code",
   "execution_count": 25,
   "metadata": {
    "collapsed": true
   },
   "outputs": [],
   "source": [
    "with open(\"../data/truism_data/material_data_2.json\", \"r\") as f:\n",
    "    material_data = json.load(f)\n",
    "\n",
    "with open(\"../data/truism_data/material_data_sentences_2.json\", \"r\") as f:\n",
    "    material_sentences = json.load(f)"
   ]
  },
  {
   "cell_type": "code",
   "execution_count": 26,
   "metadata": {
    "collapsed": true
   },
   "outputs": [],
   "source": [
    "material_sentences_for_generation_eval = create_needed_sentences_for_generation_eval(material_sentences, material_data)\n"
   ]
  },
  {
   "cell_type": "code",
   "execution_count": 27,
   "metadata": {
    "collapsed": true
   },
   "outputs": [],
   "source": [
    "with open(\"../data/generation_test_data/material_data_sentences.json\", \"w\") as f:\n",
    "    json.dump(material_sentences_for_generation_eval, f, indent=1)"
   ]
  },
  {
   "cell_type": "code",
   "execution_count": null,
   "metadata": {
    "collapsed": true
   },
   "outputs": [],
   "source": []
  },
  {
   "cell_type": "code",
   "execution_count": 28,
   "metadata": {
    "collapsed": true
   },
   "outputs": [],
   "source": [
    "with open(\"../data/truism_data/social_data_2.json\", \"r\") as f:\n",
    "    social_data = json.load(f)\n",
    "\n",
    "with open(\"../data/truism_data/social_data_sentences_2.json\", \"r\") as f:\n",
    "    social_sentences = json.load(f)"
   ]
  },
  {
   "cell_type": "code",
   "execution_count": 29,
   "metadata": {
    "collapsed": true
   },
   "outputs": [],
   "source": [
    "social_sentences_for_generation_eval = create_needed_sentences_for_generation_eval(social_sentences, social_data)\n"
   ]
  },
  {
   "cell_type": "code",
   "execution_count": 30,
   "metadata": {
    "collapsed": true
   },
   "outputs": [],
   "source": [
    "with open(\"../data/generation_test_data/social_data_sentences.json\", \"w\") as f:\n",
    "    json.dump(social_sentences_for_generation_eval, f, indent=1)"
   ]
  },
  {
   "cell_type": "code",
   "execution_count": 31,
   "metadata": {
    "collapsed": true
   },
   "outputs": [],
   "source": [
    "# social_sentences_for_generation_eval"
   ]
  },
  {
   "cell_type": "code",
   "execution_count": null,
   "metadata": {
    "collapsed": true
   },
   "outputs": [],
   "source": []
  },
  {
   "cell_type": "code",
   "execution_count": 3,
   "metadata": {},
   "outputs": [],
   "source": [
    "with open(\"../data/truism_data/temporal_data_2.json\", \"r\") as f:\n",
    "    temporal_data = json.load(f)\n",
    "\n",
    "with open(\"../data/truism_data/temporal_data_sentences_2.json\", \"r\") as f:\n",
    "    temporal_sentences = json.load(f)"
   ]
  },
  {
   "cell_type": "code",
   "execution_count": 13,
   "metadata": {},
   "outputs": [],
   "source": [
    "temporal_sentences_for_generation_eval = create_needed_sentences_for_temporal_generation_eval(temporal_sentences, temporal_data)\n"
   ]
  },
  {
   "cell_type": "code",
   "execution_count": 15,
   "metadata": {},
   "outputs": [],
   "source": [
    "with open(\"../data/generation_test_data/temporal_data_sentences.json\", \"w\") as f:\n",
    "    json.dump(temporal_sentences_for_generation_eval, f, indent=1)"
   ]
  },
  {
   "cell_type": "code",
   "execution_count": 16,
   "metadata": {},
   "outputs": [],
   "source": [
    "# temporal_sentences_for_generation_eval"
   ]
  },
  {
   "cell_type": "code",
   "execution_count": null,
   "metadata": {},
   "outputs": [],
   "source": []
  },
  {
   "cell_type": "code",
   "execution_count": null,
   "metadata": {},
   "outputs": [],
   "source": [
    "# physical_sentences_for_easy_generation_eval"
   ]
  },
  {
   "cell_type": "code",
   "execution_count": 6,
   "metadata": {
    "collapsed": true
   },
   "outputs": [],
   "source": [
    "with open(\"../data/truism_data/physical_data_2.json\", \"r\") as f:\n",
    "    physical_data = json.load(f)\n",
    "\n",
    "with open(\"../data/truism_data/easy_truism_data/easy_physical_data_sentences.json\", \"r\") as f:\n",
    "    physical_sentences = json.load(f)"
   ]
  },
  {
   "cell_type": "code",
   "execution_count": 11,
   "metadata": {},
   "outputs": [],
   "source": [
    "physical_sentences_for_generation_eval = create_needed_sentences_for_generation_eval(physical_sentences, physical_data)"
   ]
  },
  {
   "cell_type": "code",
   "execution_count": 13,
   "metadata": {},
   "outputs": [],
   "source": [
    "with open(\"../data/generation_test_data/physical_easy_data_sentences.json\", \"w\") as f:\n",
    "    json.dump(physcial_sentences_for_generation_eval, f, indent=1)"
   ]
  },
  {
   "cell_type": "code",
   "execution_count": null,
   "metadata": {},
   "outputs": [],
   "source": []
  },
  {
   "cell_type": "code",
   "execution_count": 14,
   "metadata": {
    "collapsed": true
   },
   "outputs": [],
   "source": [
    "# material_sentences_for_easy_generation_eval"
   ]
  },
  {
   "cell_type": "code",
   "execution_count": 15,
   "metadata": {
    "collapsed": true
   },
   "outputs": [],
   "source": [
    "with open(\"../data/truism_data/material_data_2.json\", \"r\") as f:\n",
    "    material_data = json.load(f)\n",
    "\n",
    "with open(\"../data/truism_data/easy_truism_data/easy_material_data_sentences.json\", \"r\") as f:\n",
    "    material_sentences = json.load(f)"
   ]
  },
  {
   "cell_type": "code",
   "execution_count": 16,
   "metadata": {
    "collapsed": true
   },
   "outputs": [],
   "source": [
    "material_sentences_for_generation_eval = create_needed_sentences_for_generation_eval(material_sentences, material_data)"
   ]
  },
  {
   "cell_type": "code",
   "execution_count": 18,
   "metadata": {
    "collapsed": true
   },
   "outputs": [],
   "source": [
    "with open(\"../data/generation_test_data/material_easy_data_sentences.json\", \"w\") as f:\n",
    "    json.dump(material_sentences_for_generation_eval, f, indent=1)"
   ]
  },
  {
   "cell_type": "code",
   "execution_count": null,
   "metadata": {},
   "outputs": [],
   "source": []
  },
  {
   "cell_type": "code",
   "execution_count": 19,
   "metadata": {
    "collapsed": true
   },
   "outputs": [],
   "source": [
    "# social_sentences_for_easy_generation_eval"
   ]
  },
  {
   "cell_type": "code",
   "execution_count": 20,
   "metadata": {
    "collapsed": true
   },
   "outputs": [],
   "source": [
    "with open(\"../data/truism_data/social_data_2.json\", \"r\") as f:\n",
    "    social_data = json.load(f)\n",
    "\n",
    "with open(\"../data/truism_data/easy_truism_data/easy_social_data_sentences.json\", \"r\") as f:\n",
    "    social_sentences = json.load(f)"
   ]
  },
  {
   "cell_type": "code",
   "execution_count": 21,
   "metadata": {
    "collapsed": true
   },
   "outputs": [],
   "source": [
    "social_sentences_for_generation_eval = create_needed_sentences_for_generation_eval(social_sentences, social_data)\n"
   ]
  },
  {
   "cell_type": "code",
   "execution_count": 22,
   "metadata": {},
   "outputs": [
    {
     "data": {
      "text/plain": [
       "{'0-negation-original': {'correct': \"A makes the varsity team while B does not, and people who make the varsity team are more skilled, so A isn't less skilled than B\",\n",
       "  'incorrect': \"A makes the varsity team while B does not, and people who make the varsity team are more skilled, so A isn't more skilled than B\"},\n",
       " '0-original-original': {'correct': 'A makes the varsity team while B does not, and people who make the varsity team are more skilled, so A is more skilled than B',\n",
       "  'incorrect': 'A makes the varsity team while B does not, and people who make the varsity team are more skilled, so A is less skilled than B'},\n",
       " '1-negation-original': {'correct': 'A is going to perform for people while B is not, and people who are going to perform for people find it harder to be relaxed, so A does not find it easier to be relaxed than B',\n",
       "  'incorrect': 'A is going to perform for people while B is not, and people who are going to perform for people find it harder to be relaxed, so A does not find it harder to be relaxed than B'},\n",
       " '1-original-original': {'correct': 'A is going to perform for people while B is not, and people who are going to perform for people find it harder to be relaxed, so A finds it harder to be relaxed than B',\n",
       "  'incorrect': 'A is going to perform for people while B is not, and people who are going to perform for people find it harder to be relaxed, so A finds it easier to be relaxed than B'},\n",
       " '10-negation-original': {'correct': \"A is B's doctor, and doctors take more care of people than others, so A does not take less care of B\",\n",
       "  'incorrect': \"A is B's doctor, and doctors take more care of people than others, so A does not take more care of B\"},\n",
       " '10-original-original': {'correct': \"A is B's doctor, and doctors take more care of people than others, so A takes more care of B\",\n",
       "  'incorrect': \"A is B's doctor, and doctors take more care of people than others, so A takes less care of B\"},\n",
       " '11-negation-original': {'correct': \"A hurt B's feelings, and people who hurt people's feelings must be more insensitive, so A must not be less insensitive than B\",\n",
       "  'incorrect': \"A hurt B's feelings, and people who hurt people's feelings must be more insensitive, so A must not be more insensitive than B\"},\n",
       " '11-original-original': {'correct': \"A hurt B's feelings, and people who hurt people's feelings must be more insensitive, so A must be more insensitive than B\",\n",
       "  'incorrect': \"A hurt B's feelings, and people who hurt people's feelings must be more insensitive, so A must be less insensitive than B\"},\n",
       " '12-negation-original': {'correct': \"A is B's priest, and priests spend less time sinning, so A does not spend more time sinning than B\",\n",
       "  'incorrect': \"A is B's priest, and priests spend less time sinning, so A does not spend less time sinning than B\"},\n",
       " '12-original-original': {'correct': \"A is B's priest, and priests spend less time sinning, so A spends less time sinning than B\",\n",
       "  'incorrect': \"A is B's priest, and priests spend less time sinning, so A spends more time sinning than B\"},\n",
       " '13-negation-original': {'correct': \"A is B's lawyer, and lawyers are less ignorant of the law, so A is not more ignorant of the law than B\",\n",
       "  'incorrect': \"A is B's lawyer, and lawyers are less ignorant of the law, so A is not less ignorant of the law than B\"},\n",
       " '13-original-original': {'correct': \"A is B's lawyer, and lawyers are less ignorant of the law, so A is less ignorant of the law than B\",\n",
       "  'incorrect': \"A is B's lawyer, and lawyers are less ignorant of the law, so A is more ignorant of the law than B\"},\n",
       " '14-negation-original': {'correct': 'A has a lot less money than B, and people who have little money are less financially secure, so A is not more financially secure than B',\n",
       "  'incorrect': 'A has a lot less money than B, and people who have little money are less financially secure, so A is not less financially secure than B'},\n",
       " '14-original-original': {'correct': 'A has a lot less money than B, and people who have little money are less financially secure, so A is less financially secure than B',\n",
       "  'incorrect': 'A has a lot less money than B, and people who have little money are less financially secure, so A is more financially secure than B'},\n",
       " '15-negation-original': {'correct': 'A watches more tv shows than B, and people who watch more tv are more capable of understanding pop-culture references, so A is not less capable of understanding pop-culture references than B',\n",
       "  'incorrect': 'A watches more tv shows than B, and people who watch more tv are more capable of understanding pop-culture references, so A is not more capable of understanding pop-culture references than B'},\n",
       " '15-original-original': {'correct': 'A watches more tv shows than B, and people who watch more tv are more capable of understanding pop-culture references, so A is more capable of understanding pop-culture references than B',\n",
       "  'incorrect': 'A watches more tv shows than B, and people who watch more tv are more capable of understanding pop-culture references, so A is less capable of understanding pop-culture references than B'},\n",
       " '16-negation-original': {'correct': 'A always loses to B in tennis, and people who always loose in tennis are less proficient tennis players, so A is not a more proficient tennis not player than B',\n",
       "  'incorrect': 'A always loses to B in tennis, and people who always loose in tennis are less proficient tennis players, so A is not a less proficient tennis not player than B'},\n",
       " '16-original-original': {'correct': 'A always loses to B in tennis, and people who always loose in tennis are less proficient tennis players, so A is a less proficient tennis player than B',\n",
       "  'incorrect': 'A always loses to B in tennis, and people who always loose in tennis are less proficient tennis players, so A is a more proficient tennis player than B'},\n",
       " '17-negation-original': {'correct': 'A makes B late, and people who make people late have less reason to be annoyed at others, so A has not more reason to be annoyed at B',\n",
       "  'incorrect': 'A makes B late, and people who make people late have less reason to be annoyed at others, so A has not less reason to be annoyed at B'},\n",
       " '17-original-original': {'correct': 'A makes B late, and people who make people late have less reason to be annoyed at others, so A has less reason to be annoyed at B',\n",
       "  'incorrect': 'A makes B late, and people who make people late have less reason to be annoyed at others, so A has more reason to be annoyed at B'},\n",
       " '18-negation-original': {'correct': 'A is a better friend than B, and people who are better friends are more thoughtful, so A is not less thoughtful than B',\n",
       "  'incorrect': 'A is a better friend than B, and people who are better friends are more thoughtful, so A is not more thoughtful than B'},\n",
       " '18-original-original': {'correct': 'A is a better friend than B, and people who are better friends are more thoughtful, so A is more thoughtful than B',\n",
       "  'incorrect': 'A is a better friend than B, and people who are better friends are more thoughtful, so A is less thoughtful than B'},\n",
       " '19-negation-original': {'correct': \"A is B's teacher, and teachers are more informed than others, so A should not be less informed than B\",\n",
       "  'incorrect': \"A is B's teacher, and teachers are more informed than others, so A should not be more informed than B\"},\n",
       " '19-original-original': {'correct': \"A is B's teacher, and teachers are more informed than others, so A should be more informed than B\",\n",
       "  'incorrect': \"A is B's teacher, and teachers are more informed than others, so A should be less informed than B\"},\n",
       " '2-negation-original': {'correct': 'A won the competition while B did not, and people who win a competition find it easier to be happy, so A does not find it harder to be happy than B',\n",
       "  'incorrect': 'A won the competition while B did not, and people who win a competition find it easier to be happy, so A does not find it easier to be happy than B'},\n",
       " '2-original-original': {'correct': 'A won the competition while B did not, and people who win a competition find it easier to be happy, so A finds it easier to be happy than B',\n",
       "  'incorrect': 'A won the competition while B did not, and people who win a competition find it easier to be happy, so A finds it harder to be happy than B'},\n",
       " '3-negation-original': {'correct': 'A is able to concentrate more than B, and people who are able to concentrate more find it easier to be effective, so A does not find it harder to be productive than B',\n",
       "  'incorrect': 'A is able to concentrate more than B, and people who are able to concentrate more find it easier to be effective, so A does not find it easier to be productive than B'},\n",
       " '3-original-original': {'correct': 'A is able to concentrate more than B, and people who are able to concentrate more find it easier to be effective, so A finds it easier to be productive than B',\n",
       "  'incorrect': 'A is able to concentrate more than B, and people who are able to concentrate more find it easier to be effective, so A finds it harder to be productive than B'},\n",
       " '4-negation-original': {'correct': \"A bullies people while B does not, and people who bully people are less kind, so A isn't more kind than B\",\n",
       "  'incorrect': \"A bullies people while B does not, and people who bully people are less kind, so A isn't less kind than B\"},\n",
       " '4-original-original': {'correct': 'A bullies people while B does not, and people who bully people are less kind, so A is less kind than B',\n",
       "  'incorrect': 'A bullies people while B does not, and people who bully people are less kind, so A is more kind than B'},\n",
       " '5-negation-original': {'correct': \"A is B's boss, and people who are bosses command more respect, so A does not command less respect than B\",\n",
       "  'incorrect': \"A is B's boss, and people who are bosses command more respect, so A does not command more respect than B\"},\n",
       " '5-original-original': {'correct': \"A is B's boss, and people who are bosses command more respect, so A commands more respect than B\",\n",
       "  'incorrect': \"A is B's boss, and people who are bosses command more respect, so A commands less respect than B\"},\n",
       " '6-negation-original': {'correct': 'A has more work than B, and people who have more work find it harder to be at ease, so A does not find it easier to be at ease than B',\n",
       "  'incorrect': 'A has more work than B, and people who have more work find it harder to be at ease, so A does not find it harder to be at ease than B'},\n",
       " '6-original-original': {'correct': 'A has more work than B, and people who have more work find it harder to be at ease, so A finds it harder to be at ease than B',\n",
       "  'incorrect': 'A has more work than B, and people who have more work find it harder to be at ease, so A finds it easier to be at ease than B'},\n",
       " '7-negation-original': {'correct': 'A has a crush on B, and people who have a crush on someone find it harder to be relaxed around that person, so A does not find it easier to be relaxed around B',\n",
       "  'incorrect': 'A has a crush on B, and people who have a crush on someone find it harder to be relaxed around that person, so A does not find it harder to be relaxed around B'},\n",
       " '7-original-original': {'correct': 'A has a crush on B, and people who have a crush on someone find it harder to be relaxed around that person, so A finds it harder to be relaxed around B',\n",
       "  'incorrect': 'A has a crush on B, and people who have a crush on someone find it harder to be relaxed around that person, so A finds it easier to be relaxed around B'},\n",
       " '8-negation-original': {'correct': 'A has more dedication than B, and people who have more dedication have a harder time failing, so A will not have a easier time failing than B',\n",
       "  'incorrect': 'A has more dedication than B, and people who have more dedication have a harder time failing, so A will not have a harder time failing than B'},\n",
       " '8-original-original': {'correct': 'A has more dedication than B, and people who have more dedication have a harder time failing, so A will have a harder time failing than B',\n",
       "  'incorrect': 'A has more dedication than B, and people who have more dedication have a harder time failing, so A will have a easier time failing than B'},\n",
       " '9-negation-original': {'correct': \"A is B's parent, and parents initially take more care of their children, so A initially does not take less care of B\",\n",
       "  'incorrect': \"A is B's parent, and parents initially take more care of their children, so A initially does not take more care of B\"},\n",
       " '9-original-original': {'correct': \"A is B's parent, and parents initially take more care of their children, so A initially takes more care of B\",\n",
       "  'incorrect': \"A is B's parent, and parents initially take more care of their children, so A initially takes less care of B\"}}"
      ]
     },
     "execution_count": 22,
     "metadata": {},
     "output_type": "execute_result"
    }
   ],
   "source": [
    "social_sentences_for_generation_eval"
   ]
  },
  {
   "cell_type": "code",
   "execution_count": 23,
   "metadata": {
    "collapsed": true
   },
   "outputs": [],
   "source": [
    "with open(\"../data/generation_test_data/social_easy_data_sentences.json\", \"w\") as f:\n",
    "    json.dump(social_sentences_for_generation_eval, f, indent=1)"
   ]
  },
  {
   "cell_type": "code",
   "execution_count": null,
   "metadata": {
    "collapsed": true
   },
   "outputs": [],
   "source": []
  }
 ],
 "metadata": {
  "kernelspec": {
   "display_name": "Python 3",
   "language": "python",
   "name": "python3"
  },
  "language_info": {
   "codemirror_mode": {
    "name": "ipython",
    "version": 3
   },
   "file_extension": ".py",
   "mimetype": "text/x-python",
   "name": "python",
   "nbconvert_exporter": "python",
   "pygments_lexer": "ipython3",
   "version": "3.6.5"
  }
 },
 "nbformat": 4,
 "nbformat_minor": 4
}
