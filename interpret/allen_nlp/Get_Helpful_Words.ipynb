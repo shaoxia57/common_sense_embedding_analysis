{
 "cells": [
  {
   "cell_type": "code",
   "execution_count": 8,
   "metadata": {},
   "outputs": [],
   "source": [
    "import json\n",
    "from operator import itemgetter"
   ]
  },
  {
   "cell_type": "code",
   "execution_count": 27,
   "metadata": {},
   "outputs": [],
   "source": [
    "with open(\"good_responses_2.json\") as f:\n",
    "    data = json.load(f)"
   ]
  },
  {
   "cell_type": "code",
   "execution_count": 28,
   "metadata": {},
   "outputs": [
    {
     "data": {
      "text/plain": [
       "'0-original-original'"
      ]
     },
     "execution_count": 28,
     "metadata": {},
     "output_type": "execute_result"
    }
   ],
   "source": [
    "list(data.keys())[0]"
   ]
  },
  {
   "cell_type": "code",
   "execution_count": 38,
   "metadata": {},
   "outputs": [],
   "source": [
    "def get_top_k(arr, k):\n",
    "    return [x[0] for x in sorted(arr, key=itemgetter(1), reverse=True)[:k]]"
   ]
  },
  {
   "cell_type": "code",
   "execution_count": 39,
   "metadata": {},
   "outputs": [
    {
     "data": {
      "text/plain": [
       "['does', 'so']"
      ]
     },
     "execution_count": 39,
     "metadata": {},
     "output_type": "execute_result"
    }
   ],
   "source": [
    "[x[0] for x in sorted(data[\"0-original-original\"][0],key=itemgetter(1), reverse=True)[:2]]"
   ]
  },
  {
   "cell_type": "code",
   "execution_count": 40,
   "metadata": {},
   "outputs": [],
   "source": [
    "def get_helpful_words(arr, k=3, pct=0.6):\n",
    "    word_counts = {}\n",
    "    for entry in arr:\n",
    "        words = get_top_k(entry, k)\n",
    "        for word in words:\n",
    "            if word in word_counts:\n",
    "                word_counts[word] +=1\n",
    "            else:\n",
    "                word_counts[word] = 1\n",
    "    \n",
    "    helpful_words = []\n",
    "    for key in word_counts:\n",
    "        if word_counts[key]/float(len(arr)) >= pct:\n",
    "            helpful_words.append(key)\n",
    "    \n",
    "    return helpful_words"
   ]
  },
  {
   "cell_type": "code",
   "execution_count": 41,
   "metadata": {},
   "outputs": [],
   "source": [
    "output_data = {\n",
    "    \"perturbation\" : [],\n",
    "    \"sentence\" : [],\n",
    "    \"helpful_words\" : []\n",
    "}\n",
    "\n",
    "with open(\"../data/generation_test_data/social_data_sentences.json\") as f:\n",
    "    sentences = json.load(f)\n",
    "\n",
    "for key in data:\n",
    "    output_data[\"perturbation\"].append(key)\n",
    "    output_data[\"sentence\"].append(sentences[key][\"correct\"])\n",
    "    output_data[\"helpful_words\"].append(get_helpful_words(data[key]))\n",
    "    "
   ]
  },
  {
   "cell_type": "code",
   "execution_count": 42,
   "metadata": {},
   "outputs": [],
   "source": [
    "import pandas as pd"
   ]
  },
  {
   "cell_type": "code",
   "execution_count": 45,
   "metadata": {},
   "outputs": [],
   "source": [
    "output_df = pd.DataFrame.from_dict(output_data)"
   ]
  },
  {
   "cell_type": "code",
   "execution_count": 46,
   "metadata": {},
   "outputs": [],
   "source": [
    "output_df.to_csv(\"helpful_words_for_social_w_names.csv\")"
   ]
  },
  {
   "cell_type": "code",
   "execution_count": null,
   "metadata": {},
   "outputs": [],
   "source": []
  }
 ],
 "metadata": {
  "kernelspec": {
   "display_name": "Python 3",
   "language": "python",
   "name": "python3"
  },
  "language_info": {
   "codemirror_mode": {
    "name": "ipython",
    "version": 3
   },
   "file_extension": ".py",
   "mimetype": "text/x-python",
   "name": "python",
   "nbconvert_exporter": "python",
   "pygments_lexer": "ipython3",
   "version": "3.6.5"
  }
 },
 "nbformat": 4,
 "nbformat_minor": 4
}
