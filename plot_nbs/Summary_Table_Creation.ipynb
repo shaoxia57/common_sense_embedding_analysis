{
 "cells": [
  {
   "cell_type": "code",
   "execution_count": 11,
   "metadata": {},
   "outputs": [
    {
     "name": "stdout",
     "output_type": "stream",
     "text": [
      "The autoreload extension is already loaded. To reload it, use:\n",
      "  %reload_ext autoreload\n"
     ]
    }
   ],
   "source": [
    "%load_ext autoreload\n",
    "%autoreload 2"
   ]
  },
  {
   "cell_type": "code",
   "execution_count": 12,
   "metadata": {
    "collapsed": true
   },
   "outputs": [],
   "source": [
    "import pandas as pd\n",
    "import json\n",
    "import numpy as np\n",
    "import sys\n",
    "sys.path.append(\"../\")"
   ]
  },
  {
   "cell_type": "code",
   "execution_count": 13,
   "metadata": {
    "collapsed": true
   },
   "outputs": [],
   "source": [
    "import evaluation_utils.eval_grouping_queries as queries\n",
    "from evaluation_utils.plotting_utils import *\n",
    "import evaluation_utils.exploration_utils as data_manip"
   ]
  },
  {
   "cell_type": "code",
   "execution_count": null,
   "metadata": {
    "collapsed": true
   },
   "outputs": [],
   "source": []
  },
  {
   "cell_type": "code",
   "execution_count": 14,
   "metadata": {
    "collapsed": true
   },
   "outputs": [],
   "source": [
    "def get_avg_stats_split_easy(result_dir, \n",
    "                             data_files, \n",
    "                             config_dir, \n",
    "                             config_files, \n",
    "                             option=0, \n",
    "                             stat=\"avg_binary_score\", \n",
    "                             mode=1):\n",
    "    data = []\n",
    "\n",
    "    for file in data_files:\n",
    "        full_path = result_dir + file\n",
    "        data.append(pd.read_csv(full_path))\n",
    "\n",
    "    configs = []\n",
    "\n",
    "    for file in config_files:\n",
    "        full_path = config_dir + file\n",
    "        with open(full_path) as f:\n",
    "            configs.append(json.load(f))\n",
    "    \n",
    "    for i, d in enumerate(data):\n",
    "        if mode == 1:\n",
    "            d = d[d[\"perturbation\"] == \"original\"]\n",
    "        else:\n",
    "            d = d[d[\"perturbation\"] == \"negation\"]\n",
    "        \n",
    "        data[i] = d\n",
    "    \n",
    "    avg_total = 0\n",
    "    for i in range(len(data)):\n",
    "        avg_total += data[i][stat].sum()\n",
    "    \n",
    "    total = 0\n",
    "    for i in range(len(data)):\n",
    "        total += len(data[i])\n",
    "    \n",
    "    avg = avg_total / total\n",
    "    \n",
    "    more = []\n",
    "    less = []\n",
    "    for i in range(len(data)):\n",
    "        tup = data_manip.filter_data_into_more_less_by_actual_comparison(data[i],\n",
    "                                                                         configs[i],\n",
    "                                                                         option=option)\n",
    "        more.append(tup[0])\n",
    "        less.append(tup[1])\n",
    "    \n",
    "    more_avg_total = 0\n",
    "    less_avg_total = 0\n",
    "    for i in range(len(more)):\n",
    "        more_avg_total += more[i][stat].sum()\n",
    "        less_avg_total += less[i][stat].sum()\n",
    "    \n",
    "    more_total = 0\n",
    "    less_total = 0\n",
    "    for i in range(len(more)):\n",
    "        more_total += len(more[i])\n",
    "        less_total += len(less[i])\n",
    "    \n",
    "    \n",
    "    more_avg = more_avg_total / more_total\n",
    "    less_avg = less_avg_total / less_total\n",
    "    \n",
    "    return (str(total), str(round(avg, 3)), str(round(more_avg, 3)), str(round(less_avg, 3)))\n",
    "\n"
   ]
  },
  {
   "cell_type": "code",
   "execution_count": 15,
   "metadata": {
    "collapsed": true
   },
   "outputs": [],
   "source": [
    "def get_avg_stats(result_dir, data_files, config_dir, config_files, option=0, stat=\"avg_binary_score\"):\n",
    "    data = []\n",
    "\n",
    "    for file in data_files:\n",
    "        full_path = result_dir + file\n",
    "        data.append(pd.read_csv(full_path))\n",
    "\n",
    "    configs = []\n",
    "\n",
    "    for file in config_files:\n",
    "        full_path = config_dir + file\n",
    "        with open(full_path) as f:\n",
    "            configs.append(json.load(f))\n",
    "    \n",
    "    avg_total = 0\n",
    "    for i in range(len(data)):\n",
    "        avg_total += data[i][stat].sum()\n",
    "    \n",
    "    total = 0\n",
    "    for i in range(len(data)):\n",
    "        total += len(data[i])\n",
    "    \n",
    "    avg = avg_total / total\n",
    "    \n",
    "    more = []\n",
    "    less = []\n",
    "    for i in range(len(data)):\n",
    "        tup = data_manip.filter_data_into_more_less_by_actual_comparison(data[i],\n",
    "                                                                         configs[i],\n",
    "                                                                         option=option)\n",
    "        more.append(tup[0])\n",
    "        less.append(tup[1])\n",
    "    \n",
    "    more_avg_total = 0\n",
    "    less_avg_total = 0\n",
    "    for i in range(len(more)):\n",
    "        more_avg_total += more[i][stat].sum()\n",
    "        less_avg_total += less[i][stat].sum()\n",
    "    \n",
    "    more_total = 0\n",
    "    less_total = 0\n",
    "    for i in range(len(more)):\n",
    "        more_total += len(more[i])\n",
    "        less_total += len(less[i])\n",
    "    \n",
    "    \n",
    "    more_avg = more_avg_total / more_total\n",
    "    less_avg = less_avg_total / less_total\n",
    "    \n",
    "    return (str(total), str(round(avg, 3)), str(round(more_avg, 3)), str(round(less_avg, 3)))\n",
    "\n"
   ]
  },
  {
   "cell_type": "code",
   "execution_count": 6,
   "metadata": {
    "collapsed": true
   },
   "outputs": [],
   "source": [
    "output_dict = {\n",
    "    \"Task\" : [],\n",
    "    \"Model-Setting\" : [],\n",
    "    \"Dataset Size\" : [],\n",
    "    \"Accuracy\" : [],\n",
    "    \"'More' Accuracy\" : [],\n",
    "    \"'Less' Accuracy\" : []\n",
    "}"
   ]
  },
  {
   "cell_type": "code",
   "execution_count": 7,
   "metadata": {
    "collapsed": true
   },
   "outputs": [],
   "source": [
    "output_dict = {\n",
    "    \"Model\" : [],\n",
    "    \"'Pos' Accuracy\" : [],\n",
    "    \"'Neg' Accuracy\" : []\n",
    "}"
   ]
  },
  {
   "cell_type": "code",
   "execution_count": 7,
   "metadata": {
    "collapsed": true
   },
   "outputs": [],
   "source": [
    "# ROBERTA-base MWP"
   ]
  },
  {
   "cell_type": "code",
   "execution_count": 106,
   "metadata": {
    "collapsed": true
   },
   "outputs": [],
   "source": [
    "result_dir = \"../data/masked_word_result_data/roberta-base/\"\n",
    "\n",
    "data_files = [\"material_perf_2_10.csv\", \"physical_perf_2_10.csv\", \"social_perf_2_10.csv\"]\n",
    "\n",
    "config_dir = \"../data/truism_data/\"\n",
    "\n",
    "config_files = [\"material_data_2.json\", \"physical_data_2.json\", \"social_data_2.json\"]\n",
    "\n",
    "tup = get_avg_stats(result_dir, data_files, config_dir, config_files)"
   ]
  },
  {
   "cell_type": "code",
   "execution_count": 107,
   "metadata": {},
   "outputs": [
    {
     "data": {
      "text/plain": [
       "('1440', '0.498', '0.872', '0.125')"
      ]
     },
     "execution_count": 107,
     "metadata": {},
     "output_type": "execute_result"
    }
   ],
   "source": [
    "tup"
   ]
  },
  {
   "cell_type": "code",
   "execution_count": 108,
   "metadata": {
    "collapsed": true
   },
   "outputs": [],
   "source": [
    "#output_dict[\"Task\"].append(\"MWP\")\n",
    "output_dict[\"Model\"].append(\"RB-base\")\n",
    "#output_dict[\"Dataset Size\"].append(tup[0])\n",
    "#output_dict[\"Accuracy\"].append(tup[1])\n",
    "output_dict[\"'Pos' Accuracy\"].append(tup[2])\n",
    "output_dict[\"'Neg' Accuracy\"].append(tup[3])"
   ]
  },
  {
   "cell_type": "code",
   "execution_count": null,
   "metadata": {
    "collapsed": true
   },
   "outputs": [],
   "source": [
    "# RoBERTa-large MWP"
   ]
  },
  {
   "cell_type": "code",
   "execution_count": 110,
   "metadata": {},
   "outputs": [
    {
     "data": {
      "text/plain": [
       "('1440', '0.51', '0.899', '0.122')"
      ]
     },
     "execution_count": 110,
     "metadata": {},
     "output_type": "execute_result"
    }
   ],
   "source": [
    "result_dir = \"../data/masked_word_result_data/roberta/\"\n",
    "\n",
    "data_files = [\"material_perf_2_10.csv\", \"physical_perf_2_10.csv\", \"social_perf_2_10.csv\"]\n",
    "\n",
    "config_dir = \"../data/truism_data/\"\n",
    "\n",
    "config_files = [\"material_data_2.json\", \"physical_data_2.json\", \"social_data_2.json\"]\n",
    "\n",
    "tup = get_avg_stats(result_dir, data_files, config_dir, config_files)\n",
    "tup"
   ]
  },
  {
   "cell_type": "code",
   "execution_count": 111,
   "metadata": {
    "collapsed": true
   },
   "outputs": [],
   "source": [
    "#output_dict[\"Task\"].append(\"MWP\")\n",
    "output_dict[\"Model\"].append(\"RB-large\")\n",
    "#output_dict[\"Dataset Size\"].append(tup[0])\n",
    "#output_dict[\"Accuracy\"].append(tup[1])\n",
    "output_dict[\"'Pos' Accuracy\"].append(tup[2])\n",
    "output_dict[\"'Neg' Accuracy\"].append(tup[3])"
   ]
  },
  {
   "cell_type": "code",
   "execution_count": null,
   "metadata": {
    "collapsed": true
   },
   "outputs": [],
   "source": [
    "# MWP ROBERTA-base Fine-Tune"
   ]
  },
  {
   "cell_type": "code",
   "execution_count": 9,
   "metadata": {},
   "outputs": [
    {
     "data": {
      "text/plain": [
       "('144', '0.485', '0.878', '0.092')"
      ]
     },
     "execution_count": 9,
     "metadata": {},
     "output_type": "execute_result"
    }
   ],
   "source": [
    "result_dir = \"../data/masked_word_result_data/roberta-base/\"\n",
    "\n",
    "data_files = [\"material_perf_ft_2_10.csv\", \"physical_perf_ft_2_10.csv\", \"social_perf_ft_2_10.csv\"]\n",
    "\n",
    "config_dir = \"../data/truism_data/\"\n",
    "\n",
    "config_files = [\"material_data_2.json\", \"physical_data_2.json\", \"social_data_2.json\"]\n",
    "\n",
    "tup = get_avg_stats(result_dir, data_files, config_dir, config_files)\n",
    "tup\n"
   ]
  },
  {
   "cell_type": "code",
   "execution_count": 115,
   "metadata": {
    "collapsed": true
   },
   "outputs": [],
   "source": [
    "#output_dict[\"Task\"].append(\"MWP\")\n",
    "output_dict[\"Model\"].append(\"RB-base-ft\")\n",
    "#output_dict[\"Dataset Size\"].append(tup[0])\n",
    "#output_dict[\"Accuracy\"].append(tup[1])\n",
    "output_dict[\"'Pos' Accuracy\"].append(tup[2])\n",
    "output_dict[\"'Neg' Accuracy\"].append(tup[3])"
   ]
  },
  {
   "cell_type": "code",
   "execution_count": null,
   "metadata": {
    "collapsed": true
   },
   "outputs": [],
   "source": [
    "# MWP ROBERTA-base Fine-Tune specific masking"
   ]
  },
  {
   "cell_type": "code",
   "execution_count": 11,
   "metadata": {},
   "outputs": [
    {
     "data": {
      "text/plain": [
       "('144', '0.523', '0.458', '0.587')"
      ]
     },
     "execution_count": 11,
     "metadata": {},
     "output_type": "execute_result"
    }
   ],
   "source": [
    "result_dir = \"../data/masked_word_result_data/roberta-base/\"\n",
    "\n",
    "data_files = [\"material_perf_ft4_new_10.csv\", \"physical_perf_ft4_new_10.csv\", \"social_perf_ft4_new_10.csv\"]\n",
    "\n",
    "config_dir = \"../data/truism_data/\"\n",
    "\n",
    "config_files = [\"material_data_2.json\", \"physical_data_2.json\", \"social_data_2.json\"]\n",
    "\n",
    "tup = get_avg_stats(result_dir, data_files, config_dir, config_files)\n",
    "tup"
   ]
  },
  {
   "cell_type": "code",
   "execution_count": null,
   "metadata": {
    "collapsed": true
   },
   "outputs": [],
   "source": [
    "# MWP ROBERTA-base Fine-Tune Specific Masking Sample from Set"
   ]
  },
  {
   "cell_type": "code",
   "execution_count": 20,
   "metadata": {},
   "outputs": [
    {
     "data": {
      "text/plain": [
       "('180', '0.423', '0.843', '0.063')"
      ]
     },
     "execution_count": 20,
     "metadata": {},
     "output_type": "execute_result"
    }
   ],
   "source": [
    "result_dir = \"../data/masked_word_result_data/roberta-base/sample_from_set/\"\n",
    "\n",
    "data_files = [\"material_perf_ft19_new_10.csv\", \"physical_perf_ft19_new_10.csv\", \"social_perf_ft19_new_10.csv\"]\n",
    "\n",
    "config_dir = \"../data/truism_data/\"\n",
    "\n",
    "config_files = [\"material_data_2.json\", \"physical_data_2.json\", \"social_data_2.json\"]\n",
    "\n",
    "tup = get_avg_stats(result_dir, data_files, config_dir, config_files)\n",
    "tup"
   ]
  },
  {
   "cell_type": "code",
   "execution_count": 162,
   "metadata": {
    "collapsed": true
   },
   "outputs": [],
   "source": [
    "# MWP ROBERTA-large Fine-Tune"
   ]
  },
  {
   "cell_type": "code",
   "execution_count": 24,
   "metadata": {},
   "outputs": [
    {
     "data": {
      "text/plain": [
       "('144', '0.467', '0.775', '0.158')"
      ]
     },
     "execution_count": 24,
     "metadata": {},
     "output_type": "execute_result"
    }
   ],
   "source": [
    "result_dir = \"../data/masked_word_result_data/roberta/\"\n",
    "\n",
    "data_files = [\"material_perf_ft_10.csv\", \"physical_perf_ft_10.csv\", \"social_perf_ft_10.csv\"]\n",
    "\n",
    "config_dir = \"../data/truism_data/\"\n",
    "\n",
    "config_files = [\"material_data_2.json\", \"physical_data_2.json\", \"social_data_2.json\"]\n",
    "\n",
    "tup = get_avg_stats(result_dir, data_files, config_dir, config_files)\n",
    "tup"
   ]
  },
  {
   "cell_type": "code",
   "execution_count": 25,
   "metadata": {},
   "outputs": [],
   "source": [
    "# MWP ROBERTA-large Fine-Tune Specific Masking"
   ]
  },
  {
   "cell_type": "code",
   "execution_count": 26,
   "metadata": {},
   "outputs": [
    {
     "data": {
      "text/plain": [
       "('144', '0.5', '0.167', '0.833')"
      ]
     },
     "execution_count": 26,
     "metadata": {},
     "output_type": "execute_result"
    }
   ],
   "source": [
    "result_dir = \"../data/masked_word_result_data/roberta/\"\n",
    "\n",
    "data_files = [\"material_perf_ft4_new_10.csv\", \"physical_perf_ft4_new_10.csv\", \"social_perf_ft4_new_10.csv\"]\n",
    "\n",
    "config_dir = \"../data/truism_data/\"\n",
    "\n",
    "config_files = [\"material_data_2.json\", \"physical_data_2.json\", \"social_data_2.json\"]\n",
    "\n",
    "tup = get_avg_stats(result_dir, data_files, config_dir, config_files)\n",
    "tup"
   ]
  },
  {
   "cell_type": "code",
   "execution_count": 27,
   "metadata": {
    "collapsed": true
   },
   "outputs": [],
   "source": [
    "# MWP ROBERTA-large Fine-Tune Specific Masking Sample from Set"
   ]
  },
  {
   "cell_type": "code",
   "execution_count": 28,
   "metadata": {},
   "outputs": [
    {
     "data": {
      "text/plain": [
       "('180', '0.441', '0.486', '0.403')"
      ]
     },
     "execution_count": 28,
     "metadata": {},
     "output_type": "execute_result"
    }
   ],
   "source": [
    "result_dir = \"../data/masked_word_result_data/roberta/sample_from_set/\"\n",
    "\n",
    "data_files = [\"material_perf_ft19_new_10.csv\", \"physical_perf_ft19_new_10.csv\", \"social_perf_ft19_new_10.csv\"]\n",
    "\n",
    "config_dir = \"../data/truism_data/\"\n",
    "\n",
    "config_files = [\"material_data_2.json\", \"physical_data_2.json\", \"social_data_2.json\"]\n",
    "\n",
    "tup = get_avg_stats(result_dir, data_files, config_dir, config_files)\n",
    "tup"
   ]
  },
  {
   "cell_type": "code",
   "execution_count": 164,
   "metadata": {
    "collapsed": true
   },
   "outputs": [],
   "source": [
    "output_dict[\"Task\"].append(\"MWP\")\n",
    "output_dict[\"Model-Setting\"].append(\"RoBERTa-Fine Tuned\")\n",
    "output_dict[\"Dataset Size\"].append(tup[0])\n",
    "output_dict[\"Accuracy\"].append(tup[1])\n",
    "output_dict[\"'More' Accuracy\"].append(tup[2])\n",
    "output_dict[\"'Less' Accuracy\"].append(tup[3])"
   ]
  },
  {
   "cell_type": "code",
   "execution_count": 118,
   "metadata": {
    "collapsed": true
   },
   "outputs": [],
   "source": [
    "#output_dict[\"Task\"].append(\"MWP\")\n",
    "output_dict[\"Model\"].append(\"RB-large-ft\")\n",
    "#output_dict[\"Dataset Size\"].append(tup[0])\n",
    "#output_dict[\"Accuracy\"].append(tup[1])\n",
    "output_dict[\"'Pos' Accuracy\"].append(tup[2])\n",
    "output_dict[\"'Neg' Accuracy\"].append(tup[3])"
   ]
  },
  {
   "cell_type": "code",
   "execution_count": 165,
   "metadata": {
    "collapsed": true
   },
   "outputs": [],
   "source": [
    "# MWP ROBERTA Just Social"
   ]
  },
  {
   "cell_type": "code",
   "execution_count": 50,
   "metadata": {},
   "outputs": [
    {
     "data": {
      "text/plain": [
       "('480', '0.51', '0.81', '0.21')"
      ]
     },
     "execution_count": 50,
     "metadata": {},
     "output_type": "execute_result"
    }
   ],
   "source": [
    "result_dir = \"../data/masked_word_result_data/roberta/\"\n",
    "\n",
    "data_files = [\"social_perf_2_10.csv\"]\n",
    "\n",
    "config_dir = \"../data/truism_data/\"\n",
    "\n",
    "config_files = [\"social_data_2.json\"]\n",
    "\n",
    "tup = get_avg_stats(result_dir, data_files, config_dir, config_files)\n",
    "tup"
   ]
  },
  {
   "cell_type": "code",
   "execution_count": 167,
   "metadata": {
    "collapsed": true
   },
   "outputs": [],
   "source": [
    "output_dict[\"Task\"].append(\"MWP\")\n",
    "output_dict[\"Model-Setting\"].append(\"RoBERTa-Just Social\")\n",
    "output_dict[\"Dataset Size\"].append(tup[0])\n",
    "output_dict[\"Accuracy\"].append(tup[1])\n",
    "output_dict[\"'More' Accuracy\"].append(tup[2])\n",
    "output_dict[\"'Less' Accuracy\"].append(tup[3])"
   ]
  },
  {
   "cell_type": "code",
   "execution_count": null,
   "metadata": {
    "collapsed": true
   },
   "outputs": [],
   "source": []
  },
  {
   "cell_type": "code",
   "execution_count": 168,
   "metadata": {
    "collapsed": true
   },
   "outputs": [],
   "source": [
    "# MWP ROBERTA Abalation"
   ]
  },
  {
   "cell_type": "code",
   "execution_count": 169,
   "metadata": {
    "collapsed": true
   },
   "outputs": [],
   "source": [
    "result_dir = \"../data/masked_word_result_data/roberta_w_name/\"\n",
    "\n",
    "data_files = [\"social_perf_10.csv\"]\n",
    "\n",
    "config_dir = \"../data/truism_data/\"\n",
    "\n",
    "config_files = [\"social_data_2.json\"]\n",
    "\n",
    "tup = get_avg_stats(result_dir, data_files, config_dir, config_files)"
   ]
  },
  {
   "cell_type": "code",
   "execution_count": 170,
   "metadata": {
    "collapsed": true
   },
   "outputs": [],
   "source": [
    "output_dict[\"Task\"].append(\"MWP\")\n",
    "output_dict[\"Model-Setting\"].append(\"RoBERTa-Social w names\")\n",
    "output_dict[\"Dataset Size\"].append(tup[0])\n",
    "output_dict[\"Accuracy\"].append(tup[1])\n",
    "output_dict[\"'More' Accuracy\"].append(tup[2])\n",
    "output_dict[\"'Less' Accuracy\"].append(tup[3])"
   ]
  },
  {
   "cell_type": "code",
   "execution_count": 51,
   "metadata": {
    "collapsed": true
   },
   "outputs": [],
   "source": [
    "# MWP ALBERT Just Social"
   ]
  },
  {
   "cell_type": "code",
   "execution_count": 53,
   "metadata": {},
   "outputs": [
    {
     "data": {
      "text/plain": [
       "('480', '0.462', '0.612', '0.312')"
      ]
     },
     "execution_count": 53,
     "metadata": {},
     "output_type": "execute_result"
    }
   ],
   "source": [
    "result_dir = \"../data/masked_word_result_data/albert/\"\n",
    "\n",
    "data_files = [\"albert_social_perf_2_10.csv\"]\n",
    "\n",
    "config_dir = \"../data/truism_data/\"\n",
    "\n",
    "config_files = [\"social_data_2.json\"]\n",
    "\n",
    "tup = get_avg_stats(result_dir, data_files, config_dir, config_files)\n",
    "tup"
   ]
  },
  {
   "cell_type": "code",
   "execution_count": null,
   "metadata": {
    "collapsed": true
   },
   "outputs": [],
   "source": [
    "# MWP ALBERT Ablation"
   ]
  },
  {
   "cell_type": "code",
   "execution_count": 55,
   "metadata": {},
   "outputs": [
    {
     "data": {
      "text/plain": [
       "('480', '0.477', '0.657', '0.297')"
      ]
     },
     "execution_count": 55,
     "metadata": {},
     "output_type": "execute_result"
    }
   ],
   "source": [
    "result_dir = \"../data/masked_word_result_data/albert_w_name/\"\n",
    "\n",
    "data_files = [\"alberta_social_perf_2_10.csv\"]\n",
    "\n",
    "config_dir = \"../data/truism_data/\"\n",
    "\n",
    "config_files = [\"social_data_2.json\"]\n",
    "\n",
    "tup = get_avg_stats(result_dir, data_files, config_dir, config_files)\n",
    "tup"
   ]
  },
  {
   "cell_type": "code",
   "execution_count": 171,
   "metadata": {
    "collapsed": true
   },
   "outputs": [],
   "source": [
    "# MWP ROBERTA Easy - 1"
   ]
  },
  {
   "cell_type": "code",
   "execution_count": 67,
   "metadata": {},
   "outputs": [
    {
     "data": {
      "text/plain": [
       "('60', '0.87', '0.997', '0.743')"
      ]
     },
     "execution_count": 67,
     "metadata": {},
     "output_type": "execute_result"
    }
   ],
   "source": [
    "result_dir = \"../data/masked_word_result_data/roberta-base_easy/\"\n",
    "\n",
    "data_files = [\"easy_material_perf_10.csv\", \n",
    "              \"easy_physical_perf_10.csv\",\n",
    "              \"easy_social_perf_10.csv\"]\n",
    "\n",
    "config_dir = \"../data/truism_data/\"\n",
    "\n",
    "config_files = [\"material_data_2.json\", \"physical_data_2.json\", \"social_data_2.json\"]\n",
    "\n",
    "tup = get_avg_stats_split_easy(result_dir, data_files, config_dir, config_files)\n",
    "tup"
   ]
  },
  {
   "cell_type": "code",
   "execution_count": 173,
   "metadata": {
    "collapsed": true
   },
   "outputs": [],
   "source": [
    "output_dict[\"Task\"].append(\"MWP\")\n",
    "output_dict[\"Model-Setting\"].append(\"RoBERTa-Easy, No Switch\")\n",
    "output_dict[\"Dataset Size\"].append(tup[0])\n",
    "output_dict[\"Accuracy\"].append(tup[1])\n",
    "output_dict[\"'More' Accuracy\"].append(tup[2])\n",
    "output_dict[\"'Less' Accuracy\"].append(tup[3])"
   ]
  },
  {
   "cell_type": "code",
   "execution_count": 174,
   "metadata": {
    "collapsed": true
   },
   "outputs": [],
   "source": [
    "# MWP ROBERTA Easy - 2"
   ]
  },
  {
   "cell_type": "code",
   "execution_count": 68,
   "metadata": {},
   "outputs": [
    {
     "data": {
      "text/plain": [
       "('60', '0.31', '0.55', '0.07')"
      ]
     },
     "execution_count": 68,
     "metadata": {},
     "output_type": "execute_result"
    }
   ],
   "source": [
    "result_dir = \"../data/masked_word_result_data/roberta-base_easy/\"\n",
    "\n",
    "data_files = [\"easy_material_perf_10.csv\", \n",
    "              \"easy_physical_perf_10.csv\",\n",
    "              \"easy_social_perf_10.csv\"]\n",
    "\n",
    "config_dir = \"../data/truism_data/\"\n",
    "\n",
    "config_files = [\"material_data_2.json\", \"physical_data_2.json\", \"social_data_2.json\"]\n",
    "\n",
    "tup = get_avg_stats_split_easy(result_dir, data_files, config_dir, config_files, mode=2)\n",
    "tup"
   ]
  },
  {
   "cell_type": "code",
   "execution_count": 176,
   "metadata": {
    "collapsed": true
   },
   "outputs": [],
   "source": [
    "output_dict[\"Task\"].append(\"MWP\")\n",
    "output_dict[\"Model-Setting\"].append(\"RoBERTa-Easy, Negation Switch\")\n",
    "output_dict[\"Dataset Size\"].append(tup[0])\n",
    "output_dict[\"Accuracy\"].append(tup[1])\n",
    "output_dict[\"'More' Accuracy\"].append(tup[2])\n",
    "output_dict[\"'Less' Accuracy\"].append(tup[3])"
   ]
  },
  {
   "cell_type": "code",
   "execution_count": 177,
   "metadata": {
    "collapsed": true
   },
   "outputs": [],
   "source": [
    "# MWP ALBERT"
   ]
  },
  {
   "cell_type": "code",
   "execution_count": 126,
   "metadata": {},
   "outputs": [
    {
     "data": {
      "text/plain": [
       "('1440', '0.49', '0.734', '0.246')"
      ]
     },
     "execution_count": 126,
     "metadata": {},
     "output_type": "execute_result"
    }
   ],
   "source": [
    "result_dir = \"../data/masked_word_result_data/albert/\"\n",
    "\n",
    "data_files = [\"albert_material_perf_2_10.csv\", \n",
    "              \"albert_physical_perf_2_10.csv\",\n",
    "              \"albert_social_perf_2_10.csv\"]\n",
    "\n",
    "config_dir = \"../data/truism_data/\"\n",
    "\n",
    "config_files = [\"material_data_2.json\", \"physical_data_2.json\", \"social_data_2.json\"]\n",
    "\n",
    "tup = get_avg_stats(result_dir, data_files, config_dir, config_files)\n",
    "tup"
   ]
  },
  {
   "cell_type": "code",
   "execution_count": 127,
   "metadata": {
    "collapsed": true
   },
   "outputs": [],
   "source": [
    "#output_dict[\"Task\"].append(\"MWP\")\n",
    "output_dict[\"Model\"].append(\"ALBERT\")\n",
    "#output_dict[\"Dataset Size\"].append(tup[0])\n",
    "#output_dict[\"Accuracy\"].append(tup[1])\n",
    "output_dict[\"'Pos' Accuracy\"].append(tup[2])\n",
    "output_dict[\"'Neg' Accuracy\"].append(tup[3])"
   ]
  },
  {
   "cell_type": "code",
   "execution_count": 179,
   "metadata": {
    "collapsed": true
   },
   "outputs": [],
   "source": [
    "output_dict[\"Task\"].append(\"MWP\")\n",
    "output_dict[\"Model-Setting\"].append(\"ALBERT\")\n",
    "output_dict[\"Dataset Size\"].append(tup[0])\n",
    "output_dict[\"Accuracy\"].append(tup[1])\n",
    "output_dict[\"'More' Accuracy\"].append(tup[2])\n",
    "output_dict[\"'Less' Accuracy\"].append(tup[3])"
   ]
  },
  {
   "cell_type": "code",
   "execution_count": null,
   "metadata": {
    "collapsed": true
   },
   "outputs": [],
   "source": [
    "# MWP ALBERT Easy - Parrot"
   ]
  },
  {
   "cell_type": "code",
   "execution_count": 72,
   "metadata": {},
   "outputs": [
    {
     "data": {
      "text/plain": [
       "('60', '0.963', '0.927', '1.0')"
      ]
     },
     "execution_count": 72,
     "metadata": {},
     "output_type": "execute_result"
    }
   ],
   "source": [
    "result_dir = \"../data/masked_word_result_data/albert_easy/\"\n",
    "\n",
    "data_files = [\"albert_material_perf_2_10.csv\", \n",
    "              \"albert_physical_perf_2_10.csv\",\n",
    "              \"alberta_social_perf_2_10.csv\"]\n",
    "\n",
    "config_dir = \"../data/truism_data/\"\n",
    "\n",
    "config_files = [\"material_data_2.json\", \"physical_data_2.json\", \"social_data_2.json\"]\n",
    "\n",
    "tup = get_avg_stats_split_easy(result_dir, data_files, config_dir, config_files)\n",
    "tup"
   ]
  },
  {
   "cell_type": "code",
   "execution_count": null,
   "metadata": {
    "collapsed": true
   },
   "outputs": [],
   "source": [
    "# MWP ALBERT Easy - Negation"
   ]
  },
  {
   "cell_type": "code",
   "execution_count": 73,
   "metadata": {},
   "outputs": [
    {
     "data": {
      "text/plain": [
       "('60', '0.598', '0.477', '0.72')"
      ]
     },
     "execution_count": 73,
     "metadata": {},
     "output_type": "execute_result"
    }
   ],
   "source": [
    "result_dir = \"../data/masked_word_result_data/albert_easy/\"\n",
    "\n",
    "data_files = [\"albert_material_perf_2_10.csv\", \n",
    "              \"albert_physical_perf_2_10.csv\",\n",
    "              \"alberta_social_perf_2_10.csv\"]\n",
    "\n",
    "config_dir = \"../data/truism_data/\"\n",
    "\n",
    "config_files = [\"material_data_2.json\", \"physical_data_2.json\", \"social_data_2.json\"]\n",
    "\n",
    "tup = get_avg_stats_split_easy(result_dir, data_files, config_dir, config_files, mode=2)\n",
    "tup"
   ]
  },
  {
   "cell_type": "code",
   "execution_count": null,
   "metadata": {
    "collapsed": true
   },
   "outputs": [],
   "source": []
  },
  {
   "cell_type": "code",
   "execution_count": 180,
   "metadata": {
    "collapsed": true
   },
   "outputs": [],
   "source": [
    "# Entailment RoBERTa - Entailment Ability"
   ]
  },
  {
   "cell_type": "code",
   "execution_count": 33,
   "metadata": {
    "collapsed": true
   },
   "outputs": [],
   "source": [
    "result_dir = \"../data/entailment_result_data/roberta/\"\n",
    "\n",
    "data_files = [\"material_entail_perf_2_10.csv\", \n",
    "              \"physical_entail_perf_2_10.csv\",\n",
    "              \"social_entail_perf_2_10.csv\"]\n",
    "\n",
    "config_dir = \"../data/truism_data/\"\n",
    "\n",
    "config_files = [\"material_data_2.json\", \"physical_data_2.json\", \"social_data_2.json\"]\n",
    "\n",
    "tup_1 = get_avg_stats(result_dir, data_files, config_dir, config_files, \n",
    "                    option=1, stat=\"ent_avg_score\")\n",
    "tup_2 = get_avg_stats(result_dir, data_files, config_dir, config_files, \n",
    "                    option=1, stat=\"contr_avg_score\")"
   ]
  },
  {
   "cell_type": "code",
   "execution_count": 35,
   "metadata": {},
   "outputs": [
    {
     "data": {
      "text/plain": [
       "('1440', '0.183', '0.168', '0.197')"
      ]
     },
     "execution_count": 35,
     "metadata": {},
     "output_type": "execute_result"
    }
   ],
   "source": [
    "tup_2"
   ]
  },
  {
   "cell_type": "code",
   "execution_count": 182,
   "metadata": {
    "collapsed": true
   },
   "outputs": [],
   "source": [
    "output_dict[\"Task\"].append(\"Entailment\")\n",
    "output_dict[\"Model-Setting\"].append(\"RoBERTa-Entailment,Contradiction\")\n",
    "output_dict[\"Dataset Size\"].append(tup_1[0])\n",
    "output_dict[\"Accuracy\"].append(\"{}, {}\".format(tup_1[1], tup_2[1]))\n",
    "output_dict[\"'More' Accuracy\"].append(\"{}, {}\".format(tup_1[2], tup_2[2]))\n",
    "output_dict[\"'Less' Accuracy\"].append(\"{}, {}\".format(tup_1[3], tup_2[3]))"
   ]
  },
  {
   "cell_type": "code",
   "execution_count": 183,
   "metadata": {
    "collapsed": true
   },
   "outputs": [],
   "source": [
    "# Entailment RoBERTa - social"
   ]
  },
  {
   "cell_type": "code",
   "execution_count": 184,
   "metadata": {
    "collapsed": true
   },
   "outputs": [],
   "source": [
    "result_dir = \"../data/entailment_result_data/roberta/\"\n",
    "\n",
    "data_files = [\"social_entail_perf_2_10.csv\"]\n",
    "\n",
    "config_dir = \"../data/truism_data/\"\n",
    "\n",
    "config_files = [\"social_data_2.json\"]\n",
    "\n",
    "tup_1 = get_avg_stats(result_dir, data_files, config_dir, config_files, \n",
    "                    option=1, stat=\"ent_avg_score\")\n",
    "tup_2 = get_avg_stats(result_dir, data_files, config_dir, config_files, \n",
    "                    option=1, stat=\"contr_avg_score\")"
   ]
  },
  {
   "cell_type": "code",
   "execution_count": 185,
   "metadata": {
    "collapsed": true
   },
   "outputs": [],
   "source": [
    "output_dict[\"Task\"].append(\"Entailment\")\n",
    "output_dict[\"Model-Setting\"].append(\"RoBERTa-Just Social\")\n",
    "output_dict[\"Dataset Size\"].append(tup_1[0])\n",
    "output_dict[\"Accuracy\"].append(\"{}, {}\".format(tup_1[1], tup_2[1]))\n",
    "output_dict[\"'More' Accuracy\"].append(\"{}, {}\".format(tup_1[2], tup_2[2]))\n",
    "output_dict[\"'Less' Accuracy\"].append(\"{}, {}\".format(tup_1[3], tup_2[3]))"
   ]
  },
  {
   "cell_type": "code",
   "execution_count": 186,
   "metadata": {
    "collapsed": true
   },
   "outputs": [],
   "source": [
    "# Entailment RoBERTa - w Names"
   ]
  },
  {
   "cell_type": "code",
   "execution_count": 187,
   "metadata": {
    "collapsed": true
   },
   "outputs": [],
   "source": [
    "result_dir = \"../data/entailment_result_data/roberta_w_name/\"\n",
    "\n",
    "data_files = [\"social_entail_perf_10.csv\"]\n",
    "\n",
    "config_dir = \"../data/truism_data/\"\n",
    "\n",
    "config_files = [\"social_data_2.json\"]\n",
    "\n",
    "tup_1 = get_avg_stats(result_dir, data_files, config_dir, config_files, \n",
    "                    option=1, stat=\"ent_avg_score\")\n",
    "tup_2 = get_avg_stats(result_dir, data_files, config_dir, config_files, \n",
    "                    option=1, stat=\"contr_avg_score\")"
   ]
  },
  {
   "cell_type": "code",
   "execution_count": 188,
   "metadata": {
    "collapsed": true
   },
   "outputs": [],
   "source": [
    "output_dict[\"Task\"].append(\"Entailment\")\n",
    "output_dict[\"Model-Setting\"].append(\"RoBERTa-Social w Name\")\n",
    "output_dict[\"Dataset Size\"].append(tup_1[0])\n",
    "output_dict[\"Accuracy\"].append(\"{}, {}\".format(tup_1[1], tup_2[1]))\n",
    "output_dict[\"'More' Accuracy\"].append(\"{}, {}\".format(tup_1[2], tup_2[2]))\n",
    "output_dict[\"'Less' Accuracy\"].append(\"{}, {}\".format(tup_1[3], tup_2[3]))"
   ]
  },
  {
   "cell_type": "code",
   "execution_count": null,
   "metadata": {
    "collapsed": true
   },
   "outputs": [],
   "source": [
    "# Entailment RoBERTa - ft"
   ]
  },
  {
   "cell_type": "code",
   "execution_count": 14,
   "metadata": {
    "collapsed": true
   },
   "outputs": [],
   "source": [
    "result_dir = \"../data/entailment_result_data/roberta/\"\n",
    "\n",
    "data_files = [\"material_entail_perf_ft_2_10.csv\", \n",
    "              \"physical_entail_perf_ft_2_10.csv\",\n",
    "              \"social_entail_perf_ft_2_10.csv\"]\n",
    "\n",
    "config_dir = \"../data/truism_data/\"\n",
    "\n",
    "config_files = [\"material_data_2.json\", \"physical_data_2.json\", \"social_data_2.json\"]\n",
    "\n",
    "tup_1 = get_avg_stats(result_dir, data_files, config_dir, config_files, \n",
    "                    option=1, stat=\"ent_avg_score\")\n",
    "tup_2 = get_avg_stats(result_dir, data_files, config_dir, config_files, \n",
    "                    option=1, stat=\"contr_avg_score\")"
   ]
  },
  {
   "cell_type": "code",
   "execution_count": 16,
   "metadata": {},
   "outputs": [
    {
     "data": {
      "text/plain": [
       "('144', '1.0', '1.0', '1.0')"
      ]
     },
     "execution_count": 16,
     "metadata": {},
     "output_type": "execute_result"
    }
   ],
   "source": [
    "tup_2"
   ]
  },
  {
   "cell_type": "code",
   "execution_count": null,
   "metadata": {
    "collapsed": true
   },
   "outputs": [],
   "source": [
    "# Entailment RoBERTa - Parrot"
   ]
  },
  {
   "cell_type": "code",
   "execution_count": 91,
   "metadata": {},
   "outputs": [
    {
     "data": {
      "text/plain": [
       "('60', '0.333', '0.333', '0.333')"
      ]
     },
     "execution_count": 91,
     "metadata": {},
     "output_type": "execute_result"
    }
   ],
   "source": [
    "result_dir = \"../data/entailment_result_data/roberta_easy/\"\n",
    "\n",
    "data_files = [\"material_entail_perf_2_10.csv\", \"physical_entail_perf_2_10.csv\", \"social_entail_perf_2_10.csv\"]\n",
    "\n",
    "config_dir = \"../data/truism_data/\"\n",
    "\n",
    "config_files = [\"material_data_2.json\", \"physical_data_2.json\", \"social_data_2.json\"]\n",
    "\n",
    "tup_1 = get_avg_stats_split_easy(result_dir, data_files, config_dir, config_files, \n",
    "                    option=1, stat=\"ent_avg_score\",mode=2)\n",
    "tup_2 = get_avg_stats_split_easy(result_dir, data_files, config_dir, config_files, \n",
    "                    option=1, stat=\"contr_avg_score\",mode=2)\n",
    "#tup = get_avg_stats_split_easy(result_dir, data_files, config_dir, config_files, stat='') # mode = 2: negation switch\n",
    "tup_2"
   ]
  },
  {
   "cell_type": "code",
   "execution_count": 189,
   "metadata": {
    "collapsed": true
   },
   "outputs": [],
   "source": [
    "# Entailment BART"
   ]
  },
  {
   "cell_type": "code",
   "execution_count": 36,
   "metadata": {
    "collapsed": true
   },
   "outputs": [],
   "source": [
    "result_dir = \"../data/entailment_result_data/bart/\"\n",
    "\n",
    "data_files = [\"material_entail_perf_10.csv\", \"physical_entail_perf_10.csv\", \"social_entail_perf_10.csv\"]\n",
    "\n",
    "config_dir = \"../data/truism_data/\"\n",
    "\n",
    "config_files = [\"material_data_2.json\", \"physical_data_2.json\", \"social_data_2.json\"]\n",
    "\n",
    "tup_1 = get_avg_stats(result_dir, data_files, config_dir, config_files, \n",
    "                    option=1, stat=\"ent_avg_score\")\n",
    "tup_2 = get_avg_stats(result_dir, data_files, config_dir, config_files, \n",
    "                    option=1, stat=\"contr_avg_score\")"
   ]
  },
  {
   "cell_type": "code",
   "execution_count": 38,
   "metadata": {},
   "outputs": [
    {
     "data": {
      "text/plain": [
       "('1440', '0.089', '0.075', '0.102')"
      ]
     },
     "execution_count": 38,
     "metadata": {},
     "output_type": "execute_result"
    }
   ],
   "source": [
    "tup_2"
   ]
  },
  {
   "cell_type": "code",
   "execution_count": null,
   "metadata": {
    "collapsed": true
   },
   "outputs": [],
   "source": [
    "# Entailment BART - Social"
   ]
  },
  {
   "cell_type": "code",
   "execution_count": 60,
   "metadata": {
    "collapsed": true
   },
   "outputs": [],
   "source": [
    "result_dir = \"../data/entailment_result_data/bart/\"\n",
    "\n",
    "data_files = [\"social_entail_perf_10.csv\"]\n",
    "\n",
    "config_dir = \"../data/truism_data/\"\n",
    "\n",
    "config_files = [\"social_data_2.json\"]\n",
    "\n",
    "tup_1 = get_avg_stats(result_dir, data_files, config_dir, config_files, \n",
    "                    option=1, stat=\"ent_avg_score\")\n",
    "tup_2 = get_avg_stats(result_dir, data_files, config_dir, config_files, \n",
    "                    option=1, stat=\"contr_avg_score\")"
   ]
  },
  {
   "cell_type": "code",
   "execution_count": 62,
   "metadata": {},
   "outputs": [
    {
     "data": {
      "text/plain": [
       "('480', '0.174', '0.136', '0.212')"
      ]
     },
     "execution_count": 62,
     "metadata": {},
     "output_type": "execute_result"
    }
   ],
   "source": [
    "tup_2"
   ]
  },
  {
   "cell_type": "code",
   "execution_count": null,
   "metadata": {
    "collapsed": true
   },
   "outputs": [],
   "source": [
    "# Entailment BART - Ablation"
   ]
  },
  {
   "cell_type": "code",
   "execution_count": 63,
   "metadata": {
    "collapsed": true
   },
   "outputs": [],
   "source": [
    "result_dir = \"../data/entailment_result_data/bart_w_name/\"\n",
    "\n",
    "data_files = [\"social_entail_perf_10.csv\"]\n",
    "\n",
    "config_dir = \"../data/truism_data/\"\n",
    "\n",
    "config_files = [\"social_data_2.json\"]\n",
    "\n",
    "tup_1 = get_avg_stats(result_dir, data_files, config_dir, config_files, \n",
    "                    option=1, stat=\"ent_avg_score\")\n",
    "tup_2 = get_avg_stats(result_dir, data_files, config_dir, config_files, \n",
    "                    option=1, stat=\"contr_avg_score\")"
   ]
  },
  {
   "cell_type": "code",
   "execution_count": 65,
   "metadata": {},
   "outputs": [
    {
     "data": {
      "text/plain": [
       "('480', '0.128', '0.144', '0.111')"
      ]
     },
     "execution_count": 65,
     "metadata": {},
     "output_type": "execute_result"
    }
   ],
   "source": [
    "tup_1"
   ]
  },
  {
   "cell_type": "code",
   "execution_count": 191,
   "metadata": {
    "collapsed": true
   },
   "outputs": [],
   "source": [
    "output_dict[\"Task\"].append(\"Entailment\")\n",
    "output_dict[\"Model-Setting\"].append(\"BART\")\n",
    "output_dict[\"Dataset Size\"].append(tup_1[0])\n",
    "output_dict[\"Accuracy\"].append(\"{}, {}\".format(tup_1[1], tup_2[1]))\n",
    "output_dict[\"'More' Accuracy\"].append(\"{}, {}\".format(tup_1[2], tup_2[2]))\n",
    "output_dict[\"'Less' Accuracy\"].append(\"{}, {}\".format(tup_1[3], tup_2[3]))"
   ]
  },
  {
   "cell_type": "code",
   "execution_count": null,
   "metadata": {
    "collapsed": true
   },
   "outputs": [],
   "source": [
    "# Entailment BART - Parrot"
   ]
  },
  {
   "cell_type": "code",
   "execution_count": 95,
   "metadata": {},
   "outputs": [
    {
     "data": {
      "text/plain": [
       "('60', '0.333', '0.333', '0.333')"
      ]
     },
     "execution_count": 95,
     "metadata": {},
     "output_type": "execute_result"
    }
   ],
   "source": [
    "result_dir = \"../data/entailment_result_data/bart_easy/\"\n",
    "\n",
    "data_files = [\"material_entail_perf_10.csv\", \"physical_entail_perf_10.csv\", \"social_entail_perf_10.csv\"]\n",
    "\n",
    "config_dir = \"../data/truism_data/\"\n",
    "\n",
    "config_files = [\"material_data_2.json\", \"physical_data_2.json\", \"social_data_2.json\"]\n",
    "\n",
    "tup_1 = get_avg_stats_split_easy(result_dir, data_files, config_dir, config_files, \n",
    "                    option=1, stat=\"ent_avg_score\",mode=2)\n",
    "tup_2 = get_avg_stats_split_easy(result_dir, data_files, config_dir, config_files, \n",
    "                    option=1, stat=\"contr_avg_score\",mode=2)\n",
    "#tup = get_avg_stats_split_easy(result_dir, data_files, config_dir, config_files, stat='') # mode = 2: negation switch\n",
    "tup_2"
   ]
  },
  {
   "cell_type": "code",
   "execution_count": 17,
   "metadata": {
    "collapsed": true
   },
   "outputs": [],
   "source": [
    "# Generative GPT 2 "
   ]
  },
  {
   "cell_type": "code",
   "execution_count": 119,
   "metadata": {},
   "outputs": [
    {
     "data": {
      "text/plain": [
       "('1440', '0.493', '0.777', '0.209')"
      ]
     },
     "execution_count": 119,
     "metadata": {},
     "output_type": "execute_result"
    }
   ],
   "source": [
    "result_dir = \"../data/generation_result_data/gpt2/\"\n",
    "\n",
    "data_files = [\"material_perf_10.csv\", \"physical_perf_10.csv\", \"social_perf_10.csv\"]\n",
    "\n",
    "config_dir = \"../data/truism_data/\"\n",
    "\n",
    "config_files = [\"material_data_2.json\", \"physical_data_2.json\", \"social_data_2.json\"]\n",
    "\n",
    "tup = get_avg_stats(result_dir, data_files, config_dir, config_files)\n",
    "tup"
   ]
  },
  {
   "cell_type": "code",
   "execution_count": 120,
   "metadata": {
    "collapsed": true
   },
   "outputs": [],
   "source": [
    "#output_dict[\"Task\"].append(\"MWP\")\n",
    "output_dict[\"Model\"].append(\"GPT-2\")\n",
    "#output_dict[\"Dataset Size\"].append(tup[0])\n",
    "#output_dict[\"Accuracy\"].append(tup[1])\n",
    "output_dict[\"'Pos' Accuracy\"].append(tup[2])\n",
    "output_dict[\"'Neg' Accuracy\"].append(tup[3])"
   ]
  },
  {
   "cell_type": "code",
   "execution_count": 192,
   "metadata": {
    "collapsed": true
   },
   "outputs": [],
   "source": [
    "# Generative GPT 2 - fine-tuning"
   ]
  },
  {
   "cell_type": "code",
   "execution_count": 29,
   "metadata": {},
   "outputs": [
    {
     "data": {
      "text/plain": [
       "('144', '0.486', '0.488', '0.485')"
      ]
     },
     "execution_count": 29,
     "metadata": {},
     "output_type": "execute_result"
    }
   ],
   "source": [
    "result_dir = \"../data/generation_result_data/gpt2/\"\n",
    "\n",
    "data_files = [\"material_perf_ft_10.csv\", \"physical_perf_ft_10.csv\", \"social_perf_ft_10.csv\"]\n",
    "\n",
    "config_dir = \"../data/truism_data/\"\n",
    "\n",
    "config_files = [\"material_data_2.json\", \"physical_data_2.json\", \"social_data_2.json\"]\n",
    "\n",
    "tup = get_avg_stats(result_dir, data_files, config_dir, config_files)\n",
    "tup"
   ]
  },
  {
   "cell_type": "code",
   "execution_count": 30,
   "metadata": {
    "collapsed": true
   },
   "outputs": [],
   "source": [
    "#output_dict[\"Task\"].append(\"MWP\")\n",
    "output_dict[\"Model\"].append(\"GPT-2-ft\")\n",
    "#output_dict[\"Dataset Size\"].append(tup[0])\n",
    "#output_dict[\"Accuracy\"].append(tup[1])\n",
    "output_dict[\"'Pos' Accuracy\"].append(tup[2])\n",
    "output_dict[\"'Neg' Accuracy\"].append(tup[3])"
   ]
  },
  {
   "cell_type": "code",
   "execution_count": 31,
   "metadata": {
    "collapsed": true
   },
   "outputs": [],
   "source": [
    "# Generative GPT 2 - fine-tuning sample from set"
   ]
  },
  {
   "cell_type": "code",
   "execution_count": 32,
   "metadata": {},
   "outputs": [
    {
     "data": {
      "text/plain": [
       "('180', '0.482', '0.276', '0.658')"
      ]
     },
     "execution_count": 32,
     "metadata": {},
     "output_type": "execute_result"
    }
   ],
   "source": [
    "result_dir = \"../data/generation_result_data/gpt2/sample_from_set/\"\n",
    "\n",
    "data_files = [\"material_perf_ft_10.csv\", \"physical_perf_ft_10.csv\", \"social_perf_ft_10.csv\"]\n",
    "\n",
    "config_dir = \"../data/truism_data/\"\n",
    "\n",
    "config_files = [\"material_data_2.json\", \"physical_data_2.json\", \"social_data_2.json\"]\n",
    "\n",
    "tup = get_avg_stats(result_dir, data_files, config_dir, config_files)\n",
    "tup"
   ]
  },
  {
   "cell_type": "code",
   "execution_count": 28,
   "metadata": {},
   "outputs": [
    {
     "data": {
      "text/plain": [
       "('1440', '-0.0', '0.034', '-0.034')"
      ]
     },
     "execution_count": 28,
     "metadata": {},
     "output_type": "execute_result"
    }
   ],
   "source": [
    "tup = get_avg_stats(result_dir, data_files, config_dir, config_files, stat='avg_ratio_score')\n",
    "tup"
   ]
  },
  {
   "cell_type": "code",
   "execution_count": 194,
   "metadata": {
    "collapsed": true
   },
   "outputs": [],
   "source": [
    "output_dict[\"Task\"].append(\"Generative\")\n",
    "output_dict[\"Model-Setting\"].append(\"GPT2\")\n",
    "output_dict[\"Dataset Size\"].append(tup[0])\n",
    "output_dict[\"Accuracy\"].append(tup[1])\n",
    "output_dict[\"'More' Accuracy\"].append(tup[2])\n",
    "output_dict[\"'Less' Accuracy\"].append(tup[3])"
   ]
  },
  {
   "cell_type": "code",
   "execution_count": null,
   "metadata": {
    "collapsed": true
   },
   "outputs": [],
   "source": [
    "# Generative GPT 2 Just Social"
   ]
  },
  {
   "cell_type": "code",
   "execution_count": 97,
   "metadata": {},
   "outputs": [
    {
     "data": {
      "text/plain": [
       "('480', '0.49', '0.805', '0.175')"
      ]
     },
     "execution_count": 97,
     "metadata": {},
     "output_type": "execute_result"
    }
   ],
   "source": [
    "result_dir = \"../data/generation_result_data/gpt2/\"\n",
    "\n",
    "data_files = [\"social_perf_10.csv\"]\n",
    "\n",
    "config_dir = \"../data/truism_data/\"\n",
    "\n",
    "config_files = [\"social_data_2.json\"]\n",
    "\n",
    "tup = get_avg_stats(result_dir, data_files, config_dir, config_files)\n",
    "tup"
   ]
  },
  {
   "cell_type": "code",
   "execution_count": null,
   "metadata": {
    "collapsed": true
   },
   "outputs": [],
   "source": [
    "# Generative GPT 2 Ablation"
   ]
  },
  {
   "cell_type": "code",
   "execution_count": 98,
   "metadata": {},
   "outputs": [
    {
     "data": {
      "text/plain": [
       "('480', '0.495', '0.759', '0.23')"
      ]
     },
     "execution_count": 98,
     "metadata": {},
     "output_type": "execute_result"
    }
   ],
   "source": [
    "result_dir = \"../data/generation_result_data/gpt2_w_name/\"\n",
    "\n",
    "data_files = [\"social_perf_10.csv\"]\n",
    "\n",
    "config_dir = \"../data/truism_data/\"\n",
    "\n",
    "config_files = [\"social_data_2.json\"]\n",
    "\n",
    "tup = get_avg_stats(result_dir, data_files, config_dir, config_files)\n",
    "tup"
   ]
  },
  {
   "cell_type": "code",
   "execution_count": null,
   "metadata": {
    "collapsed": true
   },
   "outputs": [],
   "source": [
    "# Generative GPT 2 - Parrot"
   ]
  },
  {
   "cell_type": "code",
   "execution_count": 82,
   "metadata": {},
   "outputs": [
    {
     "data": {
      "text/plain": [
       "('60', '0.317', '0.44', '0.193')"
      ]
     },
     "execution_count": 82,
     "metadata": {},
     "output_type": "execute_result"
    }
   ],
   "source": [
    "result_dir = \"../data/generation_result_data/gpt2_easy/\"\n",
    "\n",
    "data_files = [\"material_perf_10.csv\", \"physical_perf_10.csv\", \"social_perf_10.csv\"]\n",
    "\n",
    "config_dir = \"../data/truism_data/\"\n",
    "\n",
    "config_files = [\"material_data_2.json\", \"physical_data_2.json\", \"social_data_2.json\"]\n",
    "\n",
    "tup = get_avg_stats_split_easy(result_dir, data_files, config_dir, config_files, mode=2) # mode = 2: negation switch\n",
    "tup"
   ]
  },
  {
   "cell_type": "code",
   "execution_count": null,
   "metadata": {
    "collapsed": true
   },
   "outputs": [],
   "source": [
    "# Generative COMET-ConecptNet"
   ]
  },
  {
   "cell_type": "code",
   "execution_count": 134,
   "metadata": {},
   "outputs": [
    {
     "data": {
      "text/plain": [
       "('1440', '0.496', '0.698', '0.294')"
      ]
     },
     "execution_count": 134,
     "metadata": {},
     "output_type": "execute_result"
    }
   ],
   "source": [
    "result_dir = \"../data/generation_result_data/comet_conceptnet/\"\n",
    "\n",
    "data_files = [\"material_perf_10.csv\", \"physical_perf_10.csv\", \"social_perf_10.csv\"]\n",
    "\n",
    "config_dir = \"../data/truism_data/\"\n",
    "\n",
    "config_files = [\"material_data_2.json\", \"physical_data_2.json\", \"social_data_2.json\"]\n",
    "\n",
    "tup = get_avg_stats(result_dir, data_files, config_dir, config_files)\n",
    "tup"
   ]
  },
  {
   "cell_type": "code",
   "execution_count": 123,
   "metadata": {
    "collapsed": true
   },
   "outputs": [],
   "source": [
    "#output_dict[\"Task\"].append(\"MWP\")\n",
    "output_dict[\"Model\"].append(\"CM-CN\")\n",
    "#output_dict[\"Dataset Size\"].append(tup[0])\n",
    "#output_dict[\"Accuracy\"].append(tup[1])\n",
    "output_dict[\"'Pos' Accuracy\"].append(tup[2])\n",
    "output_dict[\"'Neg' Accuracy\"].append(tup[3])"
   ]
  },
  {
   "cell_type": "code",
   "execution_count": 30,
   "metadata": {},
   "outputs": [
    {
     "data": {
      "text/plain": [
       "('1440', '0.0', '0.037', '-0.036')"
      ]
     },
     "execution_count": 30,
     "metadata": {},
     "output_type": "execute_result"
    }
   ],
   "source": [
    "tup = get_avg_stats(result_dir, data_files, config_dir, config_files, stat='avg_ratio_score')\n",
    "tup"
   ]
  },
  {
   "cell_type": "code",
   "execution_count": null,
   "metadata": {
    "collapsed": true
   },
   "outputs": [],
   "source": [
    "output_dict[\"Task\"].append(\"Generative\")\n",
    "output_dict[\"Model-Setting\"].append(\"COMET-ConceptNet\")\n",
    "output_dict[\"Dataset Size\"].append(tup[0])\n",
    "output_dict[\"Accuracy\"].append(tup[1])\n",
    "output_dict[\"'More' Accuracy\"].append(tup[2])\n",
    "output_dict[\"'Less' Accuracy\"].append(tup[3])"
   ]
  },
  {
   "cell_type": "code",
   "execution_count": null,
   "metadata": {
    "collapsed": true
   },
   "outputs": [],
   "source": [
    "# Generative CM-CN Just Social"
   ]
  },
  {
   "cell_type": "code",
   "execution_count": 100,
   "metadata": {},
   "outputs": [
    {
     "data": {
      "text/plain": [
       "('480', '0.49', '0.744', '0.237')"
      ]
     },
     "execution_count": 100,
     "metadata": {},
     "output_type": "execute_result"
    }
   ],
   "source": [
    "result_dir = \"../data/generation_result_data/comet_conceptnet/\"\n",
    "\n",
    "data_files = [\"social_perf_10.csv\"]\n",
    "\n",
    "config_dir = \"../data/truism_data/\"\n",
    "\n",
    "config_files = [\"social_data_2.json\"]\n",
    "\n",
    "tup = get_avg_stats(result_dir, data_files, config_dir, config_files)\n",
    "tup"
   ]
  },
  {
   "cell_type": "code",
   "execution_count": null,
   "metadata": {
    "collapsed": true
   },
   "outputs": [],
   "source": [
    "# Generative CM-CN Ablation"
   ]
  },
  {
   "cell_type": "code",
   "execution_count": 101,
   "metadata": {},
   "outputs": [
    {
     "data": {
      "text/plain": [
       "('480', '0.49', '0.725', '0.255')"
      ]
     },
     "execution_count": 101,
     "metadata": {},
     "output_type": "execute_result"
    }
   ],
   "source": [
    "result_dir = \"../data/generation_result_data/comet_concept_w_names/\"\n",
    "\n",
    "data_files = [\"social_perf_10.csv\"]\n",
    "\n",
    "config_dir = \"../data/truism_data/\"\n",
    "\n",
    "config_files = [\"social_data_2.json\"]\n",
    "\n",
    "tup = get_avg_stats(result_dir, data_files, config_dir, config_files)\n",
    "tup"
   ]
  },
  {
   "cell_type": "code",
   "execution_count": null,
   "metadata": {
    "collapsed": true
   },
   "outputs": [],
   "source": [
    "# Generative COMET-CN - Parrot"
   ]
  },
  {
   "cell_type": "code",
   "execution_count": 84,
   "metadata": {},
   "outputs": [
    {
     "data": {
      "text/plain": [
       "('60', '0.448', '0.567', '0.33')"
      ]
     },
     "execution_count": 84,
     "metadata": {},
     "output_type": "execute_result"
    }
   ],
   "source": [
    "result_dir = \"../data/generation_result_data/comet_easy_conceptnet/\"\n",
    "\n",
    "data_files = [\"material_perf_10.csv\", \"physical_perf_10.csv\", \"social_perf_10.csv\"]\n",
    "\n",
    "config_dir = \"../data/truism_data/\"\n",
    "\n",
    "config_files = [\"material_data_2.json\", \"physical_data_2.json\", \"social_data_2.json\"]\n",
    "\n",
    "tup = get_avg_stats_split_easy(result_dir, data_files, config_dir, config_files, mode=2) # mode = 2: negation switch\n",
    "tup"
   ]
  },
  {
   "cell_type": "code",
   "execution_count": 124,
   "metadata": {},
   "outputs": [
    {
     "data": {
      "text/plain": [
       "('1440', '0.498', '0.664', '0.332')"
      ]
     },
     "execution_count": 124,
     "metadata": {},
     "output_type": "execute_result"
    }
   ],
   "source": [
    "# Generative COMET-ATOMIC\n",
    "\n",
    "result_dir = \"../data/generation_result_data/comet_atomic/\"\n",
    "\n",
    "data_files = [\"material_perf_10.csv\", \"physical_perf_10.csv\", \"social_perf_10.csv\"]\n",
    "\n",
    "config_dir = \"../data/truism_data/\"\n",
    "\n",
    "config_files = [\"material_data_2.json\", \"physical_data_2.json\", \"social_data_2.json\"]\n",
    "\n",
    "tup = get_avg_stats(result_dir, data_files, config_dir, config_files)\n",
    "tup"
   ]
  },
  {
   "cell_type": "code",
   "execution_count": 125,
   "metadata": {
    "collapsed": true
   },
   "outputs": [],
   "source": [
    "#output_dict[\"Task\"].append(\"MWP\")\n",
    "output_dict[\"Model\"].append(\"CM-A\")\n",
    "#output_dict[\"Dataset Size\"].append(tup[0])\n",
    "#output_dict[\"Accuracy\"].append(tup[1])\n",
    "output_dict[\"'Pos' Accuracy\"].append(tup[2])\n",
    "output_dict[\"'Neg' Accuracy\"].append(tup[3])"
   ]
  },
  {
   "cell_type": "code",
   "execution_count": null,
   "metadata": {
    "collapsed": true
   },
   "outputs": [],
   "source": [
    "output_dict[\"Task\"].append(\"Generative\")\n",
    "output_dict[\"Model-Setting\"].append(\"COMET-ATOMIC\")\n",
    "output_dict[\"Dataset Size\"].append(tup[0])\n",
    "output_dict[\"Accuracy\"].append(tup[1])\n",
    "output_dict[\"'More' Accuracy\"].append(tup[2])\n",
    "output_dict[\"'Less' Accuracy\"].append(tup[3])"
   ]
  },
  {
   "cell_type": "code",
   "execution_count": null,
   "metadata": {
    "collapsed": true
   },
   "outputs": [],
   "source": [
    "# Generative CM-ATOMIC Just Social"
   ]
  },
  {
   "cell_type": "code",
   "execution_count": 102,
   "metadata": {},
   "outputs": [
    {
     "data": {
      "text/plain": [
       "('480', '0.498', '0.613', '0.383')"
      ]
     },
     "execution_count": 102,
     "metadata": {},
     "output_type": "execute_result"
    }
   ],
   "source": [
    "result_dir = \"../data/generation_result_data/comet_atomic/\"\n",
    "\n",
    "data_files = [\"social_perf_10.csv\"]\n",
    "\n",
    "config_dir = \"../data/truism_data/\"\n",
    "\n",
    "config_files = [\"social_data_2.json\"]\n",
    "\n",
    "tup = get_avg_stats(result_dir, data_files, config_dir, config_files)\n",
    "tup"
   ]
  },
  {
   "cell_type": "code",
   "execution_count": null,
   "metadata": {
    "collapsed": true
   },
   "outputs": [],
   "source": [
    "# Generative CM-ATOMIC Ablation"
   ]
  },
  {
   "cell_type": "code",
   "execution_count": 103,
   "metadata": {},
   "outputs": [
    {
     "data": {
      "text/plain": [
       "('480', '0.501', '0.6', '0.401')"
      ]
     },
     "execution_count": 103,
     "metadata": {},
     "output_type": "execute_result"
    }
   ],
   "source": [
    "result_dir = \"../data/generation_result_data/comet_atomic_w_names/\"\n",
    "\n",
    "data_files = [\"social_perf_10.csv\"]\n",
    "\n",
    "config_dir = \"../data/truism_data/\"\n",
    "\n",
    "config_files = [\"social_data_2.json\"]\n",
    "\n",
    "tup = get_avg_stats(result_dir, data_files, config_dir, config_files)\n",
    "tup"
   ]
  },
  {
   "cell_type": "code",
   "execution_count": null,
   "metadata": {
    "collapsed": true
   },
   "outputs": [],
   "source": [
    "# Generative COMET-ATOMIC - Parrot"
   ]
  },
  {
   "cell_type": "code",
   "execution_count": 86,
   "metadata": {},
   "outputs": [
    {
     "data": {
      "text/plain": [
       "('60', '0.523', '0.36', '0.687')"
      ]
     },
     "execution_count": 86,
     "metadata": {},
     "output_type": "execute_result"
    }
   ],
   "source": [
    "result_dir = \"../data/generation_result_data/comet_easy_atomic/\"\n",
    "\n",
    "data_files = [\"material_perf_10.csv\", \"physical_perf_10.csv\", \"social_perf_10.csv\"]\n",
    "\n",
    "config_dir = \"../data/truism_data/\"\n",
    "\n",
    "config_files = [\"material_data_2.json\", \"physical_data_2.json\", \"social_data_2.json\"]\n",
    "\n",
    "tup = get_avg_stats_split_easy(result_dir, data_files, config_dir, config_files, mode=2) # mode = 2: negation switch\n",
    "tup"
   ]
  },
  {
   "cell_type": "code",
   "execution_count": 195,
   "metadata": {
    "collapsed": true
   },
   "outputs": [],
   "source": [
    "# output_dict"
   ]
  },
  {
   "cell_type": "code",
   "execution_count": 129,
   "metadata": {
    "collapsed": true
   },
   "outputs": [],
   "source": [
    "#output_dict[\"Task\"].append(\"Human\")\n",
    "output_dict[\"Model\"].append(\"Human\")\n",
    "#output_dict[\"Dataset Size\"].append(\"72\")\n",
    "#output_dict[\"Accuracy\"].append(\"0.845\")\n",
    "output_dict[\"'Pos' Accuracy\"].append(\"0.831\")\n",
    "output_dict[\"'Neg' Accuracy\"].append(\"0.863\")"
   ]
  },
  {
   "cell_type": "code",
   "execution_count": 130,
   "metadata": {
    "collapsed": true
   },
   "outputs": [],
   "source": [
    "df = pd.DataFrame.from_dict(output_dict)"
   ]
  },
  {
   "cell_type": "code",
   "execution_count": 133,
   "metadata": {},
   "outputs": [
    {
     "name": "stdout",
     "output_type": "stream",
     "text": [
      "\\begin{tabular}{lll}\n",
      "\\toprule\n",
      "'Neg' Accuracy & 'Pos' Accuracy &        Model \\\\\n",
      "\\midrule\n",
      "         0.125 &          0.872 &      RB-base \\\\\n",
      "         0.122 &          0.899 &     RB-large \\\\\n",
      "         0.092 &          0.878 &   RB-base-ft \\\\\n",
      "         0.158 &          0.775 &  RB-large-ft \\\\\n",
      "         0.209 &          0.777 &        GPT-2 \\\\\n",
      "         0.483 &          0.509 &     GPT-2-ft \\\\\n",
      "         0.483 &          0.509 &        CM-CN \\\\\n",
      "         0.332 &          0.664 &         CM-A \\\\\n",
      "         0.246 &          0.734 &       ALBERT \\\\\n",
      "         0.863 &          0.831 &        Human \\\\\n",
      "\\bottomrule\n",
      "\\end{tabular}\n",
      "\n"
     ]
    }
   ],
   "source": [
    "print(df.to_latex(index=False))"
   ]
  },
  {
   "cell_type": "code",
   "execution_count": null,
   "metadata": {
    "collapsed": true
   },
   "outputs": [],
   "source": []
  },
  {
   "cell_type": "code",
   "execution_count": null,
   "metadata": {
    "collapsed": true
   },
   "outputs": [],
   "source": []
  },
  {
   "cell_type": "code",
   "execution_count": null,
   "metadata": {
    "collapsed": true
   },
   "outputs": [],
   "source": []
  },
  {
   "cell_type": "code",
   "execution_count": null,
   "metadata": {
    "collapsed": true
   },
   "outputs": [],
   "source": []
  },
  {
   "cell_type": "code",
   "execution_count": null,
   "metadata": {
    "collapsed": true
   },
   "outputs": [],
   "source": []
  }
 ],
 "metadata": {
  "kernelspec": {
   "display_name": "Python 3",
   "language": "python",
   "name": "python3"
  },
  "language_info": {
   "codemirror_mode": {
    "name": "ipython",
    "version": 3
   },
   "file_extension": ".py",
   "mimetype": "text/x-python",
   "name": "python",
   "nbconvert_exporter": "python",
   "pygments_lexer": "ipython3",
   "version": "3.6.9"
  }
 },
 "nbformat": 4,
 "nbformat_minor": 4
}
