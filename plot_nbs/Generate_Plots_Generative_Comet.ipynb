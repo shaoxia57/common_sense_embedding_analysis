{
 "cells": [
  {
   "cell_type": "code",
   "execution_count": 124,
   "metadata": {},
   "outputs": [
    {
     "name": "stdout",
     "output_type": "stream",
     "text": [
      "The autoreload extension is already loaded. To reload it, use:\n",
      "  %reload_ext autoreload\n"
     ]
    }
   ],
   "source": [
    "%load_ext autoreload\n",
    "%autoreload 2"
   ]
  },
  {
   "cell_type": "code",
   "execution_count": 125,
   "metadata": {},
   "outputs": [],
   "source": [
    "import pandas as pd\n",
    "import json\n",
    "import numpy as np\n",
    "import sys\n",
    "sys.path.append('../')\n",
    "from dataset_creation.generate_data import pad_string\n",
    "import evaluation_utils.eval_grouping_queries as queries\n",
    "from evaluation_utils.plotting_utils import *\n",
    "import evaluation_utils.exploration_utils as data_manip"
   ]
  },
  {
   "cell_type": "code",
   "execution_count": 176,
   "metadata": {},
   "outputs": [],
   "source": [
    "result_dir = \"../data/generation_result_data/comet/\"\n",
    "\n",
    "data_files = [\"material_perf_10.csv\", \"social_perf_10.csv\", \"physical_perf_10.csv\"]\n",
    "\n",
    "config_dir = \"../data/truism_data/\"\n",
    "\n",
    "config_files = [\"social_data_2.json\", \"material_data_2.json\", \"physical_data_2.json\"]"
   ]
  },
  {
   "cell_type": "code",
   "execution_count": 177,
   "metadata": {},
   "outputs": [],
   "source": [
    "data = []\n",
    "\n",
    "for file in data_files:\n",
    "    full_path = result_dir + file\n",
    "    data.append(pd.read_csv(full_path))\n",
    "\n",
    "configs = []\n",
    "\n",
    "for file in config_files:\n",
    "    full_path = config_dir + file\n",
    "    with open(full_path) as f:\n",
    "        configs.append(json.load(f))"
   ]
  },
  {
   "cell_type": "code",
   "execution_count": 178,
   "metadata": {},
   "outputs": [
    {
     "data": {
      "text/html": [
       "<div>\n",
       "<style scoped>\n",
       "    .dataframe tbody tr th:only-of-type {\n",
       "        vertical-align: middle;\n",
       "    }\n",
       "\n",
       "    .dataframe tbody tr th {\n",
       "        vertical-align: top;\n",
       "    }\n",
       "\n",
       "    .dataframe thead th {\n",
       "        text-align: right;\n",
       "    }\n",
       "</style>\n",
       "<table border=\"1\" class=\"dataframe\">\n",
       "  <thead>\n",
       "    <tr style=\"text-align: right;\">\n",
       "      <th></th>\n",
       "      <th>truism_number</th>\n",
       "      <th>perturbation</th>\n",
       "      <th>premise</th>\n",
       "      <th>avg_binary_score</th>\n",
       "      <th>avg_ratio_score</th>\n",
       "    </tr>\n",
       "  </thead>\n",
       "  <tbody>\n",
       "    <tr>\n",
       "      <th>0</th>\n",
       "      <td>0</td>\n",
       "      <td>original</td>\n",
       "      <td>original</td>\n",
       "      <td>1.0</td>\n",
       "      <td>0.085772</td>\n",
       "    </tr>\n",
       "    <tr>\n",
       "      <th>1</th>\n",
       "      <td>0</td>\n",
       "      <td>original</td>\n",
       "      <td>asymmetric_premise</td>\n",
       "      <td>0.0</td>\n",
       "      <td>-0.070884</td>\n",
       "    </tr>\n",
       "    <tr>\n",
       "      <th>2</th>\n",
       "      <td>0</td>\n",
       "      <td>original</td>\n",
       "      <td>asymmetric_conclusion</td>\n",
       "      <td>0.0</td>\n",
       "      <td>-0.082638</td>\n",
       "    </tr>\n",
       "    <tr>\n",
       "      <th>3</th>\n",
       "      <td>0</td>\n",
       "      <td>negation</td>\n",
       "      <td>original</td>\n",
       "      <td>0.0</td>\n",
       "      <td>-0.065957</td>\n",
       "    </tr>\n",
       "    <tr>\n",
       "      <th>4</th>\n",
       "      <td>0</td>\n",
       "      <td>negation</td>\n",
       "      <td>asymmetric_premise</td>\n",
       "      <td>1.0</td>\n",
       "      <td>0.070712</td>\n",
       "    </tr>\n",
       "  </tbody>\n",
       "</table>\n",
       "</div>"
      ],
      "text/plain": [
       "   truism_number perturbation                premise  avg_binary_score  \\\n",
       "0              0     original               original               1.0   \n",
       "1              0     original     asymmetric_premise               0.0   \n",
       "2              0     original  asymmetric_conclusion               0.0   \n",
       "3              0     negation               original               0.0   \n",
       "4              0     negation     asymmetric_premise               1.0   \n",
       "\n",
       "   avg_ratio_score  \n",
       "0         0.085772  \n",
       "1        -0.070884  \n",
       "2        -0.082638  \n",
       "3        -0.065957  \n",
       "4         0.070712  "
      ]
     },
     "execution_count": 178,
     "metadata": {},
     "output_type": "execute_result"
    }
   ],
   "source": [
    "data[0].head()"
   ]
  },
  {
   "cell_type": "code",
   "execution_count": null,
   "metadata": {},
   "outputs": [],
   "source": []
  },
  {
   "cell_type": "code",
   "execution_count": 179,
   "metadata": {},
   "outputs": [],
   "source": [
    "accuracy_sep_dict = {\n",
    "                      \"template\" : [],\n",
    "                      \"set_number\" : [],\n",
    "                      \"linguistic_operator\" : [],\n",
    "                      \"asymetric_operator\" : [],\n",
    "                      \"stat\" : []\n",
    "                    }\n",
    "\n",
    "\n",
    "ratio_sep_dict = {\n",
    "                    \"template\" : [],\n",
    "                    \"set_number\" : [],\n",
    "                    \"linguistic_operator\" : [],\n",
    "                    \"asymetric_operator\" : [],\n",
    "                    \"stat\" : []\n",
    "                 }\n",
    "\n",
    "\n",
    "last_num = 0\n",
    "for i, d in enumerate(data):\n",
    "    accuracy_sep_dict = data_manip.transform_results_to_seperate_sql_dict(d,\n",
    "                                                                          accuracy_sep_dict,\n",
    "                                                                          stat_name=\"avg_binary_score\",\n",
    "                                                                          last_num=last_num,\n",
    "                                                                          option=0, \n",
    "                                                                          param_data=configs[i])\n",
    "    ratio_sep_dict = data_manip.transform_results_to_seperate_sql_dict(d,\n",
    "                                                                       ratio_sep_dict,\n",
    "                                                                       stat_name=\"avg_ratio_score\",\n",
    "                                                                       last_num=last_num,\n",
    "                                                                       option=0,\n",
    "                                                                       param_data=configs[i])\n",
    "    last_num += 20"
   ]
  },
  {
   "cell_type": "code",
   "execution_count": 180,
   "metadata": {},
   "outputs": [],
   "source": [
    "accuracy_merged_dict = {\n",
    "                         \"template\" : [],\n",
    "                         \"set_number\" : [],\n",
    "                         \"perturbation\" : [],\n",
    "                         \"stat\" : []\n",
    "                       }\n",
    "\n",
    "ratio_merged_dict = {\n",
    "                      \"template\" : [],\n",
    "                      \"set_number\" : [],\n",
    "                      \"perturbation\" : [],\n",
    "                      \"stat\" : []\n",
    "                    }\n",
    "\n",
    "last_num = 0\n",
    "for i, d in enumerate(data):\n",
    "    accuracy_merged_dict = data_manip.transform_results_to_merged_sql_dict(d, \n",
    "                                                                           accuracy_merged_dict,\n",
    "                                                                           stat_name=\"avg_binary_score\",\n",
    "                                                                           last_num=last_num,\n",
    "                                                                           option=0,\n",
    "                                                                           param_data=configs[i])\n",
    "    ratio_merged_dict = data_manip.transform_results_to_merged_sql_dict(d, \n",
    "                                                                        ratio_merged_dict,\n",
    "                                                                        stat_name=\"avg_ratio_score\",\n",
    "                                                                        last_num=last_num,\n",
    "                                                                        option=0,\n",
    "                                                                        param_data=configs[i])\n",
    "    last_num += 20"
   ]
  },
  {
   "cell_type": "code",
   "execution_count": 181,
   "metadata": {},
   "outputs": [],
   "source": [
    "acc_sep_df = pd.DataFrame.from_dict(accuracy_sep_dict)\n",
    "ratio_sep_df = pd.DataFrame.from_dict(ratio_sep_dict)\n",
    "\n",
    "acc_merged_df = pd.DataFrame.from_dict(accuracy_merged_dict)\n",
    "ratio_merged_df = pd.DataFrame.from_dict(ratio_merged_dict)"
   ]
  },
  {
   "cell_type": "code",
   "execution_count": 182,
   "metadata": {},
   "outputs": [
    {
     "data": {
      "text/html": [
       "<div>\n",
       "<style scoped>\n",
       "    .dataframe tbody tr th:only-of-type {\n",
       "        vertical-align: middle;\n",
       "    }\n",
       "\n",
       "    .dataframe tbody tr th {\n",
       "        vertical-align: top;\n",
       "    }\n",
       "\n",
       "    .dataframe thead th {\n",
       "        text-align: right;\n",
       "    }\n",
       "</style>\n",
       "<table border=\"1\" class=\"dataframe\">\n",
       "  <thead>\n",
       "    <tr style=\"text-align: right;\">\n",
       "      <th></th>\n",
       "      <th>template</th>\n",
       "      <th>set_number</th>\n",
       "      <th>linguistic_operator</th>\n",
       "      <th>asymetric_operator</th>\n",
       "      <th>stat</th>\n",
       "    </tr>\n",
       "  </thead>\n",
       "  <tbody>\n",
       "    <tr>\n",
       "      <th>0</th>\n",
       "      <td>3</td>\n",
       "      <td>0</td>\n",
       "      <td>original</td>\n",
       "      <td>original</td>\n",
       "      <td>1.0</td>\n",
       "    </tr>\n",
       "    <tr>\n",
       "      <th>1</th>\n",
       "      <td>3</td>\n",
       "      <td>0</td>\n",
       "      <td>original</td>\n",
       "      <td>asymmetric_premise</td>\n",
       "      <td>0.0</td>\n",
       "    </tr>\n",
       "    <tr>\n",
       "      <th>2</th>\n",
       "      <td>3</td>\n",
       "      <td>0</td>\n",
       "      <td>original</td>\n",
       "      <td>asymmetric_conclusion</td>\n",
       "      <td>0.0</td>\n",
       "    </tr>\n",
       "    <tr>\n",
       "      <th>3</th>\n",
       "      <td>3</td>\n",
       "      <td>0</td>\n",
       "      <td>negation</td>\n",
       "      <td>original</td>\n",
       "      <td>0.0</td>\n",
       "    </tr>\n",
       "    <tr>\n",
       "      <th>4</th>\n",
       "      <td>3</td>\n",
       "      <td>0</td>\n",
       "      <td>negation</td>\n",
       "      <td>asymmetric_premise</td>\n",
       "      <td>1.0</td>\n",
       "    </tr>\n",
       "  </tbody>\n",
       "</table>\n",
       "</div>"
      ],
      "text/plain": [
       "  template  set_number linguistic_operator     asymetric_operator  stat\n",
       "0        3           0            original               original   1.0\n",
       "1        3           0            original     asymmetric_premise   0.0\n",
       "2        3           0            original  asymmetric_conclusion   0.0\n",
       "3        3           0            negation               original   0.0\n",
       "4        3           0            negation     asymmetric_premise   1.0"
      ]
     },
     "execution_count": 182,
     "metadata": {},
     "output_type": "execute_result"
    }
   ],
   "source": [
    "acc_sep_df.head()"
   ]
  },
  {
   "cell_type": "code",
   "execution_count": 167,
   "metadata": {},
   "outputs": [
    {
     "data": {
      "text/html": [
       "<div>\n",
       "<style scoped>\n",
       "    .dataframe tbody tr th:only-of-type {\n",
       "        vertical-align: middle;\n",
       "    }\n",
       "\n",
       "    .dataframe tbody tr th {\n",
       "        vertical-align: top;\n",
       "    }\n",
       "\n",
       "    .dataframe thead th {\n",
       "        text-align: right;\n",
       "    }\n",
       "</style>\n",
       "<table border=\"1\" class=\"dataframe\">\n",
       "  <thead>\n",
       "    <tr style=\"text-align: right;\">\n",
       "      <th></th>\n",
       "      <th>template</th>\n",
       "      <th>set_number</th>\n",
       "      <th>perturbation</th>\n",
       "      <th>stat</th>\n",
       "    </tr>\n",
       "  </thead>\n",
       "  <tbody>\n",
       "    <tr>\n",
       "      <th>0</th>\n",
       "      <td>3</td>\n",
       "      <td>0</td>\n",
       "      <td>original-original</td>\n",
       "      <td>1.0</td>\n",
       "    </tr>\n",
       "    <tr>\n",
       "      <th>1</th>\n",
       "      <td>3</td>\n",
       "      <td>0</td>\n",
       "      <td>original-asymmetric_premise</td>\n",
       "      <td>0.0</td>\n",
       "    </tr>\n",
       "    <tr>\n",
       "      <th>2</th>\n",
       "      <td>3</td>\n",
       "      <td>0</td>\n",
       "      <td>original-asymmetric_conclusion</td>\n",
       "      <td>0.0</td>\n",
       "    </tr>\n",
       "    <tr>\n",
       "      <th>3</th>\n",
       "      <td>3</td>\n",
       "      <td>0</td>\n",
       "      <td>negation-original</td>\n",
       "      <td>0.0</td>\n",
       "    </tr>\n",
       "    <tr>\n",
       "      <th>4</th>\n",
       "      <td>3</td>\n",
       "      <td>0</td>\n",
       "      <td>negation-asymmetric_premise</td>\n",
       "      <td>1.0</td>\n",
       "    </tr>\n",
       "  </tbody>\n",
       "</table>\n",
       "</div>"
      ],
      "text/plain": [
       "  template  set_number                    perturbation  stat\n",
       "0        3           0               original-original   1.0\n",
       "1        3           0     original-asymmetric_premise   0.0\n",
       "2        3           0  original-asymmetric_conclusion   0.0\n",
       "3        3           0               negation-original   0.0\n",
       "4        3           0     negation-asymmetric_premise   1.0"
      ]
     },
     "execution_count": 167,
     "metadata": {},
     "output_type": "execute_result"
    }
   ],
   "source": [
    "acc_merged_df.head()"
   ]
  },
  {
   "cell_type": "code",
   "execution_count": 134,
   "metadata": {},
   "outputs": [],
   "source": [
    "avg_acc_by_template = queries.run_template_grouping_query(acc_merged_df)\n",
    "avg_ratio_by_template = queries.run_template_grouping_query(ratio_merged_df)"
   ]
  },
  {
   "cell_type": "code",
   "execution_count": 135,
   "metadata": {},
   "outputs": [
    {
     "data": {
      "text/html": [
       "<div>\n",
       "<style scoped>\n",
       "    .dataframe tbody tr th:only-of-type {\n",
       "        vertical-align: middle;\n",
       "    }\n",
       "\n",
       "    .dataframe tbody tr th {\n",
       "        vertical-align: top;\n",
       "    }\n",
       "\n",
       "    .dataframe thead th {\n",
       "        text-align: right;\n",
       "    }\n",
       "</style>\n",
       "<table border=\"1\" class=\"dataframe\">\n",
       "  <thead>\n",
       "    <tr style=\"text-align: right;\">\n",
       "      <th></th>\n",
       "      <th>template</th>\n",
       "      <th>avg_stat</th>\n",
       "      <th>count</th>\n",
       "    </tr>\n",
       "  </thead>\n",
       "  <tbody>\n",
       "    <tr>\n",
       "      <th>0</th>\n",
       "      <td>1</td>\n",
       "      <td>0.498125</td>\n",
       "      <td>480</td>\n",
       "    </tr>\n",
       "    <tr>\n",
       "      <th>1</th>\n",
       "      <td>2</td>\n",
       "      <td>0.497917</td>\n",
       "      <td>240</td>\n",
       "    </tr>\n",
       "    <tr>\n",
       "      <th>2</th>\n",
       "      <td>3</td>\n",
       "      <td>0.502083</td>\n",
       "      <td>96</td>\n",
       "    </tr>\n",
       "    <tr>\n",
       "      <th>3</th>\n",
       "      <td>4</td>\n",
       "      <td>0.498718</td>\n",
       "      <td>624</td>\n",
       "    </tr>\n",
       "  </tbody>\n",
       "</table>\n",
       "</div>"
      ],
      "text/plain": [
       "  template  avg_stat  count\n",
       "0        1  0.498125    480\n",
       "1        2  0.497917    240\n",
       "2        3  0.502083     96\n",
       "3        4  0.498718    624"
      ]
     },
     "execution_count": 135,
     "metadata": {},
     "output_type": "execute_result"
    }
   ],
   "source": [
    "avg_acc_by_template"
   ]
  },
  {
   "cell_type": "code",
   "execution_count": 136,
   "metadata": {},
   "outputs": [],
   "source": [
    "save_dir = \"../data/analyzed_generation_data/comet/\"\n",
    "model = \"Comet\""
   ]
  },
  {
   "cell_type": "code",
   "execution_count": 164,
   "metadata": {},
   "outputs": [
    {
     "data": {
      "image/png": "[encoded data removed]",
      "text/plain": [
       "<Figure size 432x288 with 2 Axes>"
      ]
     },
     "metadata": {
      "needs_background": "light"
     },
     "output_type": "display_data"
    }
   ],
   "source": [
    "x_labels = [\"1 (480)\", \"2 (96)\", \"3 (144)\", \"4 (624)\"]\n",
    "x_label = \"Template (num_trials)\"\n",
    "left_units = \"Avg Accuracy %\"\n",
    "right_units = \"Avg Confidence Ratio\"\n",
    "left_bar_data = [round(avg_acc_by_template[avg_acc_by_template[\"template\"] == str(i)][\"avg_stat\"].item(), 3) for i in range(1,5)]\n",
    "right_bar_data = [round(avg_ratio_by_template[avg_ratio_by_template[\"template\"] == str(i)][\"avg_stat\"].item(), 3) for i in range(1, 5)]\n",
    "title = \"Performance of {}\".format(model)\n",
    "display_two_axis_bar_plot(x_labels, x_label, left_units, right_units, \n",
    "                          left_bar_data, right_bar_data, title, x_ticks_rotation=0,\n",
    "                          save_dir=save_dir)\n",
    "\n"
   ]
  },
  {
   "cell_type": "code",
   "execution_count": 138,
   "metadata": {},
   "outputs": [],
   "source": [
    "avg_acc_by_linguistic_op = queries.run_linguistic_operator_grouping_query(acc_sep_df)\n",
    "avg_ratio_by_linguistic_op = queries.run_linguistic_operator_grouping_query(ratio_sep_df)"
   ]
  },
  {
   "cell_type": "code",
   "execution_count": 139,
   "metadata": {},
   "outputs": [
    {
     "data": {
      "text/html": [
       "<div>\n",
       "<style scoped>\n",
       "    .dataframe tbody tr th:only-of-type {\n",
       "        vertical-align: middle;\n",
       "    }\n",
       "\n",
       "    .dataframe tbody tr th {\n",
       "        vertical-align: top;\n",
       "    }\n",
       "\n",
       "    .dataframe thead th {\n",
       "        text-align: right;\n",
       "    }\n",
       "</style>\n",
       "<table border=\"1\" class=\"dataframe\">\n",
       "  <thead>\n",
       "    <tr style=\"text-align: right;\">\n",
       "      <th></th>\n",
       "      <th>linguistic_operator</th>\n",
       "      <th>avg_stat</th>\n",
       "      <th>count</th>\n",
       "    </tr>\n",
       "  </thead>\n",
       "  <tbody>\n",
       "    <tr>\n",
       "      <th>0</th>\n",
       "      <td>original</td>\n",
       "      <td>0.531667</td>\n",
       "      <td>60</td>\n",
       "    </tr>\n",
       "    <tr>\n",
       "      <th>1</th>\n",
       "      <td>negation</td>\n",
       "      <td>0.455000</td>\n",
       "      <td>60</td>\n",
       "    </tr>\n",
       "    <tr>\n",
       "      <th>2</th>\n",
       "      <td>antonym</td>\n",
       "      <td>0.478333</td>\n",
       "      <td>60</td>\n",
       "    </tr>\n",
       "    <tr>\n",
       "      <th>3</th>\n",
       "      <td>paraphrase</td>\n",
       "      <td>0.513333</td>\n",
       "      <td>60</td>\n",
       "    </tr>\n",
       "    <tr>\n",
       "      <th>4</th>\n",
       "      <td>paraphrase_inversion</td>\n",
       "      <td>0.483333</td>\n",
       "      <td>60</td>\n",
       "    </tr>\n",
       "    <tr>\n",
       "      <th>5</th>\n",
       "      <td>negation_antonym</td>\n",
       "      <td>0.565000</td>\n",
       "      <td>60</td>\n",
       "    </tr>\n",
       "    <tr>\n",
       "      <th>6</th>\n",
       "      <td>negation_paraphrase</td>\n",
       "      <td>0.416667</td>\n",
       "      <td>60</td>\n",
       "    </tr>\n",
       "    <tr>\n",
       "      <th>7</th>\n",
       "      <td>negation_paraphrase_inversion</td>\n",
       "      <td>0.581667</td>\n",
       "      <td>60</td>\n",
       "    </tr>\n",
       "  </tbody>\n",
       "</table>\n",
       "</div>"
      ],
      "text/plain": [
       "             linguistic_operator  avg_stat  count\n",
       "0                       original  0.531667     60\n",
       "1                       negation  0.455000     60\n",
       "2                        antonym  0.478333     60\n",
       "3                     paraphrase  0.513333     60\n",
       "4           paraphrase_inversion  0.483333     60\n",
       "5               negation_antonym  0.565000     60\n",
       "6            negation_paraphrase  0.416667     60\n",
       "7  negation_paraphrase_inversion  0.581667     60"
      ]
     },
     "execution_count": 139,
     "metadata": {},
     "output_type": "execute_result"
    }
   ],
   "source": [
    "avg_acc_by_linguistic_op"
   ]
  },
  {
   "cell_type": "code",
   "execution_count": null,
   "metadata": {},
   "outputs": [],
   "source": []
  },
  {
   "cell_type": "code",
   "execution_count": 140,
   "metadata": {},
   "outputs": [
    {
     "data": {
      "image/png": "[encoded data removed]",
      "text/plain": [
       "<Figure size 432x288 with 2 Axes>"
      ]
     },
     "metadata": {
      "needs_background": "light"
     },
     "output_type": "display_data"
    }
   ],
   "source": [
    "# Before Saving this, you must change what's going on inside autolabel to make sure \n",
    "# numbers are aligned to their correct positions\n",
    "#\n",
    "# Specifically you need to fiddle with this: x = rect.get_x() + rect.get_width() / 2\n",
    "# in the bottom case, I use x = rect.get_x() + 8*rect.get_width() / 9\n",
    "\n",
    "x_labels = [\"orig\", \"neg\", \"ant\", \"para\", \"para_inv\", \"neg_ant\", \"neg_para\", \"neg_para_inv\"]\n",
    "x_label = \"Linguistic Operation (60 trials each)\"\n",
    "left_units = \"Avg Accuracy %\"\n",
    "right_units = \"Avg Confidence Ratio\"\n",
    "left_bar_data = [round(row[\"avg_stat\"], 3) for i, row in avg_acc_by_linguistic_op.iterrows()]\n",
    "right_bar_data = [round(row[\"avg_stat\"], 3) for i, row in avg_ratio_by_linguistic_op.iterrows()]\n",
    "title = \"Linguistic Variation Test of {}\".format(model)\n",
    "display_two_axis_bar_plot(x_labels, x_label, left_units, right_units, \n",
    "                          left_bar_data, right_bar_data, title,\n",
    "                          save_dir=save_dir, add_nums_to_bars=False\n",
    "                          )\n",
    "\n",
    "\n"
   ]
  },
  {
   "cell_type": "code",
   "execution_count": 141,
   "metadata": {},
   "outputs": [
    {
     "data": {
      "image/png": "[encoded data removed]",
      "text/plain": [
       "<Figure size 432x288 with 1 Axes>"
      ]
     },
     "metadata": {
      "needs_background": "light"
     },
     "output_type": "display_data"
    }
   ],
   "source": [
    "x_labels = [\"orig\", \"neg\", \"ant\", \"para\", \"para_inv\", \"neg_ant\", \"neg_para\", \"neg_para_inv\"]\n",
    "x_label = \"Linguistic Operation (60 trials each)\"\n",
    "left_units = \"Avg Accuracy %\"\n",
    "left_bar_data = [round(row[\"avg_stat\"], 3) for i, row in avg_acc_by_linguistic_op.iterrows()]\n",
    "title = \"Linguistic Variation Test of {} (Accuracy)\".format(model)\n",
    "display_bar_plot(x_labels, x_label, left_units, left_bar_data, title, color=\"tab:red\",\n",
    "                 save_dir=save_dir)"
   ]
  },
  {
   "cell_type": "code",
   "execution_count": 142,
   "metadata": {},
   "outputs": [],
   "source": [
    "avg_acc_by_logical_op = queries.run_asymetric_operator_grouping_query(acc_sep_df)\n",
    "avg_ratio_by_logical_op = queries.run_asymetric_operator_grouping_query(ratio_sep_df)"
   ]
  },
  {
   "cell_type": "code",
   "execution_count": 143,
   "metadata": {
    "scrolled": true
   },
   "outputs": [
    {
     "data": {
      "image/png": "[encoded data removed]",
      "text/plain": [
       "<Figure size 432x288 with 2 Axes>"
      ]
     },
     "metadata": {
      "needs_background": "light"
     },
     "output_type": "display_data"
    }
   ],
   "source": [
    "x_labels = [\"original\", \"asym_premise\", \"asym_conclusion\"]\n",
    "x_label = \"Logical Operation (480 trials each)\"\n",
    "left_units = \"Avg Accuracy %\"\n",
    "right_units = \"Avg Confidence Ratio\"\n",
    "left_bar_data = [round(row[\"avg_stat\"], 3) for i, row in avg_acc_by_logical_op.iterrows()]\n",
    "right_bar_data = [round(row[\"avg_stat\"], 3) for i, row in avg_ratio_by_logical_op.iterrows()]\n",
    "title = \"Asymmetric Test of {}\".format(model)\n",
    "display_two_axis_bar_plot(x_labels, x_label, left_units, right_units, \n",
    "                          left_bar_data, right_bar_data, title,\n",
    "                          save_dir=save_dir)"
   ]
  },
  {
   "cell_type": "code",
   "execution_count": 144,
   "metadata": {},
   "outputs": [],
   "source": [
    "material_more_less = data_manip.filter_data_into_more_less_by_orig_comparison(data[0],\n",
    "                                                                            configs[0])\n",
    "social_more_less = data_manip.filter_data_into_more_less_by_orig_comparison(data[1],\n",
    "                                                                            configs[1])\n",
    "physical_more_less = data_manip.filter_data_into_more_less_by_orig_comparison(data[2],\n",
    "                                                                            configs[2])\n"
   ]
  },
  {
   "cell_type": "code",
   "execution_count": 145,
   "metadata": {},
   "outputs": [],
   "source": [
    "more = [material_more_less[0], social_more_less[0], physical_more_less[0]]\n",
    "less = [material_more_less[1], social_more_less[1], physical_more_less[1]]"
   ]
  },
  {
   "cell_type": "code",
   "execution_count": 146,
   "metadata": {},
   "outputs": [],
   "source": [
    "more_accuracy_sep_dict = {\n",
    "                           \"set_number\" : [],\n",
    "                           \"linguistic_operator\" : [],\n",
    "                           \"asymetric_operator\" : [],\n",
    "                           \"stat\" : []\n",
    "                         }\n",
    "\n",
    "\n",
    "more_ratio_sep_dict = {\n",
    "                         \"set_number\" : [],\n",
    "                         \"linguistic_operator\" : [],\n",
    "                         \"asymetric_operator\" : [],\n",
    "                         \"stat\" : []\n",
    "                      }\n",
    "\n",
    "\n",
    "last_num = 0\n",
    "for i, d in enumerate(more):\n",
    "    more_accuracy_sep_dict = data_manip.transform_results_to_seperate_sql_dict(d,\n",
    "                                                                               more_accuracy_sep_dict,\n",
    "                                                                               stat_name=\"avg_binary_score\",\n",
    "                                                                               last_num=last_num,\n",
    "                                                                               option=0)\n",
    "    more_ratio_sep_dict = data_manip.transform_results_to_seperate_sql_dict(d,\n",
    "                                                                            more_ratio_sep_dict,\n",
    "                                                                            stat_name=\"avg_ratio_score\",\n",
    "                                                                            last_num=last_num,\n",
    "                                                                            option=0)\n",
    "    last_num += 10"
   ]
  },
  {
   "cell_type": "code",
   "execution_count": 147,
   "metadata": {},
   "outputs": [],
   "source": [
    "less_accuracy_sep_dict = {\n",
    "                           \"set_number\" : [],\n",
    "                           \"linguistic_operator\" : [],\n",
    "                           \"asymetric_operator\" : [],\n",
    "                           \"stat\" : []\n",
    "                         }\n",
    "\n",
    "\n",
    "less_ratio_sep_dict = {\n",
    "                         \"set_number\" : [],\n",
    "                         \"linguistic_operator\" : [],\n",
    "                         \"asymetric_operator\" : [],\n",
    "                         \"stat\" : []\n",
    "                      }\n",
    "\n",
    "\n",
    "last_num = 0\n",
    "for i, d in enumerate(less):\n",
    "    less_accuracy_sep_dict = data_manip.transform_results_to_seperate_sql_dict(d,\n",
    "                                                                               less_accuracy_sep_dict,\n",
    "                                                                               stat_name=\"avg_binary_score\",\n",
    "                                                                               last_num=last_num,\n",
    "                                                                               option=0)\n",
    "    less_ratio_sep_dict = data_manip.transform_results_to_seperate_sql_dict(d,\n",
    "                                                                            less_ratio_sep_dict,\n",
    "                                                                            stat_name=\"avg_ratio_score\",\n",
    "                                                                            last_num=last_num,\n",
    "                                                                            option=0)\n",
    "    last_num += 10"
   ]
  },
  {
   "cell_type": "code",
   "execution_count": 148,
   "metadata": {},
   "outputs": [],
   "source": [
    "more_acc_sep_df = pd.DataFrame.from_dict(more_accuracy_sep_dict)\n",
    "more_ratio_sep_df = pd.DataFrame.from_dict(more_ratio_sep_dict)\n",
    "\n",
    "less_acc_sep_df = pd.DataFrame.from_dict(less_accuracy_sep_dict)\n",
    "less_ratio_sep_df = pd.DataFrame.from_dict(less_ratio_sep_dict)"
   ]
  },
  {
   "cell_type": "code",
   "execution_count": 149,
   "metadata": {},
   "outputs": [],
   "source": [
    "more_avg_acc_by_linguistic_op = queries.run_linguistic_operator_grouping_query(more_acc_sep_df)\n",
    "less_avg_acc_by_linguistic_op = queries.run_linguistic_operator_grouping_query(less_acc_sep_df)\n"
   ]
  },
  {
   "cell_type": "code",
   "execution_count": 150,
   "metadata": {},
   "outputs": [
    {
     "data": {
      "text/html": [
       "<div>\n",
       "<style scoped>\n",
       "    .dataframe tbody tr th:only-of-type {\n",
       "        vertical-align: middle;\n",
       "    }\n",
       "\n",
       "    .dataframe tbody tr th {\n",
       "        vertical-align: top;\n",
       "    }\n",
       "\n",
       "    .dataframe thead th {\n",
       "        text-align: right;\n",
       "    }\n",
       "</style>\n",
       "<table border=\"1\" class=\"dataframe\">\n",
       "  <thead>\n",
       "    <tr style=\"text-align: right;\">\n",
       "      <th></th>\n",
       "      <th>linguistic_operator</th>\n",
       "      <th>avg_stat</th>\n",
       "      <th>count</th>\n",
       "    </tr>\n",
       "  </thead>\n",
       "  <tbody>\n",
       "    <tr>\n",
       "      <th>0</th>\n",
       "      <td>original</td>\n",
       "      <td>0.606667</td>\n",
       "      <td>30</td>\n",
       "    </tr>\n",
       "    <tr>\n",
       "      <th>1</th>\n",
       "      <td>negation</td>\n",
       "      <td>0.426667</td>\n",
       "      <td>30</td>\n",
       "    </tr>\n",
       "    <tr>\n",
       "      <th>2</th>\n",
       "      <td>antonym</td>\n",
       "      <td>0.386667</td>\n",
       "      <td>30</td>\n",
       "    </tr>\n",
       "    <tr>\n",
       "      <th>3</th>\n",
       "      <td>paraphrase</td>\n",
       "      <td>0.560000</td>\n",
       "      <td>30</td>\n",
       "    </tr>\n",
       "    <tr>\n",
       "      <th>4</th>\n",
       "      <td>paraphrase_inversion</td>\n",
       "      <td>0.326667</td>\n",
       "      <td>30</td>\n",
       "    </tr>\n",
       "    <tr>\n",
       "      <th>5</th>\n",
       "      <td>negation_antonym</td>\n",
       "      <td>0.613333</td>\n",
       "      <td>30</td>\n",
       "    </tr>\n",
       "    <tr>\n",
       "      <th>6</th>\n",
       "      <td>negation_paraphrase</td>\n",
       "      <td>0.426667</td>\n",
       "      <td>30</td>\n",
       "    </tr>\n",
       "    <tr>\n",
       "      <th>7</th>\n",
       "      <td>negation_paraphrase_inversion</td>\n",
       "      <td>0.636667</td>\n",
       "      <td>30</td>\n",
       "    </tr>\n",
       "  </tbody>\n",
       "</table>\n",
       "</div>"
      ],
      "text/plain": [
       "             linguistic_operator  avg_stat  count\n",
       "0                       original  0.606667     30\n",
       "1                       negation  0.426667     30\n",
       "2                        antonym  0.386667     30\n",
       "3                     paraphrase  0.560000     30\n",
       "4           paraphrase_inversion  0.326667     30\n",
       "5               negation_antonym  0.613333     30\n",
       "6            negation_paraphrase  0.426667     30\n",
       "7  negation_paraphrase_inversion  0.636667     30"
      ]
     },
     "execution_count": 150,
     "metadata": {},
     "output_type": "execute_result"
    }
   ],
   "source": [
    "more_avg_acc_by_linguistic_op"
   ]
  },
  {
   "cell_type": "code",
   "execution_count": 151,
   "metadata": {},
   "outputs": [
    {
     "data": {
      "image/png": "[encoded data removed]",
      "text/plain": [
       "<Figure size 432x288 with 1 Axes>"
      ]
     },
     "metadata": {
      "needs_background": "light"
     },
     "output_type": "display_data"
    }
   ],
   "source": [
    "x_labels = [\"orig\", \"neg\", \"ant\", \"para\", \"para_inv\", \"neg_ant\", \"neg_para\", \"neg_para_inv\"]\n",
    "x_label = \"Linguistic Operators (30 trials each)\"\n",
    "y_label = \"Avg Accuracy %\"\n",
    "y_one_label = \"> Statements\"\n",
    "data_one = [round(row[\"avg_stat\"], 3) for i, row in more_avg_acc_by_linguistic_op.iterrows()]\n",
    "y_two_label = \"< Statements\"\n",
    "data_two = [round(row[\"avg_stat\"], 3) for i, row in less_avg_acc_by_linguistic_op.iterrows()]\n",
    "title = \"Greater than vs Less than Statements--Linguistic Test for {}\".format(model)\n",
    "display_two_bar_plot(x_labels, x_label, y_label, y_one_label, y_two_label, data_one,\n",
    "                     data_two, title,\n",
    "                     save_dir=save_dir,\n",
    "                     add_nums_to_bars=False)"
   ]
  },
  {
   "cell_type": "code",
   "execution_count": 152,
   "metadata": {},
   "outputs": [
    {
     "data": {
      "image/png": "[encoded data removed]",
      "text/plain": [
       "<Figure size 432x288 with 1 Axes>"
      ]
     },
     "metadata": {
      "needs_background": "light"
     },
     "output_type": "display_data"
    }
   ],
   "source": [
    "x_labels = [\"orig\", \"neg\", \"ant\", \"para\", \"para_inv\", \"neg_ant\", \"neg_para\", \"neg_para_inv\"]\n",
    "x_label = \"Linguistic Operators (30 trials each)\"\n",
    "y_label = \"Avg Accuracy %\"\n",
    "title = \"Inconsistencies when Original Statement is a Greater Than Comparison\"\n",
    "more_data = [round(row[\"avg_stat\"], 3) for i, row in more_avg_acc_by_linguistic_op.iterrows()]\n",
    "display_bar_plot(x_labels, x_label, y_label, more_data, title, color=\"tab:red\",\n",
    "                 save_dir=save_dir,\n",
    "                 add_nums_to_bars=False, small_title=True)"
   ]
  },
  {
   "cell_type": "code",
   "execution_count": 153,
   "metadata": {},
   "outputs": [
    {
     "data": {
      "image/png": "[encoded data removed]",
      "text/plain": [
       "<Figure size 432x288 with 1 Axes>"
      ]
     },
     "metadata": {
      "needs_background": "light"
     },
     "output_type": "display_data"
    }
   ],
   "source": [
    "x_labels = [\"orig\", \"neg\", \"ant\", \"para\", \"para_inv\", \"neg_ant\", \"neg_para\", \"neg_para_inv\"]\n",
    "x_label = \"Linguistic Operators (30 trials each)\"\n",
    "y_label = \"Avg Accuracy %\"\n",
    "title = \"Inconsistencies when Original Statement is a Less Than Comparison\"\n",
    "less_data = [round(row[\"avg_stat\"], 3) for i, row in less_avg_acc_by_linguistic_op.iterrows()]\n",
    "display_bar_plot(x_labels, x_label, y_label, less_data, title, color=\"tab:blue\",\n",
    "                 save_dir=save_dir,\n",
    "                 add_nums_to_bars=False, small_title=True)"
   ]
  },
  {
   "cell_type": "code",
   "execution_count": 154,
   "metadata": {},
   "outputs": [],
   "source": [
    "more_avg_acc_by_logical_op = queries.run_asymetric_operator_grouping_query(more_acc_sep_df)\n",
    "less_avg_acc_by_logical_op = queries.run_asymetric_operator_grouping_query(less_acc_sep_df)\n"
   ]
  },
  {
   "cell_type": "code",
   "execution_count": 155,
   "metadata": {},
   "outputs": [
    {
     "data": {
      "image/png": "[encoded data removed]",
      "text/plain": [
       "<Figure size 432x288 with 1 Axes>"
      ]
     },
     "metadata": {
      "needs_background": "light"
     },
     "output_type": "display_data"
    }
   ],
   "source": [
    "x_labels = [\"original\", \"asym_premise\", \"asym_conclusion\"]\n",
    "x_label = \"Logical Operators (480 trials each)\"\n",
    "y_label = \"Avg  Accuracy%\"\n",
    "title = \"Original Statement is a Greater Than Comparison--Asymmetry Test\"\n",
    "more_data = [round(row[\"avg_stat\"], 3) for i, row in more_avg_acc_by_logical_op.iterrows()]\n",
    "display_bar_plot(x_labels, x_label, y_label, more_data, title, color=\"tab:red\",\n",
    "                 save_dir=save_dir,\n",
    "                 add_nums_to_bars=False, small_title=True)"
   ]
  },
  {
   "cell_type": "code",
   "execution_count": 156,
   "metadata": {},
   "outputs": [
    {
     "data": {
      "image/png": "[encoded data removed]",
      "text/plain": [
       "<Figure size 432x288 with 1 Axes>"
      ]
     },
     "metadata": {
      "needs_background": "light"
     },
     "output_type": "display_data"
    }
   ],
   "source": [
    "x_labels = [\"original\", \"asym_premise\", \"asym_conclusion\"]\n",
    "x_label = \"Logical Operators (480 trials each)\"\n",
    "y_label = \"Avg Accuracy%\"\n",
    "title = \"Original Statement is a Less Than Comparison--Asymmetry Test\"\n",
    "less_data = [round(row[\"avg_stat\"], 3) for i, row in less_avg_acc_by_logical_op.iterrows()]\n",
    "display_bar_plot(x_labels, x_label, y_label, less_data, title, color=\"tab:blue\",\n",
    "                 save_dir=save_dir,\n",
    "                 add_nums_to_bars=False, small_title=True)"
   ]
  },
  {
   "cell_type": "code",
   "execution_count": null,
   "metadata": {},
   "outputs": [],
   "source": []
  },
  {
   "cell_type": "code",
   "execution_count": null,
   "metadata": {},
   "outputs": [],
   "source": []
  },
  {
   "cell_type": "code",
   "execution_count": 157,
   "metadata": {},
   "outputs": [
    {
     "data": {
      "image/png": "[encoded data removed]",
      "text/plain": [
       "<Figure size 432x288 with 1 Axes>"
      ]
     },
     "metadata": {
      "needs_background": "light"
     },
     "output_type": "display_data"
    }
   ],
   "source": [
    "x_labels = [\"original\", \"asym_premise\", \"asym_conclusion\"]\n",
    "x_label = \"Logical Operators (480 trials each)\"\n",
    "y_label = \"Avg Accuracy %\"\n",
    "y_one_label = \"> Statements\"\n",
    "data_one = [round(row[\"avg_stat\"], 3) for i, row in more_avg_acc_by_logical_op.iterrows()]\n",
    "y_two_label = \"< Statements\"\n",
    "data_two = [round(row[\"avg_stat\"], 3) for i, row in less_avg_acc_by_logical_op.iterrows()]\n",
    "title = \"Original Statement is Greater than vs Less than--Asymmetric Test\"\n",
    "display_two_bar_plot(x_labels, x_label, y_label, y_one_label, y_two_label, data_one,\n",
    "                     data_two, title,\n",
    "                     save_dir=save_dir,\n",
    "                     add_nums_to_bars=False, small_title=True)"
   ]
  },
  {
   "cell_type": "code",
   "execution_count": 158,
   "metadata": {},
   "outputs": [],
   "source": [
    "set_acc_df = queries.run_set_grouping_query(acc_sep_df)\n",
    "set_ratio_df = queries.run_set_grouping_query(ratio_sep_df)"
   ]
  },
  {
   "cell_type": "code",
   "execution_count": null,
   "metadata": {},
   "outputs": [],
   "source": []
  },
  {
   "cell_type": "code",
   "execution_count": 159,
   "metadata": {},
   "outputs": [
    {
     "data": {
      "text/html": [
       "<div>\n",
       "<style scoped>\n",
       "    .dataframe tbody tr th:only-of-type {\n",
       "        vertical-align: middle;\n",
       "    }\n",
       "\n",
       "    .dataframe tbody tr th {\n",
       "        vertical-align: top;\n",
       "    }\n",
       "\n",
       "    .dataframe thead th {\n",
       "        text-align: right;\n",
       "    }\n",
       "</style>\n",
       "<table border=\"1\" class=\"dataframe\">\n",
       "  <thead>\n",
       "    <tr style=\"text-align: right;\">\n",
       "      <th></th>\n",
       "      <th>set_number</th>\n",
       "      <th>avg_stat</th>\n",
       "      <th>count</th>\n",
       "    </tr>\n",
       "  </thead>\n",
       "  <tbody>\n",
       "    <tr>\n",
       "      <th>0</th>\n",
       "      <td>0</td>\n",
       "      <td>0.508333</td>\n",
       "      <td>24</td>\n",
       "    </tr>\n",
       "    <tr>\n",
       "      <th>1</th>\n",
       "      <td>1</td>\n",
       "      <td>0.483333</td>\n",
       "      <td>24</td>\n",
       "    </tr>\n",
       "    <tr>\n",
       "      <th>2</th>\n",
       "      <td>2</td>\n",
       "      <td>0.516667</td>\n",
       "      <td>24</td>\n",
       "    </tr>\n",
       "    <tr>\n",
       "      <th>3</th>\n",
       "      <td>3</td>\n",
       "      <td>0.500000</td>\n",
       "      <td>24</td>\n",
       "    </tr>\n",
       "    <tr>\n",
       "      <th>4</th>\n",
       "      <td>4</td>\n",
       "      <td>0.500000</td>\n",
       "      <td>24</td>\n",
       "    </tr>\n",
       "    <tr>\n",
       "      <th>5</th>\n",
       "      <td>5</td>\n",
       "      <td>0.500000</td>\n",
       "      <td>24</td>\n",
       "    </tr>\n",
       "    <tr>\n",
       "      <th>6</th>\n",
       "      <td>6</td>\n",
       "      <td>0.487500</td>\n",
       "      <td>24</td>\n",
       "    </tr>\n",
       "    <tr>\n",
       "      <th>7</th>\n",
       "      <td>7</td>\n",
       "      <td>0.491667</td>\n",
       "      <td>24</td>\n",
       "    </tr>\n",
       "    <tr>\n",
       "      <th>8</th>\n",
       "      <td>8</td>\n",
       "      <td>0.487500</td>\n",
       "      <td>24</td>\n",
       "    </tr>\n",
       "    <tr>\n",
       "      <th>9</th>\n",
       "      <td>9</td>\n",
       "      <td>0.512500</td>\n",
       "      <td>24</td>\n",
       "    </tr>\n",
       "    <tr>\n",
       "      <th>10</th>\n",
       "      <td>10</td>\n",
       "      <td>0.483333</td>\n",
       "      <td>24</td>\n",
       "    </tr>\n",
       "    <tr>\n",
       "      <th>11</th>\n",
       "      <td>11</td>\n",
       "      <td>0.479167</td>\n",
       "      <td>24</td>\n",
       "    </tr>\n",
       "    <tr>\n",
       "      <th>12</th>\n",
       "      <td>12</td>\n",
       "      <td>0.504167</td>\n",
       "      <td>24</td>\n",
       "    </tr>\n",
       "    <tr>\n",
       "      <th>13</th>\n",
       "      <td>13</td>\n",
       "      <td>0.520833</td>\n",
       "      <td>24</td>\n",
       "    </tr>\n",
       "    <tr>\n",
       "      <th>14</th>\n",
       "      <td>14</td>\n",
       "      <td>0.529167</td>\n",
       "      <td>24</td>\n",
       "    </tr>\n",
       "    <tr>\n",
       "      <th>15</th>\n",
       "      <td>15</td>\n",
       "      <td>0.500000</td>\n",
       "      <td>24</td>\n",
       "    </tr>\n",
       "    <tr>\n",
       "      <th>16</th>\n",
       "      <td>16</td>\n",
       "      <td>0.479167</td>\n",
       "      <td>24</td>\n",
       "    </tr>\n",
       "    <tr>\n",
       "      <th>17</th>\n",
       "      <td>17</td>\n",
       "      <td>0.504167</td>\n",
       "      <td>24</td>\n",
       "    </tr>\n",
       "    <tr>\n",
       "      <th>18</th>\n",
       "      <td>18</td>\n",
       "      <td>0.516667</td>\n",
       "      <td>24</td>\n",
       "    </tr>\n",
       "    <tr>\n",
       "      <th>19</th>\n",
       "      <td>19</td>\n",
       "      <td>0.504167</td>\n",
       "      <td>24</td>\n",
       "    </tr>\n",
       "    <tr>\n",
       "      <th>20</th>\n",
       "      <td>20</td>\n",
       "      <td>0.529167</td>\n",
       "      <td>24</td>\n",
       "    </tr>\n",
       "    <tr>\n",
       "      <th>21</th>\n",
       "      <td>21</td>\n",
       "      <td>0.525000</td>\n",
       "      <td>24</td>\n",
       "    </tr>\n",
       "    <tr>\n",
       "      <th>22</th>\n",
       "      <td>22</td>\n",
       "      <td>0.479167</td>\n",
       "      <td>24</td>\n",
       "    </tr>\n",
       "    <tr>\n",
       "      <th>23</th>\n",
       "      <td>23</td>\n",
       "      <td>0.487500</td>\n",
       "      <td>24</td>\n",
       "    </tr>\n",
       "    <tr>\n",
       "      <th>24</th>\n",
       "      <td>24</td>\n",
       "      <td>0.483333</td>\n",
       "      <td>24</td>\n",
       "    </tr>\n",
       "    <tr>\n",
       "      <th>25</th>\n",
       "      <td>25</td>\n",
       "      <td>0.508333</td>\n",
       "      <td>24</td>\n",
       "    </tr>\n",
       "    <tr>\n",
       "      <th>26</th>\n",
       "      <td>26</td>\n",
       "      <td>0.491667</td>\n",
       "      <td>24</td>\n",
       "    </tr>\n",
       "    <tr>\n",
       "      <th>27</th>\n",
       "      <td>27</td>\n",
       "      <td>0.533333</td>\n",
       "      <td>24</td>\n",
       "    </tr>\n",
       "    <tr>\n",
       "      <th>28</th>\n",
       "      <td>28</td>\n",
       "      <td>0.495833</td>\n",
       "      <td>24</td>\n",
       "    </tr>\n",
       "    <tr>\n",
       "      <th>29</th>\n",
       "      <td>29</td>\n",
       "      <td>0.533333</td>\n",
       "      <td>24</td>\n",
       "    </tr>\n",
       "    <tr>\n",
       "      <th>30</th>\n",
       "      <td>30</td>\n",
       "      <td>0.470833</td>\n",
       "      <td>24</td>\n",
       "    </tr>\n",
       "    <tr>\n",
       "      <th>31</th>\n",
       "      <td>31</td>\n",
       "      <td>0.487500</td>\n",
       "      <td>24</td>\n",
       "    </tr>\n",
       "    <tr>\n",
       "      <th>32</th>\n",
       "      <td>32</td>\n",
       "      <td>0.525000</td>\n",
       "      <td>24</td>\n",
       "    </tr>\n",
       "    <tr>\n",
       "      <th>33</th>\n",
       "      <td>33</td>\n",
       "      <td>0.312500</td>\n",
       "      <td>24</td>\n",
       "    </tr>\n",
       "    <tr>\n",
       "      <th>34</th>\n",
       "      <td>34</td>\n",
       "      <td>0.537500</td>\n",
       "      <td>24</td>\n",
       "    </tr>\n",
       "    <tr>\n",
       "      <th>35</th>\n",
       "      <td>35</td>\n",
       "      <td>0.537500</td>\n",
       "      <td>24</td>\n",
       "    </tr>\n",
       "    <tr>\n",
       "      <th>36</th>\n",
       "      <td>36</td>\n",
       "      <td>0.520833</td>\n",
       "      <td>24</td>\n",
       "    </tr>\n",
       "    <tr>\n",
       "      <th>37</th>\n",
       "      <td>37</td>\n",
       "      <td>0.458333</td>\n",
       "      <td>24</td>\n",
       "    </tr>\n",
       "    <tr>\n",
       "      <th>38</th>\n",
       "      <td>38</td>\n",
       "      <td>0.537500</td>\n",
       "      <td>24</td>\n",
       "    </tr>\n",
       "    <tr>\n",
       "      <th>39</th>\n",
       "      <td>39</td>\n",
       "      <td>0.508333</td>\n",
       "      <td>24</td>\n",
       "    </tr>\n",
       "    <tr>\n",
       "      <th>40</th>\n",
       "      <td>40</td>\n",
       "      <td>0.504167</td>\n",
       "      <td>24</td>\n",
       "    </tr>\n",
       "    <tr>\n",
       "      <th>41</th>\n",
       "      <td>41</td>\n",
       "      <td>0.512500</td>\n",
       "      <td>24</td>\n",
       "    </tr>\n",
       "    <tr>\n",
       "      <th>42</th>\n",
       "      <td>42</td>\n",
       "      <td>0.491667</td>\n",
       "      <td>24</td>\n",
       "    </tr>\n",
       "    <tr>\n",
       "      <th>43</th>\n",
       "      <td>43</td>\n",
       "      <td>0.533333</td>\n",
       "      <td>24</td>\n",
       "    </tr>\n",
       "    <tr>\n",
       "      <th>44</th>\n",
       "      <td>44</td>\n",
       "      <td>0.516667</td>\n",
       "      <td>24</td>\n",
       "    </tr>\n",
       "    <tr>\n",
       "      <th>45</th>\n",
       "      <td>45</td>\n",
       "      <td>0.454167</td>\n",
       "      <td>24</td>\n",
       "    </tr>\n",
       "    <tr>\n",
       "      <th>46</th>\n",
       "      <td>46</td>\n",
       "      <td>0.516667</td>\n",
       "      <td>24</td>\n",
       "    </tr>\n",
       "    <tr>\n",
       "      <th>47</th>\n",
       "      <td>47</td>\n",
       "      <td>0.516667</td>\n",
       "      <td>24</td>\n",
       "    </tr>\n",
       "    <tr>\n",
       "      <th>48</th>\n",
       "      <td>48</td>\n",
       "      <td>0.479167</td>\n",
       "      <td>24</td>\n",
       "    </tr>\n",
       "    <tr>\n",
       "      <th>49</th>\n",
       "      <td>49</td>\n",
       "      <td>0.533333</td>\n",
       "      <td>24</td>\n",
       "    </tr>\n",
       "    <tr>\n",
       "      <th>50</th>\n",
       "      <td>50</td>\n",
       "      <td>0.525000</td>\n",
       "      <td>24</td>\n",
       "    </tr>\n",
       "    <tr>\n",
       "      <th>51</th>\n",
       "      <td>51</td>\n",
       "      <td>0.487500</td>\n",
       "      <td>24</td>\n",
       "    </tr>\n",
       "    <tr>\n",
       "      <th>52</th>\n",
       "      <td>52</td>\n",
       "      <td>0.487500</td>\n",
       "      <td>24</td>\n",
       "    </tr>\n",
       "    <tr>\n",
       "      <th>53</th>\n",
       "      <td>53</td>\n",
       "      <td>0.504167</td>\n",
       "      <td>24</td>\n",
       "    </tr>\n",
       "    <tr>\n",
       "      <th>54</th>\n",
       "      <td>54</td>\n",
       "      <td>0.516667</td>\n",
       "      <td>24</td>\n",
       "    </tr>\n",
       "    <tr>\n",
       "      <th>55</th>\n",
       "      <td>55</td>\n",
       "      <td>0.516667</td>\n",
       "      <td>24</td>\n",
       "    </tr>\n",
       "    <tr>\n",
       "      <th>56</th>\n",
       "      <td>56</td>\n",
       "      <td>0.458333</td>\n",
       "      <td>24</td>\n",
       "    </tr>\n",
       "    <tr>\n",
       "      <th>57</th>\n",
       "      <td>57</td>\n",
       "      <td>0.445833</td>\n",
       "      <td>24</td>\n",
       "    </tr>\n",
       "    <tr>\n",
       "      <th>58</th>\n",
       "      <td>58</td>\n",
       "      <td>0.508333</td>\n",
       "      <td>24</td>\n",
       "    </tr>\n",
       "    <tr>\n",
       "      <th>59</th>\n",
       "      <td>59</td>\n",
       "      <td>0.437500</td>\n",
       "      <td>24</td>\n",
       "    </tr>\n",
       "  </tbody>\n",
       "</table>\n",
       "</div>"
      ],
      "text/plain": [
       "    set_number  avg_stat  count\n",
       "0            0  0.508333     24\n",
       "1            1  0.483333     24\n",
       "2            2  0.516667     24\n",
       "3            3  0.500000     24\n",
       "4            4  0.500000     24\n",
       "5            5  0.500000     24\n",
       "6            6  0.487500     24\n",
       "7            7  0.491667     24\n",
       "8            8  0.487500     24\n",
       "9            9  0.512500     24\n",
       "10          10  0.483333     24\n",
       "11          11  0.479167     24\n",
       "12          12  0.504167     24\n",
       "13          13  0.520833     24\n",
       "14          14  0.529167     24\n",
       "15          15  0.500000     24\n",
       "16          16  0.479167     24\n",
       "17          17  0.504167     24\n",
       "18          18  0.516667     24\n",
       "19          19  0.504167     24\n",
       "20          20  0.529167     24\n",
       "21          21  0.525000     24\n",
       "22          22  0.479167     24\n",
       "23          23  0.487500     24\n",
       "24          24  0.483333     24\n",
       "25          25  0.508333     24\n",
       "26          26  0.491667     24\n",
       "27          27  0.533333     24\n",
       "28          28  0.495833     24\n",
       "29          29  0.533333     24\n",
       "30          30  0.470833     24\n",
       "31          31  0.487500     24\n",
       "32          32  0.525000     24\n",
       "33          33  0.312500     24\n",
       "34          34  0.537500     24\n",
       "35          35  0.537500     24\n",
       "36          36  0.520833     24\n",
       "37          37  0.458333     24\n",
       "38          38  0.537500     24\n",
       "39          39  0.508333     24\n",
       "40          40  0.504167     24\n",
       "41          41  0.512500     24\n",
       "42          42  0.491667     24\n",
       "43          43  0.533333     24\n",
       "44          44  0.516667     24\n",
       "45          45  0.454167     24\n",
       "46          46  0.516667     24\n",
       "47          47  0.516667     24\n",
       "48          48  0.479167     24\n",
       "49          49  0.533333     24\n",
       "50          50  0.525000     24\n",
       "51          51  0.487500     24\n",
       "52          52  0.487500     24\n",
       "53          53  0.504167     24\n",
       "54          54  0.516667     24\n",
       "55          55  0.516667     24\n",
       "56          56  0.458333     24\n",
       "57          57  0.445833     24\n",
       "58          58  0.508333     24\n",
       "59          59  0.437500     24"
      ]
     },
     "execution_count": 159,
     "metadata": {},
     "output_type": "execute_result"
    }
   ],
   "source": [
    "set_acc_df"
   ]
  },
  {
   "cell_type": "code",
   "execution_count": 160,
   "metadata": {},
   "outputs": [],
   "source": [
    "# truisms_data"
   ]
  },
  {
   "cell_type": "code",
   "execution_count": null,
   "metadata": {},
   "outputs": [],
   "source": []
  },
  {
   "cell_type": "code",
   "execution_count": 161,
   "metadata": {},
   "outputs": [
    {
     "data": {
      "image/png": "[encoded data removed]",
      "text/plain": [
       "<Figure size 432x288 with 1 Axes>"
      ]
     },
     "metadata": {
      "needs_background": "light"
     },
     "output_type": "display_data"
    }
   ],
   "source": [
    "x_label = \"Equivalent Sets\"\n",
    "left_units = \"Avg Accuracy %\"\n",
    "left_bar_data = [round(row[\"avg_stat\"], 3) for i, row in set_acc_df.iterrows()]\n",
    "# len(left_bar_data), len(x_labels)\n",
    "# title = \"Avg Accuracy per Equivalent Set across all Perturbations for {}\".format(model)\n",
    "title = \"Avg Accuracy per Equivalent Set across all Perturbations\"\n",
    "display_bar_plot((1,61), x_label, left_units, left_bar_data, title, color=\"tab:red\",\n",
    "                 save_dir=save_dir,\n",
    "                 add_nums_to_bars=False, label_x_ticks=True, small_title=True)"
   ]
  },
  {
   "cell_type": "code",
   "execution_count": 162,
   "metadata": {},
   "outputs": [
    {
     "data": {
      "image/png": "[encoded data removed]",
      "text/plain": [
       "<Figure size 432x288 with 1 Axes>"
      ]
     },
     "metadata": {
      "needs_background": "light"
     },
     "output_type": "display_data"
    }
   ],
   "source": [
    "x_label = \"Equivalent Sets\"\n",
    "left_units = \"Avg Confidence Ratio\"\n",
    "left_bar_data = [round(row[\"avg_stat\"], 3) for i, row in set_ratio_df.iterrows()]\n",
    "# left_bar_data\n",
    "# title = \"Avg Conf Ratio per Equiv Sets across all Perturbations for {}\".format(model)\n",
    "title = \"Avg Conf Ratio per Equiv Sets across all Perturbations\"\n",
    "display_bar_plot((1,61), x_label, left_units, left_bar_data, title, color=\"tab:blue\",\n",
    "                 save_dir=save_dir,\n",
    "                 add_nums_to_bars=False, label_x_ticks=True, y_range=[-1,1], small_title=True)"
   ]
  },
  {
   "cell_type": "code",
   "execution_count": null,
   "metadata": {},
   "outputs": [],
   "source": []
  },
  {
   "cell_type": "code",
   "execution_count": null,
   "metadata": {},
   "outputs": [],
   "source": []
  },
  {
   "cell_type": "code",
   "execution_count": null,
   "metadata": {},
   "outputs": [],
   "source": []
  },
  {
   "cell_type": "code",
   "execution_count": null,
   "metadata": {},
   "outputs": [],
   "source": []
  }
 ],
 "metadata": {
  "kernelspec": {
   "display_name": "Python 3",
   "language": "python",
   "name": "python3"
  },
  "language_info": {
   "codemirror_mode": {
    "name": "ipython",
    "version": 3
   },
   "file_extension": ".py",
   "mimetype": "text/x-python",
   "name": "python",
   "nbconvert_exporter": "python",
   "pygments_lexer": "ipython3",
   "version": "3.6.7"
  }
 },
 "nbformat": 4,
 "nbformat_minor": 2
}
