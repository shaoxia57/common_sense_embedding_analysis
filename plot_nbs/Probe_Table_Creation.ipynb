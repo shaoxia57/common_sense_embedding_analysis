{
 "cells": [
  {
   "cell_type": "code",
   "execution_count": 1,
   "metadata": {},
   "outputs": [],
   "source": [
    "%load_ext autoreload\n",
    "%autoreload 2"
   ]
  },
  {
   "cell_type": "code",
   "execution_count": 2,
   "metadata": {},
   "outputs": [],
   "source": [
    "import pandas as pd\n",
    "import json\n",
    "import numpy as np\n",
    "import sys\n",
    "sys.path.append(\"../\")"
   ]
  },
  {
   "cell_type": "code",
   "execution_count": 8,
   "metadata": {},
   "outputs": [],
   "source": [
    "result_dir = \"../data/masked_word_result_data/roberta/\"\n",
    "\n",
    "data_files = [\"material_perf_2_10.csv\", \"physical_perf_2_10.csv\", \"social_perf_2_10.csv\"]\n",
    "\n",
    "sentence_dir = \"../data/truism_data/\"\n",
    "\n",
    "sentence_files = [\"material_data_sentences_2.json\", \"physical_data_sentences_2.json\", \"social_data_sentences_2.json\"]\n",
    "\n",
    "config_dir = \"../data/truism_data/\"\n",
    "\n",
    "config_files = [\"material_data_2.json\", \"physical_data_2.json\", \"social_data_2.json\"]"
   ]
  },
  {
   "cell_type": "code",
   "execution_count": 74,
   "metadata": {},
   "outputs": [],
   "source": [
    "data = []\n",
    "\n",
    "for file in data_files:\n",
    "    full_path = result_dir + file\n",
    "    data.append(pd.read_csv(full_path))\n",
    "\n",
    "sentences = []\n",
    "\n",
    "for file in sentence_files:\n",
    "    full_path = sentence_dir + file\n",
    "    with open(full_path) as f:\n",
    "        sentences.append(json.load(f))\n",
    "\n",
    "configs = []\n",
    "\n",
    "for file in config_files:\n",
    "    full_path = config_dir + file\n",
    "    with open(full_path) as f:\n",
    "        configs.append(json.load(f))"
   ]
  },
  {
   "cell_type": "code",
   "execution_count": 37,
   "metadata": {},
   "outputs": [],
   "source": [
    "output_dict = {\n",
    "    \"commonsense type\" : [],\n",
    "    \"set number\" : [],\n",
    "    \"linguistic perturbation\" : [],\n",
    "    \"asymmetric perturbation\" : [],\n",
    "    \"probe\" : []\n",
    "}"
   ]
  },
  {
   "cell_type": "code",
   "execution_count": 38,
   "metadata": {},
   "outputs": [],
   "source": [
    "# sentences[0]"
   ]
  },
  {
   "cell_type": "code",
   "execution_count": 39,
   "metadata": {},
   "outputs": [
    {
     "data": {
      "text/html": [
       "<div>\n",
       "<style scoped>\n",
       "    .dataframe tbody tr th:only-of-type {\n",
       "        vertical-align: middle;\n",
       "    }\n",
       "\n",
       "    .dataframe tbody tr th {\n",
       "        vertical-align: top;\n",
       "    }\n",
       "\n",
       "    .dataframe thead th {\n",
       "        text-align: right;\n",
       "    }\n",
       "</style>\n",
       "<table border=\"1\" class=\"dataframe\">\n",
       "  <thead>\n",
       "    <tr style=\"text-align: right;\">\n",
       "      <th></th>\n",
       "      <th>truism_number</th>\n",
       "      <th>perturbation</th>\n",
       "      <th>premise</th>\n",
       "      <th>avg_binary_score</th>\n",
       "      <th>avg_ratio_score</th>\n",
       "    </tr>\n",
       "  </thead>\n",
       "  <tbody>\n",
       "    <tr>\n",
       "      <th>0</th>\n",
       "      <td>0</td>\n",
       "      <td>original</td>\n",
       "      <td>original</td>\n",
       "      <td>1.0</td>\n",
       "      <td>0.898922</td>\n",
       "    </tr>\n",
       "    <tr>\n",
       "      <th>1</th>\n",
       "      <td>0</td>\n",
       "      <td>original</td>\n",
       "      <td>asymmetric_premise</td>\n",
       "      <td>0.0</td>\n",
       "      <td>-0.731242</td>\n",
       "    </tr>\n",
       "    <tr>\n",
       "      <th>2</th>\n",
       "      <td>0</td>\n",
       "      <td>original</td>\n",
       "      <td>asymmetric_conclusion</td>\n",
       "      <td>0.0</td>\n",
       "      <td>-0.750007</td>\n",
       "    </tr>\n",
       "    <tr>\n",
       "      <th>3</th>\n",
       "      <td>0</td>\n",
       "      <td>negation</td>\n",
       "      <td>original</td>\n",
       "      <td>0.0</td>\n",
       "      <td>-0.928093</td>\n",
       "    </tr>\n",
       "    <tr>\n",
       "      <th>4</th>\n",
       "      <td>0</td>\n",
       "      <td>negation</td>\n",
       "      <td>asymmetric_premise</td>\n",
       "      <td>1.0</td>\n",
       "      <td>0.918479</td>\n",
       "    </tr>\n",
       "  </tbody>\n",
       "</table>\n",
       "</div>"
      ],
      "text/plain": [
       "   truism_number perturbation                premise  avg_binary_score  \\\n",
       "0              0     original               original               1.0   \n",
       "1              0     original     asymmetric_premise               0.0   \n",
       "2              0     original  asymmetric_conclusion               0.0   \n",
       "3              0     negation               original               0.0   \n",
       "4              0     negation     asymmetric_premise               1.0   \n",
       "\n",
       "   avg_ratio_score  \n",
       "0         0.898922  \n",
       "1        -0.731242  \n",
       "2        -0.750007  \n",
       "3        -0.928093  \n",
       "4         0.918479  "
      ]
     },
     "execution_count": 39,
     "metadata": {},
     "output_type": "execute_result"
    }
   ],
   "source": [
    "data[0].head()"
   ]
  },
  {
   "cell_type": "code",
   "execution_count": 40,
   "metadata": {},
   "outputs": [],
   "source": [
    "count = 0\n",
    "for i, row in data[0].iterrows():\n",
    "    if count < 6:\n",
    "        output_dict[\"commonsense type\"].append(\"material\")\n",
    "        output_dict[\"set number\"].append(row[\"truism_number\"])\n",
    "        output_dict[\"linguistic perturbation\"].append(row[\"perturbation\"])\n",
    "        output_dict[\"asymmetric perturbation\"].append(row[\"premise\"])\n",
    "        output_dict[\"probe\"].append(sentences[0][str(row[\"truism_number\"])][row[\"perturbation\"]][row[\"premise\"]])\n",
    "    \n",
    "    count += 1\n",
    "    if count == 24:\n",
    "        count = 0"
   ]
  },
  {
   "cell_type": "code",
   "execution_count": 41,
   "metadata": {},
   "outputs": [],
   "source": [
    "count = 0\n",
    "for i, row in data[1].iterrows():\n",
    "    if count < 6:\n",
    "        output_dict[\"commonsense type\"].append(\"physical\")\n",
    "        output_dict[\"set number\"].append(row[\"truism_number\"])\n",
    "        output_dict[\"linguistic perturbation\"].append(row[\"perturbation\"])\n",
    "        output_dict[\"asymmetric perturbation\"].append(row[\"premise\"])\n",
    "        output_dict[\"probe\"].append(sentences[1][str(row[\"truism_number\"])][row[\"perturbation\"]][row[\"premise\"]])\n",
    "    \n",
    "    count += 1\n",
    "    if count == 24:\n",
    "        count = 0"
   ]
  },
  {
   "cell_type": "code",
   "execution_count": 42,
   "metadata": {},
   "outputs": [],
   "source": [
    "count = 0\n",
    "for i, row in data[1].iterrows():\n",
    "    if count < 6:\n",
    "        output_dict[\"commonsense type\"].append(\"social\")\n",
    "        output_dict[\"set number\"].append(row[\"truism_number\"])\n",
    "        output_dict[\"linguistic perturbation\"].append(row[\"perturbation\"])\n",
    "        output_dict[\"asymmetric perturbation\"].append(row[\"premise\"])\n",
    "        output_dict[\"probe\"].append(sentences[2][str(row[\"truism_number\"])][row[\"perturbation\"]][row[\"premise\"]])\n",
    "    \n",
    "    count += 1\n",
    "    if count == 24:\n",
    "        count = 0"
   ]
  },
  {
   "cell_type": "code",
   "execution_count": 43,
   "metadata": {},
   "outputs": [],
   "source": [
    "df = pd.DataFrame.from_dict(output_dict)"
   ]
  },
  {
   "cell_type": "code",
   "execution_count": 110,
   "metadata": {},
   "outputs": [],
   "source": [
    "# print(df.to_latex(index=False))"
   ]
  },
  {
   "cell_type": "code",
   "execution_count": 111,
   "metadata": {},
   "outputs": [],
   "source": [
    "output_dict = {\n",
    "#     \"template\" : [],\n",
    "    \"linguistic perturbation\" : [],\n",
    "    \"asymmetric perturbation\" : [],\n",
    "    \"probe\" : []\n",
    "}"
   ]
  },
  {
   "cell_type": "code",
   "execution_count": 112,
   "metadata": {},
   "outputs": [],
   "source": [
    "for i, row in data[1].iterrows():\n",
    "    if row[\"truism_number\"] == 3:\n",
    "#         output_dict[\"commonsense type\"].append(\"physical\")\n",
    "        output_dict[\"linguistic perturbation\"].append(row[\"perturbation\"])\n",
    "        output_dict[\"asymmetric perturbation\"].append(row[\"premise\"])\n",
    "        output_dict[\"probe\"].append(sentences[1][str(row[\"truism_number\"])][row[\"perturbation\"]][row[\"premise\"]])\n",
    "\n",
    "# for i, row in data[0].iterrows():\n",
    "#     if row[\"truism_number\"] == 0:\n",
    "#         output_dict[\"commonsense type\"].append(\"material\")\n",
    "#         output_dict[\"linguistic perturbation\"].append(row[\"perturbation\"])\n",
    "#         output_dict[\"asymmetric perturbation\"].append(row[\"premise\"])\n",
    "#         output_dict[\"probe\"].append(sentences[0][str(row[\"truism_number\"])][row[\"perturbation\"]][row[\"premise\"]])\n",
    "\n",
    "# for i, row in data[2].iterrows():\n",
    "#     if row[\"truism_number\"] == 4:\n",
    "#         output_dict[\"commonsense type\"].append(\"social\")\n",
    "#         output_dict[\"linguistic perturbation\"].append(row[\"perturbation\"])\n",
    "#         output_dict[\"asymmetric perturbation\"].append(row[\"premise\"])\n",
    "#         output_dict[\"probe\"].append(sentences[2][str(row[\"truism_number\"])][row[\"perturbation\"]][row[\"premise\"]])"
   ]
  },
  {
   "cell_type": "code",
   "execution_count": 113,
   "metadata": {},
   "outputs": [],
   "source": [
    "df = pd.DataFrame.from_dict(output_dict)"
   ]
  },
  {
   "cell_type": "code",
   "execution_count": 114,
   "metadata": {},
   "outputs": [
    {
     "name": "stdout",
     "output_type": "stream",
     "text": [
      "\\begin{tabular}{lll}\n",
      "\\toprule\n",
      "       linguistic perturbation & asymmetric perturbation &                                                                           probe \\\\\n",
      "\\midrule\n",
      "                      original &                original &           A is wider than B, so A finds it harder to slip through cracks than B \\\\\n",
      "                      original &      asymmetric\\_premise &           B is wider than A, so A finds it easier to slip through cracks than B \\\\\n",
      "                      original &   asymmetric\\_conclusion &           A is wider than B, so B finds it easier to slip through cracks than A \\\\\n",
      "                      negation &                original &   A is wider than B, so A does not find it easier to slip through cracks than B \\\\\n",
      "                      negation &      asymmetric\\_premise &   B is wider than A, so A does not find it harder to slip through cracks than B \\\\\n",
      "                      negation &   asymmetric\\_conclusion &   A is wider than B, so B does not find it harder to slip through cracks than A \\\\\n",
      "                       antonym &                original &          A is wider than B, so A finds it easier to be blocked by cracks than B \\\\\n",
      "                       antonym &      asymmetric\\_premise &          B is wider than A, so A finds it harder to be blocked by cracks than B \\\\\n",
      "                       antonym &   asymmetric\\_conclusion &          A is wider than B, so B finds it harder to be blocked by cracks than A \\\\\n",
      "                    paraphrase &                original &                A is wider than B, so A is worse at fitting into openings than B \\\\\n",
      "                    paraphrase &      asymmetric\\_premise &               B is wider than A, so A is better at fitting into openings than B \\\\\n",
      "                    paraphrase &   asymmetric\\_conclusion &               A is wider than B, so B is better at fitting into openings than A \\\\\n",
      "          paraphrase\\_inversion &                original &                A is wider than B, so A is more impeded by small openings than B \\\\\n",
      "          paraphrase\\_inversion &      asymmetric\\_premise &                B is wider than A, so A is less impeded by small openings than B \\\\\n",
      "          paraphrase\\_inversion &   asymmetric\\_conclusion &                A is wider than B, so B is less impeded by small openings than A \\\\\n",
      "              negation\\_antonym &                original &  A is wider than B, so A does not find it harder to be blocked by cracks than B \\\\\n",
      "              negation\\_antonym &      asymmetric\\_premise &  B is wider than A, so A does not find it easier to be blocked by cracks than B \\\\\n",
      "              negation\\_antonym &   asymmetric\\_conclusion &  A is wider than B, so B does not find it easier to be blocked by cracks than A \\\\\n",
      "           negation\\_paraphrase &                original &           A is wider than B, so A is not better at fitting into openings than B \\\\\n",
      "           negation\\_paraphrase &      asymmetric\\_premise &            B is wider than A, so A is not worse at fitting into openings than B \\\\\n",
      "           negation\\_paraphrase &   asymmetric\\_conclusion &            A is wider than B, so B is not worse at fitting into openings than A \\\\\n",
      " negation\\_paraphrase\\_inversion &                original &            A is wider than B, so A is not less impeded by small openings than B \\\\\n",
      " negation\\_paraphrase\\_inversion &      asymmetric\\_premise &            B is wider than A, so A is not more impeded by small openings than B \\\\\n",
      " negation\\_paraphrase\\_inversion &   asymmetric\\_conclusion &            A is wider than B, so B is not more impeded by small openings than A \\\\\n",
      "\\bottomrule\n",
      "\\end{tabular}\n",
      "\n"
     ]
    }
   ],
   "source": [
    "with pd.option_context(\"max_colwidth\", 1000):\n",
    "    print(df.to_latex(index=False))"
   ]
  },
  {
   "cell_type": "code",
   "execution_count": null,
   "metadata": {},
   "outputs": [],
   "source": []
  },
  {
   "cell_type": "code",
   "execution_count": 99,
   "metadata": {},
   "outputs": [],
   "source": [
    "output_dict = {\n",
    "    \"template\" : [],\n",
    "    \"probe\" : []\n",
    "}"
   ]
  },
  {
   "cell_type": "code",
   "execution_count": 100,
   "metadata": {},
   "outputs": [],
   "source": [
    "for i, row in data[0].iterrows():\n",
    "    if row[\"perturbation\"] == \"original\" and row[\"premise\"] == \"original\":\n",
    "        output_dict[\"template\"].append(configs[0][str(row[\"truism_number\"])][\"template\"])\n",
    "        output_dict[\"probe\"].append(sentences[0][str(row[\"truism_number\"])][row[\"perturbation\"]][row[\"premise\"]])\n",
    "\n",
    "for i, row in data[2].iterrows():\n",
    "    if row[\"perturbation\"] == \"original\" and row[\"premise\"] == \"original\":\n",
    "        output_dict[\"template\"].append(configs[2][str(row[\"truism_number\"])][\"template\"])\n",
    "        output_dict[\"probe\"].append(sentences[2][str(row[\"truism_number\"])][row[\"perturbation\"]][row[\"premise\"]])\n",
    "\n",
    "for i, row in data[1].iterrows():\n",
    "    if row[\"perturbation\"] == \"original\" and row[\"premise\"] == \"original\":\n",
    "        output_dict[\"template\"].append(configs[1][str(row[\"truism_number\"])][\"template\"])\n",
    "        output_dict[\"probe\"].append(sentences[1][str(row[\"truism_number\"])][row[\"perturbation\"]][row[\"premise\"]])\n"
   ]
  },
  {
   "cell_type": "code",
   "execution_count": 101,
   "metadata": {},
   "outputs": [],
   "source": [
    "df = pd.DataFrame.from_dict(output_dict)"
   ]
  },
  {
   "cell_type": "code",
   "execution_count": 102,
   "metadata": {},
   "outputs": [
    {
     "name": "stdout",
     "output_type": "stream",
     "text": [
      "\\begin{tabular}{ll}\n",
      "\\toprule\n",
      "template &                                                                                                  probe \\\\\n",
      "\\midrule\n",
      "       1 &                     A is made out of glass and B is made out of stone, so A is more transparent than B \\\\\n",
      "       1 &                          A is made out of cotton and B is made out of glass, so A is less sharp than B \\\\\n",
      "       1 &                 A is made out of concrete and B is made out of paper, so A should be more heavy than B \\\\\n",
      "       1 &                     A is made out of metal and B is made out of rubber, so A should float worse than B \\\\\n",
      "       1 &                        A is made out of glass and B is made out of copper, so A is more fragile than B \\\\\n",
      "       1 &                             A is made out of steel and B is made out of wool, so A is less soft than B \\\\\n",
      "       1 &                      A is made out of wood and B is made out of glass, so A is more combustible than B \\\\\n",
      "       1 &          A is made out of sponge and B is made out of nylon, so A is worse for water resistance than B \\\\\n",
      "       1 &                     A is made out of copper and B is made out of concrete, so A is more ductile than B \\\\\n",
      "       1 &                        A is made out of metal and B is made out of cloth, so A is less foldable than B \\\\\n",
      "       1 &            A is made out of chocolate and B is made out of metal, so A is harder to keep frozen than B \\\\\n",
      "       1 &         A is made out of metal and B is made out of dirt, so A is a better electrical conductor than B \\\\\n",
      "       1 &               A is made out of stone and B is made out of helium, so A has a harder time flying than B \\\\\n",
      "       1 &                         A is made out of honey and B is made out of water, so A is more viscous than B \\\\\n",
      "       1 &                     A is made out of titanium and B is made out of rubber, so A is less elastic than B \\\\\n",
      "       1 &                 A is made out of water and B is made out of methane, so A is more safe to store than B \\\\\n",
      "       1 &  A is made out of mercury and B is made out of oxygen, so A is worse for your health to consume than B \\\\\n",
      "       1 &        A is made out of wood and B is made out of fur, so A will more easily expand when heated than B \\\\\n",
      "       1 &                    A is made out of concrete and B is made out of wood, so A is less penetrable than B \\\\\n",
      "       1 &                 A is made out of glass and B is made out of tar, so A will reflect light better than B \\\\\n",
      "       3 &                                 A makes the varsity team while B does not, so A is more skilled than B \\\\\n",
      "       3 &             A is going to perform for people while B is not, so A finds it harder to be relaxed than B \\\\\n",
      "       3 &                         A won the competition while B did not, so A finds it easier to be happy than B \\\\\n",
      "       4 &                     A is able to concentrate more than B, so A finds it easier to be productive than B \\\\\n",
      "       3 &                                            A bullies people while B does not, so A is less kind than B \\\\\n",
      "       2 &                                                       A is B's boss, so A commands more respect than B \\\\\n",
      "       4 &                                      A has more work than B, so A finds it harder to be at ease than B \\\\\n",
      "       2 &                                        A has a crush on B, so A finds it harder to be relaxed around B \\\\\n",
      "       4 &                              A has more dedication than B, so A will have a harder time failing than B \\\\\n",
      "       2 &                                                   A is B's parent, so A initially takes more care of B \\\\\n",
      "       2 &                                                             A is B's doctor, so A takes more care of B \\\\\n",
      "       2 &                                              A hurt B's feelings, so A must be more insensitive than B \\\\\n",
      "       2 &                                                  A is B's priest, so A spends less time sinning than B \\\\\n",
      "       2 &                                               A is B's lawyer, so A is less ignorant of the law than B \\\\\n",
      "       4 &                                  A has a lot less money than B, so A is less financially secure than B \\\\\n",
      "       4 &    A watches more tv shows than B, so A is more capable of understanding pop-culture references than B \\\\\n",
      "       2 &                          A always loses to B in tennis, so A is a less proficient tennis player than B \\\\\n",
      "       2 &                                                A makes B late, so A has less reason to be annoyed at B \\\\\n",
      "       4 &                                            A is a better friend than B, so A is more thoughtful than B \\\\\n",
      "       2 &                                                  A is B's teacher, so A should be more informed than B \\\\\n",
      "       4 &                                           A is smaller than B, so A is easier to put into a box than B \\\\\n",
      "       4 &                                                  A is heavier than B, so A is better at sinking than B \\\\\n",
      "       4 &                                  A is denser than B, so A should withstand piercing more easily than B \\\\\n",
      "       4 &                                  A is wider than B, so A finds it harder to slip through cracks than B \\\\\n",
      "       4 &                                               A is hotter than B, so A should be easier to melt than B \\\\\n",
      "       4 &                                             A is more elastic than B, so A should bounce better than B \\\\\n",
      "       4 &                                                A is tougher than B, so A is harder to rip apart than B \\\\\n",
      "       4 &                                                    A is harder than B, so A is less comfortable than B \\\\\n",
      "       4 &                                        A is taller than B, so A will cast a more lengthy shadow than B \\\\\n",
      "       4 &                                     A is lighter than B, so A finds it harder to support weight than B \\\\\n",
      "       4 &                        A has less momentum than B, so A has a worse ability to damage on impact than B \\\\\n",
      "       4 &                                    A is more luminous than B, so A is more dangerous to look at than B \\\\\n",
      "       4 &                                    A is more soluble than B, so A is harder to discern in water than B \\\\\n",
      "       4 &                                              A is more pungent than B, so A is easier to detect than B \\\\\n",
      "       4 &                           A is smaller than B, so A finds it harder to displace liquid in a tub than B \\\\\n",
      "       4 &                              A is shorter than B, so A is worse for keeping things out of reach than B \\\\\n",
      "       4 &                                             A is larger than B, so A is more difficult to carry than B \\\\\n",
      "       4 &                           A is more taut than B, so A is worse at withstanding additional force than B \\\\\n",
      "       4 &                                 A is much hotter than B, so A will be more painful to hold onto than B \\\\\n",
      "       4 &                       A is more magnetic than B, so A is harder to separate from another magnet than B \\\\\n",
      "\\bottomrule\n",
      "\\end{tabular}\n",
      "\n"
     ]
    }
   ],
   "source": [
    "with pd.option_context(\"max_colwidth\", 1000):\n",
    "    print(df.to_latex(index=False))"
   ]
  },
  {
   "cell_type": "code",
   "execution_count": null,
   "metadata": {},
   "outputs": [],
   "source": []
  }
 ],
 "metadata": {
  "kernelspec": {
   "display_name": "Python 3",
   "language": "python",
   "name": "python3"
  },
  "language_info": {
   "codemirror_mode": {
    "name": "ipython",
    "version": 3
   },
   "file_extension": ".py",
   "mimetype": "text/x-python",
   "name": "python",
   "nbconvert_exporter": "python",
   "pygments_lexer": "ipython3",
   "version": "3.6.5"
  }
 },
 "nbformat": 4,
 "nbformat_minor": 4
}
