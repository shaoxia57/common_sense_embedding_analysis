{
 "cells": [
  {
   "cell_type": "code",
   "execution_count": 1,
   "metadata": {
    "collapsed": true
   },
   "outputs": [],
   "source": [
    "%load_ext autoreload\n",
    "%autoreload 2"
   ]
  },
  {
   "cell_type": "code",
   "execution_count": 2,
   "metadata": {
    "collapsed": true
   },
   "outputs": [],
   "source": [
    "import pandas as pd\n",
    "import json\n",
    "import numpy as np\n",
    "import matplotlib.pyplot as plt\n",
    "import matplotlib\n",
    "from exploration_utils import *\n",
    "from eval_functions import *"
   ]
  },
  {
   "cell_type": "code",
   "execution_count": 7,
   "metadata": {
    "collapsed": true
   },
   "outputs": [],
   "source": [
    "material_data = pd.read_csv(\"result_data/material_perf_2_10.csv\")\n",
    "\n",
    "social_data = pd.read_csv(\"result_data/social_perf_2_10.csv\")\n",
    "\n",
    "physical_data = pd.read_csv(\"result_data/physical_perf_2_10.csv\")\n",
    "\n",
    "with open(\"truism_data/physical_data_2.json\", \"r\") as f:\n",
    "    physical_params = json.load(f)\n",
    "\n",
    "with open(\"truism_data/material_data_2.json\", \"r\") as f:\n",
    "    material_params = json.load(f)\n",
    "\n",
    "with open(\"truism_data/social_data_2.json\", \"r\") as f:\n",
    "    social_params = json.load(f)"
   ]
  },
  {
   "cell_type": "code",
   "execution_count": 8,
   "metadata": {
    "collapsed": true
   },
   "outputs": [],
   "source": [
    "filtered_material_data = material_data[(material_data[\"avg_binary_score\"]==1.0) |\n",
    "                                       (material_data[\"avg_binary_score\"]==0.0)]\n",
    "\n",
    "filtered_social_data = social_data[(social_data[\"avg_binary_score\"]==1.0) |\n",
    "                                   (social_data[\"avg_binary_score\"]==0.0)]\n",
    "\n",
    "filtered_physical_data = physical_data[(physical_data[\"avg_binary_score\"]==1.0) |\n",
    "                                       (physical_data[\"avg_binary_score\"]==0.0)]"
   ]
  },
  {
   "cell_type": "code",
   "execution_count": 9,
   "metadata": {},
   "outputs": [
    {
     "data": {
      "text/html": [
       "<div>\n",
       "<style scoped>\n",
       "    .dataframe tbody tr th:only-of-type {\n",
       "        vertical-align: middle;\n",
       "    }\n",
       "\n",
       "    .dataframe tbody tr th {\n",
       "        vertical-align: top;\n",
       "    }\n",
       "\n",
       "    .dataframe thead th {\n",
       "        text-align: right;\n",
       "    }\n",
       "</style>\n",
       "<table border=\"1\" class=\"dataframe\">\n",
       "  <thead>\n",
       "    <tr style=\"text-align: right;\">\n",
       "      <th></th>\n",
       "      <th>truism_number</th>\n",
       "      <th>perturbation</th>\n",
       "      <th>premise</th>\n",
       "      <th>avg_binary_score</th>\n",
       "      <th>avg_ratio_score</th>\n",
       "    </tr>\n",
       "  </thead>\n",
       "  <tbody>\n",
       "    <tr>\n",
       "      <th>0</th>\n",
       "      <td>0</td>\n",
       "      <td>original</td>\n",
       "      <td>original</td>\n",
       "      <td>1.0</td>\n",
       "      <td>0.890041</td>\n",
       "    </tr>\n",
       "    <tr>\n",
       "      <th>1</th>\n",
       "      <td>0</td>\n",
       "      <td>original</td>\n",
       "      <td>asymmetric_premise</td>\n",
       "      <td>0.0</td>\n",
       "      <td>-0.847403</td>\n",
       "    </tr>\n",
       "    <tr>\n",
       "      <th>2</th>\n",
       "      <td>0</td>\n",
       "      <td>original</td>\n",
       "      <td>asymmetric_conclusion</td>\n",
       "      <td>0.0</td>\n",
       "      <td>-0.881239</td>\n",
       "    </tr>\n",
       "    <tr>\n",
       "      <th>3</th>\n",
       "      <td>0</td>\n",
       "      <td>negation</td>\n",
       "      <td>original</td>\n",
       "      <td>0.0</td>\n",
       "      <td>-0.629667</td>\n",
       "    </tr>\n",
       "    <tr>\n",
       "      <th>4</th>\n",
       "      <td>0</td>\n",
       "      <td>negation</td>\n",
       "      <td>asymmetric_premise</td>\n",
       "      <td>1.0</td>\n",
       "      <td>0.791120</td>\n",
       "    </tr>\n",
       "    <tr>\n",
       "      <th>...</th>\n",
       "      <td>...</td>\n",
       "      <td>...</td>\n",
       "      <td>...</td>\n",
       "      <td>...</td>\n",
       "      <td>...</td>\n",
       "    </tr>\n",
       "    <tr>\n",
       "      <th>472</th>\n",
       "      <td>19</td>\n",
       "      <td>negation_paraphrase</td>\n",
       "      <td>asymmetric_premise</td>\n",
       "      <td>0.0</td>\n",
       "      <td>-0.564112</td>\n",
       "    </tr>\n",
       "    <tr>\n",
       "      <th>473</th>\n",
       "      <td>19</td>\n",
       "      <td>negation_paraphrase</td>\n",
       "      <td>asymmetric_conclusion</td>\n",
       "      <td>0.0</td>\n",
       "      <td>-0.641379</td>\n",
       "    </tr>\n",
       "    <tr>\n",
       "      <th>474</th>\n",
       "      <td>19</td>\n",
       "      <td>negation_paraphrase_inversion</td>\n",
       "      <td>original</td>\n",
       "      <td>0.0</td>\n",
       "      <td>-0.978762</td>\n",
       "    </tr>\n",
       "    <tr>\n",
       "      <th>475</th>\n",
       "      <td>19</td>\n",
       "      <td>negation_paraphrase_inversion</td>\n",
       "      <td>asymmetric_premise</td>\n",
       "      <td>1.0</td>\n",
       "      <td>0.993155</td>\n",
       "    </tr>\n",
       "    <tr>\n",
       "      <th>476</th>\n",
       "      <td>19</td>\n",
       "      <td>negation_paraphrase_inversion</td>\n",
       "      <td>asymmetric_conclusion</td>\n",
       "      <td>1.0</td>\n",
       "      <td>0.976471</td>\n",
       "    </tr>\n",
       "  </tbody>\n",
       "</table>\n",
       "<p>477 rows × 5 columns</p>\n",
       "</div>"
      ],
      "text/plain": [
       "     truism_number                   perturbation                premise  \\\n",
       "0                0                       original               original   \n",
       "1                0                       original     asymmetric_premise   \n",
       "2                0                       original  asymmetric_conclusion   \n",
       "3                0                       negation               original   \n",
       "4                0                       negation     asymmetric_premise   \n",
       "..             ...                            ...                    ...   \n",
       "472             19            negation_paraphrase     asymmetric_premise   \n",
       "473             19            negation_paraphrase  asymmetric_conclusion   \n",
       "474             19  negation_paraphrase_inversion               original   \n",
       "475             19  negation_paraphrase_inversion     asymmetric_premise   \n",
       "476             19  negation_paraphrase_inversion  asymmetric_conclusion   \n",
       "\n",
       "     avg_binary_score  avg_ratio_score  \n",
       "0                 1.0         0.890041  \n",
       "1                 0.0        -0.847403  \n",
       "2                 0.0        -0.881239  \n",
       "3                 0.0        -0.629667  \n",
       "4                 1.0         0.791120  \n",
       "..                ...              ...  \n",
       "472               0.0        -0.564112  \n",
       "473               0.0        -0.641379  \n",
       "474               0.0        -0.978762  \n",
       "475               1.0         0.993155  \n",
       "476               1.0         0.976471  \n",
       "\n",
       "[477 rows x 5 columns]"
      ]
     },
     "execution_count": 9,
     "metadata": {},
     "output_type": "execute_result"
    }
   ],
   "source": [
    "filtered_physical_data"
   ]
  },
  {
   "cell_type": "code",
   "execution_count": 12,
   "metadata": {
    "collapsed": true
   },
   "outputs": [],
   "source": [
    "def extract_labels(results, config, pair):\n",
    "    true_labels = []\n",
    "    predicted_labels = []\n",
    "    for i, row in results.iterrows():\n",
    "        \n",
    "        perturbation = row[\"perturbation\"]\n",
    "        premise = row[\"premise\"]\n",
    "        truism_num = row[\"truism_number\"]\n",
    "        truism_params = config[str(truism_num)]\n",
    "        is_greater = truism_params[\"greater_than\"] == \"A\"\n",
    "        switches = truism_params[\"premise_switch\"]\n",
    "        switch = []\n",
    "        if \"paraphrase_inversion\" in perturbation:\n",
    "            switch = switches[\"2\"]\n",
    "        elif \"paraphrase\" in perturbation:\n",
    "            switch = switches[\"1\"]\n",
    "        else:\n",
    "            switch = switches[\"0\"]\n",
    "        \n",
    "        switch.sort()\n",
    "        \n",
    "        if pair == switch:\n",
    "            true_label = 1 if is_greater else -1\n",
    "\n",
    "            if perturbation in [\"original\", \"paraphrase\", \"negation_antonym\", \"negation_paraphrase_inversion\"]:\n",
    "                if premise == \"original\":\n",
    "                    true_labels.append(true_label)\n",
    "                else:\n",
    "                    true_label = -1*true_label\n",
    "                    true_labels.append(true_label)\n",
    "\n",
    "\n",
    "            else:\n",
    "                if premise == \"original\":\n",
    "                    true_label = -1*true_label\n",
    "                    true_labels.append(true_label)\n",
    "                else:\n",
    "                    true_labels.append(true_label)\n",
    "\n",
    "            if row[\"avg_binary_score\"] > 0:\n",
    "                predicted_labels.append(true_label)\n",
    "            else:\n",
    "                predicted_labels.append(-1*true_label)\n",
    "        \n",
    "    \n",
    "    return true_labels, predicted_labels\n",
    "        \n",
    "                "
   ]
  },
  {
   "cell_type": "code",
   "execution_count": 45,
   "metadata": {
    "collapsed": true
   },
   "outputs": [],
   "source": [
    "mat_true_labels, mat_predicted_labels = extract_labels(filtered_material_data, material_params, [\"easier\", \"harder\"])\n",
    "soc_true_labels, soc_predicted_labels = extract_labels(filtered_social_data, social_params, [\"easier\", \"harder\"])\n",
    "phys_true_labels, phys_predicted_labels = extract_labels(filtered_physical_data, physical_params, [\"easier\", \"harder\"])"
   ]
  },
  {
   "cell_type": "code",
   "execution_count": null,
   "metadata": {
    "collapsed": true
   },
   "outputs": [],
   "source": []
  },
  {
   "cell_type": "code",
   "execution_count": 46,
   "metadata": {
    "collapsed": true
   },
   "outputs": [],
   "source": [
    "full_true_labels = []\n",
    "full_predicted_labels = []\n",
    "\n",
    "for label in mat_true_labels:\n",
    "    full_true_labels.append(label)\n",
    "\n",
    "for label in soc_true_labels:\n",
    "    full_true_labels.append(label)\n",
    "\n",
    "for label in phys_true_labels:\n",
    "    full_true_labels.append(label)\n",
    "\n",
    "for label in mat_predicted_labels:\n",
    "    full_predicted_labels.append(label)\n",
    "\n",
    "for label in soc_predicted_labels:\n",
    "    full_predicted_labels.append(label)\n",
    "\n",
    "for label in phys_predicted_labels:\n",
    "    full_predicted_labels.append(label)"
   ]
  },
  {
   "cell_type": "code",
   "execution_count": 47,
   "metadata": {},
   "outputs": [
    {
     "data": {
      "text/plain": [
       "True"
      ]
     },
     "execution_count": 47,
     "metadata": {},
     "output_type": "execute_result"
    }
   ],
   "source": [
    "len(full_true_labels) == len(full_predicted_labels)"
   ]
  },
  {
   "cell_type": "code",
   "execution_count": 48,
   "metadata": {
    "collapsed": true
   },
   "outputs": [],
   "source": [
    "metrics = get_all_metrics(full_true_labels, full_predicted_labels)"
   ]
  },
  {
   "cell_type": "code",
   "execution_count": 49,
   "metadata": {
    "collapsed": true
   },
   "outputs": [],
   "source": [
    "def plot_confusion_matrix(cm, classes=None, normalize=True, small=True,\n",
    "                          title='Confusion matrix', cmap=plt.cm.Blues):\n",
    "    # pylint: disable=line-too-long\n",
    "    \"\"\"\n",
    "    This function prints and plots the confusion matrix.\n",
    "    Normalization can be applied by setting normalize=True.\n",
    "    Taken from : http://scikit-learn.org/stable/auto_examples/model_selection/plot_confusion_matrix.html#sphx-glr-auto-examples-model-selection-plot-confusion-matrix-py\n",
    "    Params:\n",
    "        cm              (arr) : the confusion matrix to plot\n",
    "        classes         (arr) : the various class labels\n",
    "        normalize      (bool) : to normalize the probabilities or not\n",
    "        title           (str) : title of plot\n",
    "        cmap  (matplotlib.cm) : the color scheme to use for the confusion\n",
    "                                matrix\n",
    "    \"\"\"\n",
    "    if not classes:\n",
    "        classes = [str(i) for i in range(len(cm))]\n",
    "\n",
    "    if normalize:\n",
    "        cm = cm.astype('float') / cm.sum(axis=1)[:, np.newaxis]\n",
    "\n",
    "    if not small:\n",
    "        plt.figure(num=1, figsize=(20, 15))\n",
    "    else:\n",
    "        plt.figure()\n",
    "    plt.imshow(cm, interpolation='nearest', cmap=cmap)\n",
    "    plt.title(title)\n",
    "    plt.colorbar()\n",
    "    tick_marks = np.arange(len(classes))\n",
    "    plt.xticks(tick_marks, classes)\n",
    "    plt.yticks(tick_marks, classes)\n",
    "#     plt.axhline(y,color='blue', linestyle=\"--\")\n",
    "\n",
    "    fmt = '.2f' if normalize else 'd'\n",
    "    thresh = cm.max() / 2.\n",
    "    for i, j in itertools.product(range(cm.shape[0]), range(cm.shape[1])):\n",
    "        plt.text(j, i, format(cm[i, j], fmt),\n",
    "                 horizontalalignment=\"center\",\n",
    "                 color=\"white\" if cm[i, j] > thresh else \"black\")\n",
    "\n",
    "    plt.tight_layout()\n",
    "    plt.ylabel('True Masked Word')\n",
    "    plt.xlabel('Guessed Masked Word')\n",
    "    plt.savefig(\"visual_data/confusion_matrix.pdf\")\n",
    "    plt.show()"
   ]
  },
  {
   "cell_type": "code",
   "execution_count": 52,
   "metadata": {},
   "outputs": [
    {
     "data": {
      "image/png": "[encoded data removed]",
      "text/plain": [
       "<Figure size 432x288 with 2 Axes>"
      ]
     },
     "metadata": {
      "needs_background": "light"
     },
     "output_type": "display_data"
    }
   ],
   "source": [
    "plot_confusion_matrix(metrics[\"confusion_matrix\"], classes=[\"Harder\", \"Easier\"])"
   ]
  },
  {
   "cell_type": "code",
   "execution_count": 51,
   "metadata": {},
   "outputs": [
    {
     "name": "stdout",
     "output_type": "stream",
     "text": [
      "1\n",
      "\n",
      "accuracy: 0.518\n",
      "\n",
      "precision: \n",
      "\tall: ['0.547', '0.511']\n",
      "\tmicro: 0.518\n",
      "\tmacro: 0.529\n",
      "\tweighted: 0.529\n",
      "\t\n",
      "recall: \n",
      "\tall: ['0.212', '0.824']\n",
      "\tmicro: 0.518\n",
      "\tmacro: 0.518\n",
      "\tweighted: 0.518\n",
      "\t\n",
      "f1_measure: \n",
      "\tall: ['0.305', '0.631']\n",
      "\tmicro: 0.518\n",
      "\tmacro: 0.468\n",
      "\tweighted: 0.468\n",
      "\t\n",
      "support: \n",
      "\ty_true_dist: ['0.500', '0.500']\n",
      "\ty_true_count: 444.000\n",
      "\ty_predicted_dist: ['0.194', '0.806']\n",
      "\ty_predicted_count: 444.000\n",
      "\t\n",
      "\n"
     ]
    }
   ],
   "source": [
    "print(pretty_print_metrics(metrics))"
   ]
  },
  {
   "cell_type": "code",
   "execution_count": 58,
   "metadata": {
    "collapsed": true
   },
   "outputs": [],
   "source": [
    "original_premise =  \"A is made out of \" + \"temp\" + \\\n",
    "                    \", B is made out of \" + \"temp2\" + \\\n",
    "                    \" and \" + \"temp1\" + \" \""
   ]
  },
  {
   "cell_type": "code",
   "execution_count": null,
   "metadata": {
    "collapsed": true
   },
   "outputs": [],
   "source": []
  }
 ],
 "metadata": {
  "kernelspec": {
   "display_name": "Python 3",
   "language": "python",
   "name": "python3"
  },
  "language_info": {
   "codemirror_mode": {
    "name": "ipython",
    "version": 3
   },
   "file_extension": ".py",
   "mimetype": "text/x-python",
   "name": "python",
   "nbconvert_exporter": "python",
   "pygments_lexer": "ipython3",
   "version": "3.6.9"
  }
 },
 "nbformat": 4,
 "nbformat_minor": 4
}
